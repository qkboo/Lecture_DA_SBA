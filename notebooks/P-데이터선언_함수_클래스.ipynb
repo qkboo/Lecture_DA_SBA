{
 "cells": [
  {
   "cell_type": "markdown",
   "id": "e264e8cd-7536-45d9-a99e-e5052ba3845b",
   "metadata": {},
   "source": [
    "# 일반자료 구조\n",
    "\n",
    "학생 정보를 저장하고 출력 프로그램!"
   ]
  },
  {
   "cell_type": "code",
   "execution_count": 118,
   "id": "c956bf20-b839-4cce-a2c3-54235f1ec30a",
   "metadata": {},
   "outputs": [],
   "source": [
    "# 학생정보\n",
    "name = '홍길동'\n",
    "age = 20\n",
    "address = '서울'\n",
    "major = '컴'"
   ]
  },
  {
   "cell_type": "code",
   "execution_count": 121,
   "id": "656cdbe7-aa34-4e98-bcdb-c9ef2697574c",
   "metadata": {},
   "outputs": [],
   "source": [
    "student = {\n",
    "    'name' : name,\n",
    "    'age' : age,\n",
    "    'address' : address,\n",
    "    'major' : major\n",
    "}"
   ]
  },
  {
   "cell_type": "code",
   "execution_count": 122,
   "id": "6c2cf6f5-83b7-402e-881a-e106bde84555",
   "metadata": {},
   "outputs": [],
   "source": [
    "student1 = {\n",
    "    'name' : '김',\n",
    "    'adge' : 22,\n",
    "    'address' : '대전',\n",
    "    'major' : '금'\n",
    "}"
   ]
  },
  {
   "cell_type": "markdown",
   "id": "9286fa7d-f647-41d4-9393-34d78b80603d",
   "metadata": {},
   "source": [
    "### insert 하기"
   ]
  },
  {
   "cell_type": "code",
   "execution_count": 128,
   "id": "ed3967a6-5ed7-41f4-b0c7-151ddb36472e",
   "metadata": {},
   "outputs": [],
   "source": [
    "students = []  # 여러개!"
   ]
  },
  {
   "cell_type": "code",
   "execution_count": 129,
   "id": "19976e87-fd3f-4ecc-a596-46ddc1aad462",
   "metadata": {},
   "outputs": [
    {
     "ename": "IndexError",
     "evalue": "list assignment index out of range",
     "output_type": "error",
     "traceback": [
      "\u001b[0;31m---------------------------------------------------------------------------\u001b[0m",
      "\u001b[0;31mIndexError\u001b[0m                                Traceback (most recent call last)",
      "Input \u001b[0;32mIn [129]\u001b[0m, in \u001b[0;36m<cell line: 1>\u001b[0;34m()\u001b[0m\n\u001b[0;32m----> 1\u001b[0m students[\u001b[38;5;241m0\u001b[39m] \u001b[38;5;241m=\u001b[39m [student]\n",
      "\u001b[0;31mIndexError\u001b[0m: list assignment index out of range"
     ]
    }
   ],
   "source": [
    "students[0] = [student]"
   ]
  },
  {
   "cell_type": "code",
   "execution_count": 130,
   "id": "b1554af6-a1a1-4294-a90b-022cb74a966e",
   "metadata": {},
   "outputs": [],
   "source": [
    "students = [0] * 10 # 초기화! 10개 공간"
   ]
  },
  {
   "cell_type": "code",
   "execution_count": 131,
   "id": "8a36335a-2500-4b6b-a966-cf8a588652d4",
   "metadata": {},
   "outputs": [
    {
     "data": {
      "text/plain": [
       "[0, 0, 0, 0, 0, 0, 0, 0, 0, 0]"
      ]
     },
     "execution_count": 131,
     "metadata": {},
     "output_type": "execute_result"
    }
   ],
   "source": [
    "students"
   ]
  },
  {
   "cell_type": "code",
   "execution_count": 132,
   "id": "db12d398-4de6-404f-9c95-c9d9bc63816b",
   "metadata": {},
   "outputs": [],
   "source": [
    "students[0] = [student]"
   ]
  },
  {
   "cell_type": "code",
   "execution_count": 133,
   "id": "e0047164-79bf-445d-8871-0d375656c891",
   "metadata": {},
   "outputs": [],
   "source": [
    "students[1] = [student1]"
   ]
  },
  {
   "cell_type": "code",
   "execution_count": 136,
   "id": "1f8ffdf2-3069-4ac0-a47f-0b0b34d0a995",
   "metadata": {},
   "outputs": [
    {
     "data": {
      "text/plain": [
       "[[{'name': '홍길동', 'age': 20, 'address': '서울', 'major': '컴'}],\n",
       " [{'name': '김', 'adge': 22, 'address': '대전', 'major': '금'}],\n",
       " 0,\n",
       " 0,\n",
       " 0,\n",
       " 0,\n",
       " 0,\n",
       " 0,\n",
       " 0,\n",
       " 0]"
      ]
     },
     "execution_count": 136,
     "metadata": {},
     "output_type": "execute_result"
    }
   ],
   "source": [
    "students"
   ]
  },
  {
   "cell_type": "code",
   "execution_count": 137,
   "id": "bf25f0ed-4dc4-4e7a-aa41-7359d9edc02d",
   "metadata": {},
   "outputs": [],
   "source": [
    "student = {\n",
    "    'name' : '고길동',\n",
    "    'adge' : 55,\n",
    "    'address' : '부산',\n",
    "    'major' : '경제'\n",
    "}"
   ]
  },
  {
   "cell_type": "code",
   "execution_count": 138,
   "id": "d703bedf-5fe7-4634-a979-f2c1b3f8e13e",
   "metadata": {},
   "outputs": [],
   "source": [
    "students.append(student) #"
   ]
  },
  {
   "cell_type": "code",
   "execution_count": 140,
   "id": "ac7805b8-39e4-4dc7-84d8-8ff93fbfa048",
   "metadata": {},
   "outputs": [],
   "source": [
    "students.insert(9, student) #"
   ]
  },
  {
   "cell_type": "code",
   "execution_count": 141,
   "id": "ac4b7af9-d9cc-454b-ba17-bf86564a2eb0",
   "metadata": {},
   "outputs": [
    {
     "data": {
      "text/plain": [
       "[[{'name': '홍길동', 'age': 20, 'address': '서울', 'major': '컴'}],\n",
       " [{'name': '김', 'adge': 22, 'address': '대전', 'major': '금'}],\n",
       " 0,\n",
       " 0,\n",
       " 0,\n",
       " 0,\n",
       " 0,\n",
       " 0,\n",
       " 0,\n",
       " {'name': '고길동', 'adge': 55, 'address': '부산', 'major': '경제'},\n",
       " 0,\n",
       " {'name': '고길동', 'adge': 55, 'address': '부산', 'major': '경제'}]"
      ]
     },
     "execution_count": 141,
     "metadata": {},
     "output_type": "execute_result"
    }
   ],
   "source": [
    "students"
   ]
  },
  {
   "cell_type": "code",
   "execution_count": null,
   "id": "0c6949da-341d-462a-bdb3-a12e326e4f95",
   "metadata": {},
   "outputs": [
    {
     "data": {
      "text/plain": [
       "12"
      ]
     },
     "execution_count": 142,
     "metadata": {},
     "output_type": "execute_result"
    }
   ],
   "source": [
    "len(students)"
   ]
  },
  {
   "cell_type": "code",
   "execution_count": null,
   "id": "99d6a8be-0242-4795-b600-19afce2f69ef",
   "metadata": {},
   "outputs": [],
   "source": []
  },
  {
   "cell_type": "code",
   "execution_count": null,
   "id": "02c5328d-41be-423e-a4b5-6b081e6ed9b6",
   "metadata": {},
   "outputs": [],
   "source": []
  },
  {
   "cell_type": "code",
   "execution_count": 145,
   "id": "4a5db2a5-85fa-40ed-b39d-abc16ec74045",
   "metadata": {},
   "outputs": [],
   "source": [
    "student = {\n",
    "    'name' : '권순찬',\n",
    "    'adge' : 35,\n",
    "    'address' : '경산',\n",
    "    'major' : '경제'\n",
    "}"
   ]
  },
  {
   "cell_type": "code",
   "execution_count": 146,
   "id": "59d47594-e12a-45b0-9b30-d59319320c49",
   "metadata": {},
   "outputs": [],
   "source": [
    "students[:0] = [student] #"
   ]
  },
  {
   "cell_type": "code",
   "execution_count": 147,
   "id": "82e846b4-6747-41b6-b1b3-c2ec71365f4b",
   "metadata": {
    "collapsed": true,
    "jupyter": {
     "outputs_hidden": true
    },
    "tags": []
   },
   "outputs": [
    {
     "data": {
      "text/plain": [
       "[{'name': '권순찬', 'adge': 35, 'address': '경산', 'major': '경제'},\n",
       " {'name': '고길동', 'adge': 55, 'address': '부산', 'major': '경제'},\n",
       " [{'name': '홍길동', 'age': 20, 'address': '서울', 'major': '컴'}],\n",
       " [{'name': '김', 'adge': 22, 'address': '대전', 'major': '금'}],\n",
       " 0,\n",
       " 0,\n",
       " 0,\n",
       " 0,\n",
       " 0,\n",
       " 0,\n",
       " 0,\n",
       " {'name': '고길동', 'adge': 55, 'address': '부산', 'major': '경제'},\n",
       " 0,\n",
       " {'name': '고길동', 'adge': 55, 'address': '부산', 'major': '경제'}]"
      ]
     },
     "execution_count": 147,
     "metadata": {},
     "output_type": "execute_result"
    }
   ],
   "source": [
    "students"
   ]
  },
  {
   "cell_type": "code",
   "execution_count": null,
   "id": "f1f20c61-1a8a-4be1-8657-8da8c627065d",
   "metadata": {},
   "outputs": [],
   "source": []
  },
  {
   "cell_type": "code",
   "execution_count": null,
   "id": "39bd1705-e779-44b9-8b50-6b0d48d42b10",
   "metadata": {},
   "outputs": [],
   "source": []
  },
  {
   "cell_type": "code",
   "execution_count": 143,
   "id": "e046709f-1973-4809-a4ab-663d1e60a607",
   "metadata": {},
   "outputs": [],
   "source": [
    "students[:0:1] = [student]"
   ]
  },
  {
   "cell_type": "code",
   "execution_count": 144,
   "id": "2f26560b-bfc5-46ed-be87-2303d61b7023",
   "metadata": {},
   "outputs": [
    {
     "data": {
      "text/plain": [
       "[{'name': '고길동', 'adge': 55, 'address': '부산', 'major': '경제'},\n",
       " [{'name': '홍길동', 'age': 20, 'address': '서울', 'major': '컴'}],\n",
       " [{'name': '김', 'adge': 22, 'address': '대전', 'major': '금'}],\n",
       " 0,\n",
       " 0,\n",
       " 0,\n",
       " 0,\n",
       " 0,\n",
       " 0,\n",
       " 0,\n",
       " {'name': '고길동', 'adge': 55, 'address': '부산', 'major': '경제'},\n",
       " 0,\n",
       " {'name': '고길동', 'adge': 55, 'address': '부산', 'major': '경제'}]"
      ]
     },
     "execution_count": 144,
     "metadata": {},
     "output_type": "execute_result"
    }
   ],
   "source": [
    "students"
   ]
  },
  {
   "cell_type": "code",
   "execution_count": 56,
   "id": "71c3ed55-726b-44bf-a600-dc339a680430",
   "metadata": {},
   "outputs": [],
   "source": [
    "# insert\n",
    "students[:0:1] = [student1, student1]"
   ]
  },
  {
   "cell_type": "code",
   "execution_count": 57,
   "id": "6b4f4b45-0c50-4efb-9ead-b4eef549a37d",
   "metadata": {},
   "outputs": [
    {
     "data": {
      "text/plain": [
       "[{'name': '김', 'adge': 22, 'address': '대전', 'major': '금'},\n",
       " {'name': '김', 'adge': 22, 'address': '대전', 'major': '금'},\n",
       " {'name': '홍길동', 'adge': 20, 'address': '서울', 'major': '컴'}]"
      ]
     },
     "execution_count": 57,
     "metadata": {},
     "output_type": "execute_result"
    }
   ],
   "source": [
    "students"
   ]
  },
  {
   "cell_type": "code",
   "execution_count": 58,
   "id": "3227ba07-c4c8-426f-beac-005ead749eb2",
   "metadata": {},
   "outputs": [],
   "source": [
    "# replace\n",
    "students[0::1] = [student, student1]"
   ]
  },
  {
   "cell_type": "code",
   "execution_count": 59,
   "id": "ebac0ec8-9b43-4e16-9940-b2bf55fd5b5e",
   "metadata": {},
   "outputs": [
    {
     "data": {
      "text/plain": [
       "[{'name': '홍길동', 'adge': 20, 'address': '서울', 'major': '컴'},\n",
       " {'name': '김', 'adge': 22, 'address': '대전', 'major': '금'}]"
      ]
     },
     "execution_count": 59,
     "metadata": {},
     "output_type": "execute_result"
    }
   ],
   "source": [
    "students"
   ]
  },
  {
   "cell_type": "code",
   "execution_count": 150,
   "id": "b8302a28-f814-427f-b207-e590a719b57b",
   "metadata": {},
   "outputs": [],
   "source": [
    "student = {\n",
    "    'name' : '권순찬',\n",
    "    'age' : 35,\n",
    "    'address' : '경산',\n",
    "    'major' : '경제'\n",
    "}"
   ]
  },
  {
   "cell_type": "code",
   "execution_count": 153,
   "id": "abe43a52-65cb-4437-940c-e2f4f927830c",
   "metadata": {},
   "outputs": [
    {
     "data": {
      "text/plain": [
       "14"
      ]
     },
     "execution_count": 153,
     "metadata": {},
     "output_type": "execute_result"
    }
   ],
   "source": [
    "len(students)"
   ]
  },
  {
   "cell_type": "code",
   "execution_count": 151,
   "id": "edb9da76-fca6-43f5-9fcd-96f3713fe4d4",
   "metadata": {},
   "outputs": [],
   "source": [
    "students[5:8] = [student, student, student] #"
   ]
  },
  {
   "cell_type": "code",
   "execution_count": 152,
   "id": "cbb1aeed-50ae-4a5e-9184-dfcac9c00b88",
   "metadata": {},
   "outputs": [
    {
     "data": {
      "text/plain": [
       "[{'name': '권순찬', 'adge': 35, 'address': '경산', 'major': '경제'},\n",
       " {'name': '고길동', 'adge': 55, 'address': '부산', 'major': '경제'},\n",
       " [{'name': '홍길동', 'age': 20, 'address': '서울', 'major': '컴'}],\n",
       " [{'name': '김', 'adge': 22, 'address': '대전', 'major': '금'}],\n",
       " 0,\n",
       " {'name': '권순찬', 'age': 35, 'address': '경산', 'major': '경제'},\n",
       " {'name': '권순찬', 'age': 35, 'address': '경산', 'major': '경제'},\n",
       " {'name': '권순찬', 'age': 35, 'address': '경산', 'major': '경제'},\n",
       " 0,\n",
       " 0,\n",
       " 0,\n",
       " {'name': '고길동', 'adge': 55, 'address': '부산', 'major': '경제'},\n",
       " 0,\n",
       " {'name': '고길동', 'adge': 55, 'address': '부산', 'major': '경제'}]"
      ]
     },
     "execution_count": 152,
     "metadata": {},
     "output_type": "execute_result"
    }
   ],
   "source": [
    "students"
   ]
  },
  {
   "cell_type": "code",
   "execution_count": null,
   "id": "94cb51bf-7272-4ffa-9566-f3916b07d7ab",
   "metadata": {},
   "outputs": [],
   "source": []
  },
  {
   "cell_type": "markdown",
   "id": "42eec4d8-aeba-4e3a-a200-4b954b698c96",
   "metadata": {},
   "source": [
    "### insert(), append()"
   ]
  },
  {
   "cell_type": "code",
   "execution_count": null,
   "id": "778bddf2-8a88-452b-905a-94bd863700ee",
   "metadata": {},
   "outputs": [],
   "source": []
  },
  {
   "cell_type": "code",
   "execution_count": null,
   "id": "46549e35-7e29-4345-9ee0-328e3360b127",
   "metadata": {},
   "outputs": [],
   "source": []
  },
  {
   "cell_type": "code",
   "execution_count": null,
   "id": "06f40757-d7b5-4668-8561-0b5a59135f12",
   "metadata": {},
   "outputs": [],
   "source": []
  },
  {
   "cell_type": "markdown",
   "id": "a8b15bab-41f6-4852-b3d5-9078806f36ba",
   "metadata": {},
   "source": [
    "### append 하기"
   ]
  },
  {
   "cell_type": "code",
   "execution_count": 25,
   "id": "b4baf80e-a243-4f46-97ef-3c933d83f589",
   "metadata": {},
   "outputs": [],
   "source": [
    "# append\n",
    "students[:0] = [student]\n",
    "students[:0] = [student]\n",
    "students[:0] = [student]\n",
    "students[:0] = [student]\n",
    "students[:0] = [student]"
   ]
  },
  {
   "cell_type": "code",
   "execution_count": 26,
   "id": "18472173-a864-403e-80cc-d3d84d2e1061",
   "metadata": {},
   "outputs": [
    {
     "data": {
      "text/plain": [
       "[{'name': '홍길동', 'adge': 20, 'address': '서울', 'major': '컴'},\n",
       " {'name': '홍길동', 'adge': 20, 'address': '서울', 'major': '컴'},\n",
       " {'name': '홍길동', 'adge': 20, 'address': '서울', 'major': '컴'},\n",
       " {'name': '홍길동', 'adge': 20, 'address': '서울', 'major': '컴'},\n",
       " {'name': '홍길동', 'adge': 20, 'address': '서울', 'major': '컴'}]"
      ]
     },
     "execution_count": 26,
     "metadata": {},
     "output_type": "execute_result"
    }
   ],
   "source": [
    "students"
   ]
  },
  {
   "cell_type": "code",
   "execution_count": null,
   "id": "41151b0a-1b16-46b7-ac92-b8b675889e3e",
   "metadata": {},
   "outputs": [],
   "source": []
  },
  {
   "cell_type": "code",
   "execution_count": 30,
   "id": "efd12662-cae4-441b-af27-84425e6573ac",
   "metadata": {},
   "outputs": [],
   "source": [
    "student1 = {\n",
    "    'name' : '김',\n",
    "    'adge' : 22,\n",
    "    'address' : '대전',\n",
    "    'major' : '금'\n",
    "}\n",
    "student2 = {\n",
    "    'name' : '고',\n",
    "    'adge' : 23,\n",
    "    'address' : '부산',\n",
    "    'major' : '물'\n",
    "}"
   ]
  },
  {
   "cell_type": "code",
   "execution_count": 31,
   "id": "e946eaab-50a0-4cf6-b232-460de7502b48",
   "metadata": {},
   "outputs": [],
   "source": [
    "# 치환\n",
    "students[1:4] = [student1, student2]"
   ]
  },
  {
   "cell_type": "code",
   "execution_count": 32,
   "id": "81fd4be4-d145-4b87-b893-8676f656b653",
   "metadata": {},
   "outputs": [
    {
     "data": {
      "text/plain": [
       "[{'name': '홍길동', 'adge': 20, 'address': '서울', 'major': '컴'},\n",
       " {'name': '김', 'adge': 22, 'address': '대전', 'major': '금'},\n",
       " {'name': '고', 'adge': 23, 'address': '부산', 'major': '물'}]"
      ]
     },
     "execution_count": 32,
     "metadata": {},
     "output_type": "execute_result"
    }
   ],
   "source": [
    "students"
   ]
  },
  {
   "cell_type": "markdown",
   "id": "3d289f82-e3b7-4e7a-ad29-9afd06b376d2",
   "metadata": {},
   "source": [
    "### 삽입하기"
   ]
  },
  {
   "cell_type": "code",
   "execution_count": 33,
   "id": "cc5b382c-7280-4cc5-bc28-6db317f62a31",
   "metadata": {},
   "outputs": [
    {
     "data": {
      "text/plain": [
       "[{'name': '홍길동', 'adge': 20, 'address': '서울', 'major': '컴'},\n",
       " {'name': '김', 'adge': 22, 'address': '대전', 'major': '금'},\n",
       " {'name': '고', 'adge': 23, 'address': '부산', 'major': '물'}]"
      ]
     },
     "execution_count": 33,
     "metadata": {},
     "output_type": "execute_result"
    }
   ],
   "source": [
    "students"
   ]
  },
  {
   "cell_type": "code",
   "execution_count": 75,
   "id": "033151ba-6a68-46ed-ae06-96909e55554c",
   "metadata": {},
   "outputs": [],
   "source": [
    "student1 = {\n",
    "    'name' : '김',\n",
    "    'age' : 22,\n",
    "    'address' : '대전',\n",
    "    'major' : '금'\n",
    "}\n",
    "student2 = {\n",
    "    'name' : '고',\n",
    "    'age' : 23,\n",
    "    'address' : '부산',\n",
    "    'major' : '물'\n",
    "}"
   ]
  },
  {
   "cell_type": "code",
   "execution_count": 76,
   "id": "4e3310f6-bf72-457a-830d-0377f9573903",
   "metadata": {},
   "outputs": [
    {
     "ename": "IndexError",
     "evalue": "list assignment index out of range",
     "output_type": "error",
     "traceback": [
      "\u001b[0;31m---------------------------------------------------------------------------\u001b[0m",
      "\u001b[0;31mIndexError\u001b[0m                                Traceback (most recent call last)",
      "Input \u001b[0;32mIn [76]\u001b[0m, in \u001b[0;36m<cell line: 2>\u001b[0;34m()\u001b[0m\n\u001b[1;32m      1\u001b[0m \u001b[38;5;66;03m# 삽입\u001b[39;00m\n\u001b[0;32m----> 2\u001b[0m students[\u001b[38;5;241m2\u001b[39m] \u001b[38;5;241m=\u001b[39m [student1, student2]\n\u001b[1;32m      3\u001b[0m students\n",
      "\u001b[0;31mIndexError\u001b[0m: list assignment index out of range"
     ]
    }
   ],
   "source": [
    "# 삽입\n",
    "students[2] = [student1, student2]\n",
    "students"
   ]
  },
  {
   "cell_type": "code",
   "execution_count": null,
   "id": "70ed9c28-4662-42a7-a208-ca81d16c1e65",
   "metadata": {},
   "outputs": [],
   "source": []
  },
  {
   "cell_type": "markdown",
   "id": "f2b67ae3-31c1-4044-b5b3-e6c5ad1862eb",
   "metadata": {},
   "source": [
    "# 함수"
   ]
  },
  {
   "cell_type": "code",
   "execution_count": 154,
   "id": "b0cbba4f-2008-4626-9c4b-6741655e561b",
   "metadata": {},
   "outputs": [],
   "source": [
    "students = []"
   ]
  },
  {
   "cell_type": "code",
   "execution_count": 155,
   "id": "292493c3-2d7a-43c8-b841-d625a5ba9e5d",
   "metadata": {},
   "outputs": [
    {
     "data": {
      "text/plain": [
       "0"
      ]
     },
     "execution_count": 155,
     "metadata": {},
     "output_type": "execute_result"
    }
   ],
   "source": [
    "len(students)"
   ]
  },
  {
   "cell_type": "code",
   "execution_count": 156,
   "id": "9b07da8a-9dbf-43f9-9e2c-01c2462395cd",
   "metadata": {},
   "outputs": [
    {
     "data": {
      "text/plain": [
       "[]"
      ]
     },
     "execution_count": 156,
     "metadata": {},
     "output_type": "execute_result"
    }
   ],
   "source": [
    "students      # None"
   ]
  },
  {
   "cell_type": "code",
   "execution_count": 157,
   "id": "f3d6ea58-ff3d-4dad-9a02-ac72f5ee0f87",
   "metadata": {},
   "outputs": [],
   "source": [
    "student = {\n",
    "    'name' : '권순찬',\n",
    "    'age' : 35,\n",
    "    'address' : '경산',\n",
    "    'major' : '경제'\n",
    "}"
   ]
  },
  {
   "cell_type": "code",
   "execution_count": 146,
   "id": "41f7f73e-d4ba-4f26-af93-cccc7353b421",
   "metadata": {},
   "outputs": [],
   "source": [
    "students[:0] = [student] #"
   ]
  },
  {
   "cell_type": "markdown",
   "id": "325b028f-f1fb-4fed-956e-dc19f29ad3bf",
   "metadata": {},
   "source": [
    "### 학생 추가 함수 add_user()\n",
    " - "
   ]
  },
  {
   "cell_type": "code",
   "execution_count": 158,
   "id": "37eb59bc-bf26-4ca8-9437-5212daefced1",
   "metadata": {},
   "outputs": [],
   "source": [
    "def add_user(db:list, student:dict):\n",
    "    db.append(student)\n",
    "    \n",
    "add_user(student)"
   ]
  },
  {
   "cell_type": "code",
   "execution_count": 162,
   "id": "3b612afe-d2f8-40da-9d03-835987c30d76",
   "metadata": {
    "tags": []
   },
   "outputs": [],
   "source": [
    "def add_user(db:list, name:str, age:int, address:str, major:str):\n",
    "    student = {\n",
    "        'name' : name,\n",
    "        'age' : age,\n",
    "        'address' : address,\n",
    "        'major' : major\n",
    "    }\n",
    "    db.append(student)"
   ]
  },
  {
   "cell_type": "code",
   "execution_count": 161,
   "id": "6540d189-26d9-48f2-a609-39d4e9d6922e",
   "metadata": {
    "tags": []
   },
   "outputs": [],
   "source": [
    "def add_user( name:str, age:int, address:str, major:str):\n",
    "    student = {\n",
    "        'name' : name,\n",
    "        'age' : age,\n",
    "        'address' : address,\n",
    "        'major' : major\n",
    "    }\n",
    "    students.append(student)"
   ]
  },
  {
   "cell_type": "code",
   "execution_count": null,
   "id": "2213789b-0552-4287-acc6-17ab61f23d25",
   "metadata": {},
   "outputs": [],
   "source": []
  },
  {
   "cell_type": "code",
   "execution_count": 164,
   "id": "4d2719f6-7e8b-469a-8334-0c5de5665d7d",
   "metadata": {},
   "outputs": [],
   "source": [
    "def listall(db:list):\n",
    "    print(f'{\"이름\":10}{\"나이\":8}{\"주소\":30}{\"전공\":8}')\n",
    "    for i in db:\n",
    "        n = i['name']\n",
    "        a = i['age']\n",
    "        ad = i['address']\n",
    "        m = i['major']\n",
    "        print(f'{n:10}  {a:4}    {ad:30} {m:8}')"
   ]
  },
  {
   "cell_type": "code",
   "execution_count": 165,
   "id": "d8167c26-9750-448e-bd03-30567a028234",
   "metadata": {},
   "outputs": [],
   "source": [
    "add_user(students, name='홍길동', age=20, address='서울', major='컴')"
   ]
  },
  {
   "cell_type": "code",
   "execution_count": 166,
   "id": "b1b5efe4-8cce-4a75-abba-b6b709679d13",
   "metadata": {},
   "outputs": [],
   "source": [
    "add_user(students, '홍수연', 30, '대구','국')"
   ]
  },
  {
   "cell_type": "code",
   "execution_count": 167,
   "id": "319142fa-bd21-40be-ac64-e7c557b3a215",
   "metadata": {},
   "outputs": [
    {
     "name": "stdout",
     "output_type": "stream",
     "text": [
      "이름        나이      주소                            전공      \n",
      "홍길동           20    서울                             컴       \n",
      "홍수연           30    대구                             국       \n"
     ]
    }
   ],
   "source": [
    "listall(students)"
   ]
  },
  {
   "cell_type": "code",
   "execution_count": null,
   "id": "72c64897-2f67-4dab-84cf-9040b3468cea",
   "metadata": {},
   "outputs": [],
   "source": [
    "def update_student():\n",
    "    pass"
   ]
  },
  {
   "cell_type": "code",
   "execution_count": null,
   "id": "d728b6e7-cd92-4c7a-a097-0143ae73ae90",
   "metadata": {},
   "outputs": [],
   "source": [
    "def delete_student():\n",
    "    pass"
   ]
  },
  {
   "cell_type": "markdown",
   "id": "234f6bd1-b961-4836-a084-d989adc65f60",
   "metadata": {},
   "source": [
    "# 클래스"
   ]
  },
  {
   "cell_type": "code",
   "execution_count": null,
   "id": "7a66693b-5ae5-4cab-b980-572e061fbacf",
   "metadata": {},
   "outputs": [],
   "source": [
    "#  'name' : name,\n",
    "# 'age' : age,\n",
    "# 'address' : address,\n",
    "# 'major' : major"
   ]
  },
  {
   "cell_type": "code",
   "execution_count": 188,
   "id": "a840d532-67e1-45a1-ac64-b70fd9322810",
   "metadata": {},
   "outputs": [],
   "source": [
    "students = []"
   ]
  },
  {
   "cell_type": "code",
   "execution_count": 189,
   "id": "2ea44825-e322-4a7a-8e27-ed28dffdebdc",
   "metadata": {},
   "outputs": [],
   "source": [
    "class Student:\n",
    "    student_number = 1\n",
    "    def __init__(self, name, age, phone, address, major):\n",
    "        self.name = name\n",
    "        self.age = age\n",
    "        self.phone = phone\n",
    "        self.address = address\n",
    "        self.major = major\n",
    "        Student.student_number += 1\n",
    "        \n",
    "    def update(self, name, age, phone):\n",
    "        pass"
   ]
  },
  {
   "cell_type": "code",
   "execution_count": 182,
   "id": "cc2e47b4-bd3c-4d69-a225-f35e3894f85b",
   "metadata": {
    "tags": []
   },
   "outputs": [],
   "source": [
    "def add_user(db:list, s:Student):\n",
    "    db.append(s)"
   ]
  },
  {
   "cell_type": "code",
   "execution_count": 180,
   "id": "25608c12-0aa0-4790-824c-92d724fa480c",
   "metadata": {
    "tags": []
   },
   "outputs": [],
   "source": [
    "def listall(db:list):\n",
    "    print(f'{\"이름\":10}{\"나이\":8}{\"주소\":30}{\"전공\":8}')\n",
    "    for i in db:\n",
    "        n = i.name   # i['name'] X\n",
    "        a = i.age\n",
    "        ad = i.address\n",
    "        m = i.major\n",
    "        print(f'{n:10}  {a:4}    {ad:30} {m:8}')"
   ]
  },
  {
   "cell_type": "code",
   "execution_count": 190,
   "id": "983bfef4-7b45-435b-a022-fd54b7369fd2",
   "metadata": {
    "tags": []
   },
   "outputs": [],
   "source": [
    "s = Student('길영수',30,'101-1010', '서울', '컴퓨터')\n",
    "add_user(students, s)"
   ]
  },
  {
   "cell_type": "code",
   "execution_count": 191,
   "id": "b1e6108f-7f74-4bd5-a366-96269a04b476",
   "metadata": {},
   "outputs": [],
   "source": [
    "add_user(students, Student('수성동',33,'201-2010', '김포', '컴퓨터'))"
   ]
  },
  {
   "cell_type": "code",
   "execution_count": 192,
   "id": "e0353890-3378-4c98-935a-d1c98ee42dee",
   "metadata": {},
   "outputs": [
    {
     "name": "stdout",
     "output_type": "stream",
     "text": [
      "이름        나이      주소                            전공      \n",
      "길영수           30    서울                             컴퓨터     \n",
      "수성동           33    김포                             컴퓨터     \n"
     ]
    }
   ],
   "source": [
    "listall(students)"
   ]
  },
  {
   "cell_type": "code",
   "execution_count": null,
   "id": "4922d909-f0e3-4248-8414-151f6dd3b013",
   "metadata": {},
   "outputs": [],
   "source": []
  }
 ],
 "metadata": {
  "kernelspec": {
   "display_name": "Python 3 (ipykernel)",
   "language": "python",
   "name": "python3"
  },
  "language_info": {
   "codemirror_mode": {
    "name": "ipython",
    "version": 3
   },
   "file_extension": ".py",
   "mimetype": "text/x-python",
   "name": "python",
   "nbconvert_exporter": "python",
   "pygments_lexer": "ipython3",
   "version": "3.10.3"
  }
 },
 "nbformat": 4,
 "nbformat_minor": 5
}
