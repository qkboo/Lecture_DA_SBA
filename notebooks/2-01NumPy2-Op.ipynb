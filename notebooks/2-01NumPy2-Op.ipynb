{
 "cells": [
  {
   "cell_type": "markdown",
   "metadata": {},
   "source": [
    "# Numpy 기본연산\n"
   ]
  },
  {
   "cell_type": "markdown",
   "metadata": {},
   "source": [
    "1. [Numpy 기본연산](#Numpy-기본연산)\n",
    "1. [내장 수학 함수](#내장-수학-함수)\n",
    "1. [행렬](#행렬)\n",
    "1. [난수 생성](#4.-난수-생성)\n",
    "1. [범위 벡터의 생성](#범위-벡터의-생성)\n",
    "1. [집합](#집합)\n",
    "\n",
    "> 2021/11"
   ]
  },
  {
   "cell_type": "code",
   "execution_count": null,
   "metadata": {},
   "outputs": [],
   "source": [
    "import numpy as np\n",
    "import pandas as pd\n",
    "\n",
    "import matplotlib.pyplot as plt\n",
    "\n",
    "# np.random.seed(12345)\n",
    "# PREVIOUS_MAX_ROWS = pd.options.display.max_rows\n",
    "# pd.options.display.max_rows = 20\n",
    "# np.set_printoptions(precision=4, suppress=True)"
   ]
  },
  {
   "cell_type": "markdown",
   "metadata": {
    "tags": []
   },
   "source": [
    "# 1. 내장 수학 함수\n",
    "\n",
    "\n",
    "- numpy는 배열 연산에 유용하게 사용되는 많은 함수를 제공\n",
    "- 배열 연산 함수 참조 : https://docs.scipy.org/doc/numpy/reference/routines.math.html"
   ]
  },
  {
   "cell_type": "markdown",
   "metadata": {},
   "source": [
    "### np.sum()\n",
    "\n",
    "[np.sum()](https://docs.scipy.org/doc/numpy/reference/generated/numpy.sum.html#numpy.sum)\n",
    "\n",
    "sum of array elements over a given axis\n",
    "```\n",
    "numpy.sum(a, axis=None, dtype=None, out=None, keepdims=<no value>, initial=<no value>)\n",
    " - a : array like\n",
    " - axis: axis[s] which a sum is performed.\n",
    "```\n"
   ]
  },
  {
   "cell_type": "code",
   "execution_count": null,
   "metadata": {},
   "outputs": [],
   "source": [
    "a = np.array([1,2,3])\n",
    "np.sum(a)"
   ]
  },
  {
   "cell_type": "code",
   "execution_count": null,
   "metadata": {},
   "outputs": [],
   "source": [
    "a = np.array([[1,2,3],[4,5,6]])\n",
    "np.sum(a)"
   ]
  },
  {
   "cell_type": "code",
   "execution_count": null,
   "metadata": {},
   "outputs": [],
   "source": [
    "a.sum(dtype=float)"
   ]
  },
  {
   "cell_type": "code",
   "execution_count": null,
   "metadata": {},
   "outputs": [],
   "source": [
    "np.sum([[0, 1], [0, 5]]) # 6"
   ]
  },
  {
   "cell_type": "code",
   "execution_count": null,
   "metadata": {},
   "outputs": [],
   "source": [
    "np.sum([[1, 1], [1, 5]]) # 8"
   ]
  },
  {
   "cell_type": "markdown",
   "metadata": {},
   "source": [
    "#### 축방향으로 연산"
   ]
  },
  {
   "cell_type": "code",
   "execution_count": null,
   "metadata": {},
   "outputs": [],
   "source": [
    "#axis\n",
    "np.sum([[0, 1], [0, 5]], axis=0)   # array([0, 6])"
   ]
  },
  {
   "cell_type": "code",
   "execution_count": null,
   "metadata": {},
   "outputs": [],
   "source": [
    "np.sum([[0, 1], [0, 5]], axis=1)    # array([1, 5])"
   ]
  },
  {
   "cell_type": "code",
   "execution_count": null,
   "metadata": {},
   "outputs": [],
   "source": [
    "np.sum([[1, 1], [0, 5]], axis=1)     #array([2, 5])"
   ]
  },
  {
   "cell_type": "markdown",
   "metadata": {},
   "source": []
  },
  {
   "cell_type": "code",
   "execution_count": null,
   "metadata": {},
   "outputs": [],
   "source": [
    "a = np.array([[1,2,3],[4,5,6]])"
   ]
  },
  {
   "cell_type": "code",
   "execution_count": null,
   "metadata": {},
   "outputs": [],
   "source": [
    "np.sum(a, axis=0)  # sum over rows for each of the 3 columns"
   ]
  },
  {
   "cell_type": "code",
   "execution_count": null,
   "metadata": {},
   "outputs": [],
   "source": [
    "np.sum([[1,2,3],[4,5,6]],axis=1) #sum over columns for each of the 2 rows"
   ]
  },
  {
   "cell_type": "markdown",
   "metadata": {},
   "source": [
    "### ex) 1~13 사이 숫자를 가진 4x3 배열을 생성하 Axis 방향 sum() 연산을 수행하자"
   ]
  },
  {
   "cell_type": "code",
   "execution_count": null,
   "metadata": {
    "scrolled": true
   },
   "outputs": [],
   "source": [
    "x = np.arange(1, 13).reshape(4, 3)\n",
    "print(x)"
   ]
  },
  {
   "cell_type": "code",
   "execution_count": null,
   "metadata": {},
   "outputs": [],
   "source": [
    "print(\"sum:\", x.sum()) # 기본적으로는 모든 요소의 합"
   ]
  },
  {
   "cell_type": "code",
   "execution_count": null,
   "metadata": {},
   "outputs": [],
   "source": [
    "# axis로 연산 함수를 적용할 축을 지정\n",
    "# axix=0, 각 열의 합산값(행의 방향)\n",
    "print(np.sum(x, axis=0)) # 각 열의 합산값(행의 방향)"
   ]
  },
  {
   "cell_type": "code",
   "execution_count": null,
   "metadata": {},
   "outputs": [],
   "source": [
    "# axis=1, 각 행의 합산값(열의 방향)\n",
    "print(np.sum(x, axis=1)) "
   ]
  },
  {
   "cell_type": "code",
   "execution_count": null,
   "metadata": {},
   "outputs": [],
   "source": [
    "print(\"sum:\", x.sum(axis=0)) # 기본적으로는 모든 요소의 합"
   ]
  },
  {
   "cell_type": "markdown",
   "metadata": {},
   "source": [
    "### np.sqrt()"
   ]
  },
  {
   "cell_type": "code",
   "execution_count": null,
   "metadata": {},
   "outputs": [],
   "source": [
    "a = np.array([1,2,3,3,2,5]).reshape(2,3) #2x3\n",
    "b = np.array([[-1,3,5],[1,4,2]])         #2x3"
   ]
  },
  {
   "cell_type": "code",
   "execution_count": null,
   "metadata": {},
   "outputs": [],
   "source": [
    "# 제곱근\n",
    "np.sqrt(a)"
   ]
  },
  {
   "cell_type": "code",
   "execution_count": null,
   "metadata": {},
   "outputs": [],
   "source": [
    "np.sqrt(b) # 실행 결과는?"
   ]
  },
  {
   "cell_type": "code",
   "execution_count": null,
   "metadata": {},
   "outputs": [],
   "source": [
    "b = np.array([[9,3,5],[1,4,2]])         #2x3\n",
    "np.sqrt(b)"
   ]
  },
  {
   "cell_type": "markdown",
   "metadata": {},
   "source": [
    "### 상관계수 corrcoef()"
   ]
  },
  {
   "cell_type": "code",
   "execution_count": null,
   "metadata": {},
   "outputs": [],
   "source": [
    "T = np.array([1.3, 4.5, 2.8, 3.9]) # temperature measurements\n",
    "P = np.array([2.7, 8.7, 4.7, 8.2]) # corresponding pressure measurements\n",
    "np.corrcoef([T,P]) # correlation matrix of temperature and pressure"
   ]
  },
  {
   "cell_type": "code",
   "execution_count": null,
   "metadata": {},
   "outputs": [],
   "source": [
    "np.corrcoef([T,P])[0,1]"
   ]
  },
  {
   "cell_type": "markdown",
   "metadata": {},
   "source": [
    "# 2. 배열(벡터) 연산\n",
    "\n",
    "- 기본적 수학 함수는 배열의 각 요소별로 동작\n",
    "- 연산자를 이용 동작하거나 numpy 함수 모듈을 이용하여 동작함"
   ]
  },
  {
   "attachments": {
    "9fb3b1fa-2c1e-47e3-b37b-6f2854ac7d53.png": {
     "image/png": "[encoded data removed]"
    }
   },
   "cell_type": "markdown",
   "metadata": {},
   "source": [
    "![image.png](attachment:9fb3b1fa-2c1e-47e3-b37b-6f2854ac7d53.png)"
   ]
  },
  {
   "cell_type": "code",
   "execution_count": null,
   "metadata": {},
   "outputs": [],
   "source": [
    "# 벡터\n",
    "a = np.array([2,1])\n",
    "print(a)"
   ]
  },
  {
   "cell_type": "code",
   "execution_count": null,
   "metadata": {},
   "outputs": [],
   "source": [
    "type(a)"
   ]
  },
  {
   "cell_type": "code",
   "execution_count": null,
   "metadata": {},
   "outputs": [],
   "source": [
    "# 2x1 벡터\n",
    "a = np.array([[1],[2]])\n",
    "a"
   ]
  },
  {
   "cell_type": "code",
   "execution_count": null,
   "metadata": {},
   "outputs": [],
   "source": [
    "a.shape"
   ]
  },
  {
   "cell_type": "markdown",
   "metadata": {},
   "source": [
    "2x2 벡터"
   ]
  },
  {
   "cell_type": "code",
   "execution_count": null,
   "metadata": {},
   "outputs": [],
   "source": [
    "x = np.arange(1, 5).reshape(2, 2)\n",
    "y = np.arange(5, 9).reshape(2, 2)"
   ]
  },
  {
   "cell_type": "code",
   "execution_count": null,
   "metadata": {},
   "outputs": [],
   "source": [
    "print(x)\n",
    "print(y)"
   ]
  },
  {
   "cell_type": "markdown",
   "metadata": {},
   "source": [
    "### 벡터의 사칙연산\n",
    "\n",
    "합과 차에 대한 연산"
   ]
  },
  {
   "cell_type": "code",
   "execution_count": null,
   "metadata": {},
   "outputs": [],
   "source": [
    "x = np.array([[3,4],[5,6]])\n",
    "y = np.array([[1,2],[2,1]])"
   ]
  },
  {
   "cell_type": "code",
   "execution_count": null,
   "metadata": {},
   "outputs": [],
   "source": [
    "# 배열과 배열의 합\n",
    "print(x + y)"
   ]
  },
  {
   "cell_type": "code",
   "execution_count": null,
   "metadata": {},
   "outputs": [],
   "source": [
    "print(np.add(x, y))"
   ]
  },
  {
   "cell_type": "code",
   "execution_count": null,
   "metadata": {},
   "outputs": [],
   "source": [
    "# 배열과 배열의 차\n",
    "print(x - y)\n",
    "print(np.subtract(x, y))\n"
   ]
  },
  {
   "cell_type": "markdown",
   "metadata": {},
   "source": [
    "numpy의 ndarray의 `*` 연산은 벡터의 브로드캐스팅을 다룬다."
   ]
  },
  {
   "cell_type": "code",
   "execution_count": null,
   "metadata": {},
   "outputs": [],
   "source": [
    "# 배열과 배열의 브로드캐스팅\n",
    "print(x * y)"
   ]
  },
  {
   "cell_type": "code",
   "execution_count": null,
   "metadata": {},
   "outputs": [],
   "source": [
    "print(np.multiply(x, y))"
   ]
  },
  {
   "cell_type": "code",
   "execution_count": null,
   "metadata": {},
   "outputs": [],
   "source": [
    "# 배열과 배열의 나눗셈\n",
    "print(x / y)\n",
    "print(np.divide(x, y))"
   ]
  },
  {
   "attachments": {
    "aa0e985a-f9b7-4638-924e-016a991216e5.png": {
     "image/png": "[encoded data removed]"
    }
   },
   "cell_type": "markdown",
   "metadata": {},
   "source": [
    "### 벡터의 스칼라 연산\n",
    "\n",
    "![image.png](attachment:aa0e985a-f9b7-4638-924e-016a991216e5.png)"
   ]
  },
  {
   "cell_type": "code",
   "execution_count": null,
   "metadata": {},
   "outputs": [],
   "source": [
    "x = np.arange(12).reshape(3, 4)\n",
    "print(x)"
   ]
  },
  {
   "cell_type": "code",
   "execution_count": null,
   "metadata": {},
   "outputs": [],
   "source": [
    "# 각 요소에 동일한 값을 더해 봅시다.\n",
    "print(x + 2)"
   ]
  },
  {
   "cell_type": "code",
   "execution_count": null,
   "metadata": {},
   "outputs": [],
   "source": [
    "x * 0.1"
   ]
  },
  {
   "cell_type": "markdown",
   "metadata": {},
   "source": [
    "### 벡터의 브로드캐스팅\n",
    "\n",
    "NumPy에서 배열의 실수배는 **브로드캐스팅** 이라 부르기도 한다.\n",
    "- numpy에서 shape가 다른 배열 혹은 배열과 스칼라 사이의 산술 연산이 가능하도록 하는 매커니즘\n",
    "- Universal Function이라고도 함"
   ]
  },
  {
   "cell_type": "code",
   "execution_count": null,
   "metadata": {},
   "outputs": [],
   "source": [
    "y = np.array([1, 2, 3, 4])\n",
    "print(y)"
   ]
  },
  {
   "cell_type": "code",
   "execution_count": null,
   "metadata": {},
   "outputs": [],
   "source": [
    "x.shape, y.shape"
   ]
  },
  {
   "cell_type": "code",
   "execution_count": null,
   "metadata": {},
   "outputs": [],
   "source": [
    "# 벡터와 벡터의 브로드캐스팅\n",
    "print(x + y)"
   ]
  },
  {
   "cell_type": "code",
   "execution_count": null,
   "metadata": {},
   "outputs": [],
   "source": [
    "x * y"
   ]
  },
  {
   "cell_type": "markdown",
   "metadata": {},
   "source": [
    "### 벡터의 크기\n",
    "\n",
    "\n",
    "\n",
    "벡터 $\\vec{AB}$ 를 크기로 표현하면 $|\\overrightarrow{AB}|$ 같이 표현해서 **벡터의 크기**를 나타내고, 스칼라 숫자 값이다. 특히 크기가 1인 벡터를 **단위벡터**라고하고, 크기가 0인 벡터를 영벡터라하고 $\\vec{0}$ 으로 나타낸다.\n",
    "\n",
    "> 참고: [벡터의 합과 크기](https://j1w2k3.tistory.com/552)"
   ]
  },
  {
   "cell_type": "code",
   "execution_count": null,
   "metadata": {},
   "outputs": [],
   "source": [
    "np.linalg.norm(x)"
   ]
  },
  {
   "cell_type": "markdown",
   "metadata": {},
   "source": [
    "### 벡터의 내적\n",
    "\n",
    "**벡터의 내적** 은 두 벡터의 방향과 힘에 대한 곱 연산의 하나로 여기서 내적은 **.** 을 사용해서 아래 같이 표현한다.\n",
    "\n",
    "$$\n",
    "\\vec{a} \\cdot \\vec{b} = \\left|\\vec{a}\\right| \\left|\\vec{b}\\right| cos\\theta \\quad \\longleftarrow 식2\n",
    "$$\n",
    "\n",
    "두 벡터를 내적하려면 다음과 같은 조건이 만족해야 한다.\n",
    "\n",
    " - 우선 두 벡터의 길이가 같아야 한다.\n",
    " - 앞의 벡터가 **행 벡터**이고 뒤의 벡터가 **열 벡터**야 한다.\n",
    " - 행렬 곱 A*B에 대해 A의 열의 수와 B의 행의 수가 같아야 한다.\n",
    " - 결국 A행과 B열의 개수를 가진다.\n",
    " - 단, 교환법칙은 성립하지 않는다."
   ]
  },
  {
   "cell_type": "markdown",
   "metadata": {},
   "source": [
    "<img src='https://i.ytimg.com/vi/IOf1o72aKDc/maxresdefault.jpg' width='400'>\n",
    "\n",
    "> https://www.youtube.com/watch?v=IOf1o72aKDc"
   ]
  },
  {
   "cell_type": "markdown",
   "metadata": {},
   "source": [
    "`numpy.dot()` 를 통해서 내적 계산이 가능하다."
   ]
  },
  {
   "cell_type": "code",
   "execution_count": null,
   "metadata": {},
   "outputs": [],
   "source": [
    "x = np.array([1,3])\n",
    "y = np.array([4,2])\n",
    "print(y.dot(x))"
   ]
  },
  {
   "attachments": {
    "0d0bab18-73fe-4374-890c-2ce74ad7edd0.png": {
     "image/png": "[encoded data removed]"
    }
   },
   "cell_type": "markdown",
   "metadata": {},
   "source": [
    "# 3. 행렬\n",
    "\n",
    "행렬의 이름은 보통 대문자로 (), \\[\\] 괄호에 표기한다.\n",
    "\n",
    "<img src='attachment:0d0bab18-73fe-4374-890c-2ce74ad7edd0.png' width=300>\n",
    "\n",
    "LaTex 행렬\n",
    " - bmatrix, cmatrix, pmatrix\n",
    " \n",
    "```LaTex\n",
    "$$\n",
    "A = \\begin{bmatrix} 1 & 2 & 3 \\\\ 4 & 5 & 6 \\end{bmatrix} \\\\\n",
    "A = \\begin{pmatrix} 1 & 2 & 3 \\\\ 4 & 5 & 6 \\end{pmatrix}\n",
    "$$\n",
    "```"
   ]
  },
  {
   "cell_type": "markdown",
   "metadata": {},
   "source": [
    "## 행렬의 종류\n",
    "\n",
    "**ndarray** 클래스 메서드를 사용해 배열과 벡터를 만들수 있다. 다차원 배열은 행렬로 다룰 수 있어서 파이썬으로 수치해석을 사용하는데 도움을 준다.\n",
    "\n",
    "또한 수학에서 행렬에 관해 알려져 있는 특징을 다음 함수를 통해서 직접 생성할 수 있다.\n",
    "\n",
    "- zeros: 제로 행렬\n",
    "- zeros() : 0으로 채워진 배열. 영 벡터/배열/행렬\n",
    "- ones() : 1로 채워진 배열. 원 행렬\n",
    "- zeros_like(), ones_like(): \n",
    "- eye() : 단위 행렬 생성\n",
    "- full() : 지정한 상수로 채워진 배열\n",
    "- empty() : 지정된 크기의 0으로 초기화된 배열 생성\n",
    "- empty_like() : 주어진 배열과 동일한 shape를 가친 초기화되지 않은 배열 생성\n",
    "- linspace(), logspace()\n",
    "- sum()\n",
    "- fratten()\n"
   ]
  },
  {
   "cell_type": "markdown",
   "metadata": {},
   "source": [
    "### 일 행렬\n",
    "\n",
    "np.ones((rows, columns)) 로 1로 채워진 일행렬을 생성할 수 있다."
   ]
  },
  {
   "cell_type": "code",
   "execution_count": null,
   "metadata": {},
   "outputs": [],
   "source": [
    "np.ones((3,2)) # 1로 채워진 3x2 크기 일 행렬를 생성한다."
   ]
  },
  {
   "cell_type": "code",
   "execution_count": null,
   "metadata": {},
   "outputs": [],
   "source": [
    "np.ones((2, 3, 4), dtype=\"i8\") # 2x3x4 3차원 행렬"
   ]
  },
  {
   "cell_type": "markdown",
   "metadata": {},
   "source": [
    "### 영 행렬\n",
    "\n",
    "zeros() 는 0으로 채워진 영 행렬을 생성해 준다."
   ]
  },
  {
   "cell_type": "code",
   "execution_count": null,
   "metadata": {},
   "outputs": [],
   "source": [
    "np.zeros((3,2)) # 0으로 채워진 3x2 크기 행렬"
   ]
  },
  {
   "cell_type": "markdown",
   "metadata": {},
   "source": [
    "### 대각 행렬\n",
    "\n",
    "대학행렬 Diagonal matrix는 대각성분 이외의 모든 성분이 **0**인 n차 정방행렬이다. \n",
    "\n",
    "  - 영행렬, 단위행렬, 항등행렬도 대각행렬에 속한다고 할 수 있다.\n",
    "  - 또한 대각행렬은 상삼각/하삼각행렬에 속한다고 할 수 있다\n",
    "\n",
    "diag() 함수로 생성시 대각성분만 제공한다.\n",
    "\n",
    "```\n",
    "np.diag((a,b,c,d))\n",
    "```\n",
    "."
   ]
  },
  {
   "cell_type": "code",
   "execution_count": null,
   "metadata": {},
   "outputs": [],
   "source": [
    "np.diag((4,5,6))"
   ]
  },
  {
   "cell_type": "markdown",
   "metadata": {},
   "source": [
    "### eye() 단위행렬\n",
    "\n",
    "단위행렬은 항등행렬이라고 하고 대각성분이 모두 1이고 그 외 성분은 0인 n차 정방행렬이다. 그러므로 단위행렬은 대각행렬 Diagonal 이기도 하다."
   ]
  },
  {
   "cell_type": "code",
   "execution_count": null,
   "metadata": {},
   "outputs": [],
   "source": [
    "np.eye(2) # 단위행렬"
   ]
  },
  {
   "cell_type": "markdown",
   "metadata": {},
   "source": [
    "### ones_like(), zeros_like()\n",
    "\n",
    "주어진 배열 혹은 리스트와 같은 크기의 일행렬, 영행렬 배열을 생성해 준다. 예를 들어 다음 같은 배열이 있으면\n"
   ]
  },
  {
   "cell_type": "code",
   "execution_count": null,
   "metadata": {},
   "outputs": [],
   "source": [
    "a = np.array( [ [1,2,3],[4,5,6]] )\n",
    "np.ones_like( a, dtype=\"float32\")"
   ]
  },
  {
   "cell_type": "code",
   "execution_count": null,
   "metadata": {},
   "outputs": [],
   "source": [
    "np.zeros_like( a, dtype=\"float32\")"
   ]
  },
  {
   "cell_type": "markdown",
   "metadata": {},
   "source": [
    "### empty() \n",
    "\n",
    "초기화 하지 않은 빈 배열 생성 - empty()로 생성되는 성분은 현재 메모리의 가비지 값으로 생성된다."
   ]
  },
  {
   "cell_type": "code",
   "execution_count": null,
   "metadata": {},
   "outputs": [],
   "source": [
    "np.empty([4,3]) # 4x3 빈 배열"
   ]
  },
  {
   "cell_type": "code",
   "execution_count": null,
   "metadata": {},
   "outputs": [],
   "source": [
    "arr = np.array([\n",
    "    [1, 2, 3],\n",
    "    [4, 5, 6]\n",
    "])\n",
    "el = np.empty_like(arr) # arr과 shape가 동일한 초기화 되지 않은 배열 생성\n",
    "print(el)\n",
    "print(arr.shape == el.shape) # shape는 동일한가?"
   ]
  },
  {
   "cell_type": "markdown",
   "metadata": {},
   "source": [
    "### full()\n",
    "\n",
    "주어진 상수로 채워진 배열 생성"
   ]
  },
  {
   "cell_type": "code",
   "execution_count": null,
   "metadata": {},
   "outputs": [],
   "source": [
    "a = np.full((2, 2), 7) # 2 * 2의 상수 7로 채워진 rank 2의 배열\n",
    "print(\"full:\", a)"
   ]
  },
  {
   "cell_type": "markdown",
   "metadata": {},
   "source": [
    "### ex) 연습 문제\n",
    "\n",
    "1. 영벡터, 일벡터, 정방행렬, 대각행렬, 항등행렬, 대칭행렬의 예를 하나씩 만들어본다.\n",
    "\n",
    "2. 위의 벡터와 행렬을 NumPy로 나타내 본다.\n"
   ]
  },
  {
   "cell_type": "markdown",
   "metadata": {},
   "source": [
    "## 행렬의 연산\n",
    "\n",
    "**ndarray** 클래스 메서드를 사용해 배열과 벡터를 만들수 있다. 다차원 배열은 행렬로 다룰 수 있어서 파이썬으로 수치해석을 사용하는데 도움을 준다.\n",
    " - https://ratsgo.github.io/linear%20algebra/2017/03/14/operations/\n",
    " - https://angeloyeo.github.io/2020/09/07/basic_vector_operation.html"
   ]
  },
  {
   "cell_type": "markdown",
   "metadata": {},
   "source": [
    "### 행렬 덧셈/뺄셈\n",
    "\n",
    "같은 크기를 가진 두 개의 벡터/행렬은 덧셈과 뺄셈을 할 수 있다. 벡터와 행렬의 같은 위치의 성분 끼리 연산을 하고 이런 연산을 요소별(Element-wise) 연산이라 한다."
   ]
  },
  {
   "cell_type": "code",
   "execution_count": null,
   "metadata": {},
   "outputs": [],
   "source": [
    "a = np.array([1,2,3,3,2,5]).reshape(2,3)\n",
    "b = np.array([[-1,1,5],[3,4,2]])\n",
    "print(a)\n",
    "print(b)"
   ]
  },
  {
   "cell_type": "code",
   "execution_count": null,
   "metadata": {},
   "outputs": [],
   "source": [
    "a + b"
   ]
  },
  {
   "cell_type": "code",
   "execution_count": null,
   "metadata": {},
   "outputs": [],
   "source": [
    "b - a"
   ]
  },
  {
   "cell_type": "markdown",
   "metadata": {},
   "source": [
    "### 행렬의 실수배"
   ]
  },
  {
   "cell_type": "code",
   "execution_count": null,
   "metadata": {},
   "outputs": [],
   "source": [
    "A = np.array([[50,40], [10,10]])\n",
    "0.8 * A"
   ]
  },
  {
   "cell_type": "markdown",
   "metadata": {},
   "source": [
    "### 전치연산 Transpose\n",
    "\n",
    "전치연산은 행렬의 행과 열을 전환하는 연산이다. 전치한 행렬은 T라는 위첨자를 붙여 표기한다."
   ]
  },
  {
   "cell_type": "code",
   "execution_count": null,
   "metadata": {},
   "outputs": [],
   "source": [
    "a = np.array([1,2,3,3,2,5]).reshape(2,3)\n",
    "b = np.array([[-1,1],[3,4],[5,2]])\n",
    "a"
   ]
  },
  {
   "cell_type": "markdown",
   "metadata": {},
   "source": [
    "2차원 행렬의 전치연산은 행과 열을 서로 바꾸는 것이다. **ndarray.T** 속성으로 전환이 가능하다. 그리고 transpose() 함수도 사용할 수 있다."
   ]
  },
  {
   "cell_type": "code",
   "execution_count": null,
   "metadata": {},
   "outputs": [],
   "source": [
    "a.T"
   ]
  },
  {
   "cell_type": "code",
   "execution_count": null,
   "metadata": {},
   "outputs": [],
   "source": [
    "a.transpose()"
   ]
  },
  {
   "cell_type": "code",
   "execution_count": null,
   "metadata": {},
   "outputs": [],
   "source": [
    "b.T"
   ]
  },
  {
   "cell_type": "markdown",
   "metadata": {},
   "source": [
    "전치한 2x3 행렬 두 개를 행렬곱으로 계산한다."
   ]
  },
  {
   "cell_type": "code",
   "execution_count": null,
   "metadata": {},
   "outputs": [],
   "source": [
    "np.dot(a.T, b.T)"
   ]
  },
  {
   "cell_type": "markdown",
   "metadata": {},
   "source": [
    "### 행렬의 곱연산\n",
    "\n",
    "- `*`, `multiply()` 는 기본적으로 요소의 곱\n",
    "- 일반적으로 행렬곱은 벡터의 내적, 벡터와 행렬의 곱, 행렬곱을 위해서는 dot 함수 사용한다.\n",
    "- dot 메서드는 모듈 함수, 배열 객체의 인스턴스 양쪽 모두 사용 가능\n",
    "- [행렬 곱셈의 성질, khan아카데미](https://ko.khanacademy.org/math/precalculus-new/x9e81a4f98389efdf:matrices)\n",
    "-  https://angeloyeo.github.io/2020/09/08/matrix_multiplication.html\n",
    "- https://j1w2k3.tistory.com/575"
   ]
  },
  {
   "attachments": {
    "2e1f1ce4-244e-45fc-893e-9bfadc746442.png": {
     "image/png": "[encoded data removed]"
    }
   },
   "cell_type": "markdown",
   "metadata": {},
   "source": [
    "내적(Dot Produt)는 기호로 `.` dot 기호를 쓴다. 벡터의 내적을 구하는 방법에서 각 성분의 좌표값을 곱해서 더하는 것이다.\n",
    "\n",
    "![image.png](attachment:2e1f1ce4-244e-45fc-893e-9bfadc746442.png)"
   ]
  },
  {
   "cell_type": "markdown",
   "metadata": {},
   "source": [
    "넘파이에서 벡터와 행렬의 내적은 `dot()`이라는 명령 또는 Python3.5 이상은 `@`(at이라고 읽는다) 연산자로 계산한다. 2차원 배열로 표시한 벡터를 내적했을 때는 결과값이 스칼라가 아닌 2차원 배열이다."
   ]
  },
  {
   "cell_type": "code",
   "execution_count": null,
   "metadata": {},
   "outputs": [],
   "source": [
    "# numpy 행렬 곱 연습\n",
    "v1 = np.array([9, 10])\n",
    "v2 = np.array([11, 12])\n",
    "print(v1)\n",
    "print(v2)"
   ]
  },
  {
   "cell_type": "code",
   "execution_count": null,
   "metadata": {},
   "outputs": [],
   "source": [
    "# v1*v2 : 9 * 11 + 10 * 12\n",
    "print(v1.dot(v2))\n",
    "print(np.dot(v1, v2))"
   ]
  },
  {
   "cell_type": "markdown",
   "metadata": {},
   "source": [
    "#### 행렬과 벡터의 내적"
   ]
  },
  {
   "cell_type": "code",
   "execution_count": null,
   "metadata": {},
   "outputs": [],
   "source": [
    "# 행렬과 벡터의 곱\n",
    "x = np.arange(1, 5).reshape(2, 2)\n",
    "print(x)"
   ]
  },
  {
   "cell_type": "code",
   "execution_count": null,
   "metadata": {},
   "outputs": [],
   "source": [
    "print(\"행렬 * 벡터:\", x.dot(v1))\n",
    "print(\"행렬 * 벡터:\", np.dot(x, v1))"
   ]
  },
  {
   "cell_type": "markdown",
   "metadata": {},
   "source": [
    "#### 행렬과 행렬의 내적\n",
    "\n",
    "- 같은 차수를 가진 행렬\n",
    "- 곱하는 왼쪽 행렬의 열의 개수가 오른쪽 쪽 행렬의 행의 개수와 같은 경우"
   ]
  },
  {
   "cell_type": "code",
   "execution_count": null,
   "metadata": {},
   "outputs": [],
   "source": [
    "# 행렬과 행렬의 내적(중요)\n",
    "y = np.arange(5, 9).reshape(2, 2)\n",
    "print(x)\n",
    "print(y)"
   ]
  },
  {
   "cell_type": "code",
   "execution_count": null,
   "metadata": {},
   "outputs": [],
   "source": [
    "print(x.dot(y)) # 내적"
   ]
  },
  {
   "cell_type": "code",
   "execution_count": null,
   "metadata": {},
   "outputs": [],
   "source": [
    "print(np.dot(x, y))"
   ]
  },
  {
   "cell_type": "code",
   "execution_count": null,
   "metadata": {},
   "outputs": [],
   "source": [
    "x = np.array([[0,3,5],\n",
    "                 [5,5,2]])\n",
    "y = np.array([[3,4],\n",
    "                 [3,-2],\n",
    "                [4,-2]])\n",
    "print(x)\n",
    "print(y)"
   ]
  },
  {
   "cell_type": "code",
   "execution_count": null,
   "metadata": {},
   "outputs": [],
   "source": [
    "np.dot(x, y)"
   ]
  },
  {
   "cell_type": "markdown",
   "metadata": {},
   "source": [
    "# 4. 난수 생성\n",
    "\n",
    "컴퓨터 모듈 등에서 난수를 발생하는 것은 어떤 계산식에 의해서 구한 값으로 유사 난수라고 한다. 유사 난수는 어떤 문제를 발생할 수 있어 깊게 믿어서는 안된다.\n"
   ]
  },
  {
   "cell_type": "markdown",
   "metadata": {},
   "source": [
    "## Python `random 모듈`  사용"
   ]
  },
  {
   "cell_type": "code",
   "execution_count": null,
   "metadata": {},
   "outputs": [],
   "source": [
    "import random\n",
    "\n",
    "rand = [] \n",
    "\n",
    "for i in range(10):\n",
    "    rand.append(random.randint(0,100)) # 1～100의 범위에서 난수를 생성한다\n",
    "rand"
   ]
  },
  {
   "cell_type": "markdown",
   "metadata": {},
   "source": [
    "컴퓨터 모듈 등에서 난수를 발생하는 것은 어떤 계산식에 의해서 구한 값으로 *유사 난수*라고 한다. 유사 난수는 어떤 문제를 발생할 수 있어 깊게 믿어서는 안된다."
   ]
  },
  {
   "cell_type": "markdown",
   "metadata": {},
   "source": [
    "## `numpy.random 모듈` 사용\n",
    "\n",
    "- 임의의 수가 필요할 때, 혹은 전체 데이터를 기반으로 샘플링을 하고자 할 때는 난수가 필요\n",
    "- numpy의 난수 발생은 단순히 임의의 난수를 넘어 다양한 통계(분포:distribution) 기반의 샘플링을 위한 난수 기능을 다양하게 제공\n",
    "- random 패키지 내에 위치\n",
    "\n",
    "- 다양한 난수 메서드들\n",
    "\n",
    "    - randint() : 정수 난수 발생\n",
    "    - randn() : n차원 난수 발생\n",
    "    - binomial() : 이항분포\n",
    "    - hypergeometric() : 초기하분포\n",
    "    - poisson() : 포아송 분포\n",
    "    - normal() : 정규 분포\n",
    "    - standart_t() : t-분포\n",
    "    - uniform() : 균등분포\n",
    "    - f() : f-분포\n",
    "    \n",
    "    - seed() : 재현 가능성(Reproductibility)을 위한 난수 초기값 설정"
   ]
  },
  {
   "cell_type": "markdown",
   "metadata": {},
   "source": [
    "## 임의 정수/실수 난수 \n",
    "\n",
    "임의의 난수를 생성할 수 있다. \n",
    "- rand(): uniform 분포를 따르는 난수를 생성\n",
    " - randn(): 가우시안 정규 분포를 따르는 난수를 생성\n",
    "\n",
    "시드는 생성하려면 *np.random.seed* 명령을 사용한다."
   ]
  },
  {
   "cell_type": "markdown",
   "metadata": {},
   "source": [
    "### rand()"
   ]
  },
  {
   "cell_type": "code",
   "execution_count": null,
   "metadata": {},
   "outputs": [],
   "source": [
    "# 기본적인 난수 발생과 분포 기반 난수\n",
    "np.random.seed(0)\n",
    "np.random.rand(4)"
   ]
  },
  {
   "cell_type": "markdown",
   "metadata": {},
   "source": [
    "### randint()"
   ]
  },
  {
   "cell_type": "code",
   "execution_count": null,
   "metadata": {},
   "outputs": [],
   "source": [
    "np.random.seed(seed=42) # 재현 가능성을 위한 난수 초깃값\n",
    "\n",
    "# 정수 난수\n",
    "print(np.random.randint(10)) # 10이하의 정수난수\n",
    "print(np.random.randint(1, 101, 10)) # 1 ~ 100 사이의 정수 난수 10개 생성\n"
   ]
  },
  {
   "cell_type": "code",
   "execution_count": null,
   "metadata": {},
   "outputs": [],
   "source": [
    "np.random.seed(100)\n",
    "y = np.random.randint(1000,1200,80)\n",
    "x = np.arange(0,y.size)\n",
    "plt.plot(x, y)\n",
    "plt.show()"
   ]
  },
  {
   "cell_type": "markdown",
   "metadata": {},
   "source": [
    "### randn()"
   ]
  },
  {
   "cell_type": "code",
   "execution_count": null,
   "metadata": {},
   "outputs": [],
   "source": [
    "# n차원 난수 발생\n",
    "np.random.randn(4)"
   ]
  },
  {
   "cell_type": "code",
   "execution_count": null,
   "metadata": {},
   "outputs": [],
   "source": [
    "np.random.randn(3, 3) # 3 * 3의 난수 행렬 생성\n"
   ]
  },
  {
   "cell_type": "markdown",
   "metadata": {},
   "source": [
    "#### normal() 정규분포 난수"
   ]
  },
  {
   "cell_type": "code",
   "execution_count": null,
   "metadata": {},
   "outputs": [],
   "source": [
    "# 정규분포 데이터 x=0, y=5\n",
    "x = np.random.randn(100000)\n",
    "y = .4 * x + np.random.randn(100000) + 5\n",
    "\n",
    "plt.hist(x, bins=20)\n",
    "plt.show()"
   ]
  },
  {
   "cell_type": "code",
   "execution_count": null,
   "metadata": {},
   "outputs": [],
   "source": [
    "# 정규 분포 기반 난수 발생\n",
    "print(np.random.normal())\n",
    "\n",
    "# size 옵션 파라미터로 난수의 행렬 크기 지정할 수 있다\n",
    "print(np.random.normal(size=(2, 2))) # 2 * 2의 정규분포 기반 난수 행렬"
   ]
  },
  {
   "attachments": {
    "5bc28abf-117f-4c33-a089-9291768f8b56.png": {
     "image/png": "[encoded data removed]"
    }
   },
   "cell_type": "markdown",
   "metadata": {},
   "source": [
    "평균이 0이고 표준편차가 3인 정규 분포로부터 난수 100개 생성해서 히스토그램을 그려 봅니다: 정규 분포 기반이므로 종형 그래프가 나올 것\n",
    "\n",
    "![image.png](attachment:5bc28abf-117f-4c33-a089-9291768f8b56.png)"
   ]
  },
  {
   "cell_type": "markdown",
   "metadata": {},
   "source": [
    "평균이 0이고 표준편차가 3인 정규 분포로부터 난수 100개 생성해서 히스토그램을 그려 봅니다: 정규 분포 기반이므로 종형 그래프가 나올 것\n",
    "\n"
   ]
  },
  {
   "cell_type": "code",
   "execution_count": null,
   "metadata": {
    "tags": []
   },
   "outputs": [],
   "source": [
    "# 평균이 0이고 표준편차가 3인 정규 분포로부터 난수 100개 생성\n",
    "rand_norm = np.random.normal(0.0, # 평균\n",
    "                            3.0, # 표준편차\n",
    "                             size=100 # 표본의 갯수\n",
    "                            )\n",
    "print(rand_norm)"
   ]
  },
  {
   "cell_type": "code",
   "execution_count": null,
   "metadata": {},
   "outputs": [],
   "source": [
    "plt.hist(rand_norm)\n",
    "plt.show()"
   ]
  },
  {
   "cell_type": "markdown",
   "metadata": {},
   "source": [
    "### uniform()"
   ]
  },
  {
   "cell_type": "code",
   "execution_count": null,
   "metadata": {},
   "outputs": [],
   "source": [
    "# 랜덤한 수 얻기 (균일 분포)\n",
    "rand = np.random.uniform(0,1,size=(1,))\n",
    "rand"
   ]
  },
  {
   "cell_type": "markdown",
   "metadata": {},
   "source": [
    "## 범위 벡터의 생성\n",
    "    - arange() : 범위 값으로 배열 만들기\n",
    "    - linspace() : 선형 간격의 벡터 만들기\n",
    "    - logspace() : 로그 간격의 벡터 만들기"
   ]
  },
  {
   "cell_type": "markdown",
   "metadata": {},
   "source": [
    "#### linspace(), logspace()\n",
    "\n",
    "```\n",
    "linespace(start, end, count)\n",
    "logspace(start, end, count)\n",
    "```\n",
    "\n",
    "주어진 start-end 구간 사이에 count 만큼을 linspace()는 선형 구간을 logspace()는 로그 구간의 수 만큼 분할한다."
   ]
  },
  {
   "cell_type": "code",
   "execution_count": null,
   "metadata": {},
   "outputs": [],
   "source": [
    "np.linspace(0, 30, 5) # 시작, 끝, 갯수"
   ]
  },
  {
   "cell_type": "code",
   "execution_count": null,
   "metadata": {},
   "outputs": [],
   "source": [
    "np.logspace(0.1, 1, 20, endpoint=False) #"
   ]
  },
  {
   "cell_type": "code",
   "execution_count": null,
   "metadata": {},
   "outputs": [],
   "source": [
    "# 범위 벡터를 만들기 연습\n",
    "arr = np.arange(100) # 0부터 99까지의 범위 벡터\n",
    "print(arr)\n",
    "arr = np.linspace(0, 1, 100) # 0부터 1까지의 범위를 100개로 선형 분할\n",
    "print(arr)\n",
    "arr = np.logspace(0, 1, 100) # 0부터 1까지의 범위를 100개로 로그 분할\n",
    "print(arr)"
   ]
  },
  {
   "cell_type": "markdown",
   "metadata": {},
   "source": [
    "### 불균형 데이터 생성"
   ]
  },
  {
   "cell_type": "code",
   "execution_count": null,
   "metadata": {},
   "outputs": [],
   "source": [
    "이상치 샘플링"
   ]
  },
  {
   "cell_type": "code",
   "execution_count": null,
   "metadata": {},
   "outputs": [],
   "source": [
    "\"\"\"\n",
    "https://stackoverflow.com/questions/55351782/how-should-i-generate-outliers-randomly\n",
    "\"\"\"\n",
    "def generate(median=630, err=12, outlier_err=100, size=80, outlier_size=10):\n",
    "    errs = err * np.random.rand(size) * np.random.choice((-1, 1), size)\n",
    "    data = median + errs\n",
    "\n",
    "    lower_errs = outlier_err * np.random.rand(outlier_size)\n",
    "    lower_outliers = median - err - lower_errs\n",
    "\n",
    "    upper_errs = outlier_err * np.random.rand(outlier_size)\n",
    "    upper_outliers = median + err + upper_errs\n",
    "\n",
    "    data = np.concatenate((data, lower_outliers, upper_outliers))\n",
    "    np.random.shuffle(data)\n",
    "\n",
    "    return data"
   ]
  },
  {
   "cell_type": "markdown",
   "metadata": {},
   "source": [
    "# 5. 집합"
   ]
  },
  {
   "cell_type": "code",
   "execution_count": null,
   "metadata": {},
   "outputs": [],
   "source": [
    "# Unique\n",
    "names = np.array(['Bob','Joe','Will','Bob','Will','Joe','Joe'])\n",
    "np.unique(names)"
   ]
  },
  {
   "cell_type": "code",
   "execution_count": null,
   "metadata": {},
   "outputs": [],
   "source": [
    "# intersect 교집합\n",
    "np.intersect1d(names, np.array(['Bob', 'Hanna']))"
   ]
  },
  {
   "cell_type": "code",
   "execution_count": null,
   "metadata": {},
   "outputs": [],
   "source": [
    "# union 합집합\n",
    "np.union1d(names, np.array(['Bob', 'Hanna']))"
   ]
  },
  {
   "cell_type": "code",
   "execution_count": null,
   "metadata": {},
   "outputs": [],
   "source": [
    "# setdiff 차집합\n",
    "np.setdiff1d(names, np.array(['Bob', 'Hanna']))"
   ]
  },
  {
   "cell_type": "code",
   "execution_count": null,
   "metadata": {},
   "outputs": [],
   "source": [
    "# Xor\n",
    "np.setxor1d(names, np.array(['Bob', 'Hanna']))"
   ]
  }
 ],
 "metadata": {
  "kernelspec": {
   "display_name": "Python 3 (ipykernel)",
   "language": "python",
   "name": "python3"
  },
  "language_info": {
   "codemirror_mode": {
    "name": "ipython",
    "version": 3
   },
   "file_extension": ".py",
   "mimetype": "text/x-python",
   "name": "python",
   "nbconvert_exporter": "python",
   "pygments_lexer": "ipython3",
   "version": "3.10.3"
  }
 },
 "nbformat": 4,
 "nbformat_minor": 4
}
