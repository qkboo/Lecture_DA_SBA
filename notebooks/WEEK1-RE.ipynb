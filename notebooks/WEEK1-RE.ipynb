{
 "cells": [
  {
   "cell_type": "markdown",
   "id": "62e7155d-2c2b-44ca-bc38-78493efe82e9",
   "metadata": {},
   "source": [
    "# code block"
   ]
  },
  {
   "cell_type": "code",
   "execution_count": null,
   "id": "ea2d1946-ba70-4d68-a240-50c392bd60ba",
   "metadata": {},
   "outputs": [],
   "source": [
    "# 코드블럭.\n",
    "\n",
    "class a {\n",
    "    \n",
    "    \n",
    "} "
   ]
  },
  {
   "cell_type": "markdown",
   "id": "f31be0f5-a687-4c4b-b961-f4519d878717",
   "metadata": {},
   "source": [
    "Indentation, not braces\n",
    "\n",
    "```python\n",
    "for x in array:\n",
    "    if x < pivot:\n",
    "        less.append(x)\n",
    "    else:\n",
    "        greater.append(x)\n",
    "```"
   ]
  },
  {
   "cell_type": "code",
   "execution_count": 6,
   "id": "535b6314-b6a5-4e9d-bfec-27c25656b4b7",
   "metadata": {},
   "outputs": [
    {
     "name": "stdout",
     "output_type": "stream",
     "text": [
      "1\n",
      "2\n",
      "1\n",
      "2\n",
      "1\n",
      "2\n",
      "1\n",
      "2\n",
      "200\n",
      "10000\n"
     ]
    }
   ],
   "source": [
    "for x in [1,2,3,4] :  # code blocks\n",
    "    if x < 10:\n",
    "        pass\n",
    "    if x < 5 :\n",
    "        print(1)\n",
    "        print(2)\n",
    "        \n",
    "        \n",
    "print(200)\n",
    "print(10000)"
   ]
  },
  {
   "cell_type": "markdown",
   "id": "5be4be4e-85ef-4a7a-bcf9-c2477572782c",
   "metadata": {},
   "source": [
    "\n",
    "## [표현식과 구문]\n",
    "\n",
    "- 표현식은 실제 실행되어 하나의 값으로 처리하는 구문\n",
    "- 구문(statements)이란 프로그램 언어에서 특정한 로직을 처리해서 상태를 처리하는 구문\n",
    "- 보통 표현식을 처리한 후에 문장에 저장해서 처리\n"
   ]
  },
  {
   "cell_type": "markdown",
   "id": "6a152d3a-2abb-461a-9cb6-4732869487a7",
   "metadata": {},
   "source": [
    "#### 대입문\n",
    "\n",
    "- 특정 표현식/리터럴을 변수 등에 저장하는 연산자\n",
    "- 대입문 `=` 연산자로 지정한다"
   ]
  },
  {
   "cell_type": "markdown",
   "id": "849ea00c-b06d-4f77-907b-ad676711d7eb",
   "metadata": {},
   "source": [
    "변수 --> 객체 (Object)"
   ]
  },
  {
   "cell_type": "code",
   "execution_count": 18,
   "id": "5084c0f7-1b11-46b2-b263-e3f49756c45d",
   "metadata": {},
   "outputs": [],
   "source": [
    "variable = 1000  # 표현식!!!"
   ]
  },
  {
   "cell_type": "markdown",
   "id": "ec2b9376-b427-40e8-bd58-17478602fee2",
   "metadata": {},
   "source": [
    "### 리터럴"
   ]
  },
  {
   "cell_type": "code",
   "execution_count": 1,
   "id": "d3e09bcc-9e0d-46e2-8230-12f8d618fe10",
   "metadata": {},
   "outputs": [],
   "source": [
    "variable = 1000"
   ]
  },
  {
   "cell_type": "code",
   "execution_count": 2,
   "id": "37bee75f-a903-4d7b-8fb4-891fe0af1d6a",
   "metadata": {},
   "outputs": [],
   "source": [
    "variable = '안녕하세요'"
   ]
  },
  {
   "cell_type": "code",
   "execution_count": 3,
   "id": "3913f0df-c5d6-46b1-b7c6-63b8eb3e8ef6",
   "metadata": {},
   "outputs": [],
   "source": [
    "obj =  variable"
   ]
  },
  {
   "cell_type": "markdown",
   "id": "52c22e12-0f97-4abf-911a-79d8f1d1dd0c",
   "metadata": {},
   "source": [
    "### 객체와 연산"
   ]
  },
  {
   "cell_type": "code",
   "execution_count": 4,
   "id": "594eb622-119c-44a8-9cb5-b13436e2bac2",
   "metadata": {},
   "outputs": [
    {
     "data": {
      "text/plain": [
       "str"
      ]
     },
     "execution_count": 4,
     "metadata": {},
     "output_type": "execute_result"
    }
   ],
   "source": [
    "# class 속성\n",
    "obj.__class__"
   ]
  },
  {
   "cell_type": "code",
   "execution_count": 5,
   "id": "8d74edbf-1f1b-4774-b723-4d6993cd63b6",
   "metadata": {},
   "outputs": [],
   "source": [
    "variable = 1000"
   ]
  },
  {
   "cell_type": "code",
   "execution_count": 6,
   "id": "a62e712a-26bb-4bf5-9681-2646a808158b",
   "metadata": {},
   "outputs": [
    {
     "data": {
      "text/plain": [
       "1001"
      ]
     },
     "execution_count": 6,
     "metadata": {},
     "output_type": "execute_result"
    }
   ],
   "source": [
    "variable + 1"
   ]
  },
  {
   "cell_type": "code",
   "execution_count": 7,
   "id": "e8694a18-d08d-4585-b568-0027663f3203",
   "metadata": {},
   "outputs": [
    {
     "data": {
      "text/plain": [
       "2000"
      ]
     },
     "execution_count": 7,
     "metadata": {},
     "output_type": "execute_result"
    }
   ],
   "source": [
    "variable + variable"
   ]
  },
  {
   "cell_type": "code",
   "execution_count": 8,
   "id": "4323cc09-8375-45f1-a8f5-57ac4d3a23a4",
   "metadata": {},
   "outputs": [
    {
     "data": {
      "text/plain": [
       "'안녕하세요 쥬피터 노트북'"
      ]
     },
     "execution_count": 8,
     "metadata": {},
     "output_type": "execute_result"
    }
   ],
   "source": [
    "obj = \"안녕하세요\" + ' 쥬피터 노트북'\n",
    "obj"
   ]
  },
  {
   "cell_type": "code",
   "execution_count": 9,
   "id": "c0428109-3811-407a-8b94-f302b8803559",
   "metadata": {},
   "outputs": [
    {
     "ename": "TypeError",
     "evalue": "can only concatenate str (not \"int\") to str",
     "output_type": "error",
     "traceback": [
      "\u001b[0;31m---------------------------------------------------------------------------\u001b[0m",
      "\u001b[0;31mTypeError\u001b[0m                                 Traceback (most recent call last)",
      "Cell \u001b[0;32mIn [9], line 1\u001b[0m\n\u001b[0;32m----> 1\u001b[0m \u001b[43mobj\u001b[49m\u001b[43m \u001b[49m\u001b[38;5;241;43m+\u001b[39;49m\u001b[43m \u001b[49m\u001b[38;5;241;43m1\u001b[39;49m\n",
      "\u001b[0;31mTypeError\u001b[0m: can only concatenate str (not \"int\") to str"
     ]
    }
   ],
   "source": [
    "obj + 1"
   ]
  },
  {
   "cell_type": "code",
   "execution_count": 10,
   "id": "a148790b-6e5c-4b62-9e48-5567177aaa50",
   "metadata": {},
   "outputs": [
    {
     "data": {
      "text/plain": [
       "'안녕하세요 쥬피터 노트북안녕하세요 쥬피터 노트북'"
      ]
     },
     "execution_count": 10,
     "metadata": {},
     "output_type": "execute_result"
    }
   ],
   "source": [
    "obj + obj"
   ]
  },
  {
   "cell_type": "code",
   "execution_count": 11,
   "id": "72a5831b-6dca-47a3-a1a9-50453314263e",
   "metadata": {},
   "outputs": [
    {
     "data": {
      "text/plain": [
       "'안녕하세요 쥬피터 노트북안녕하세요 쥬피터 노트북안녕하세요 쥬피터 노트북안녕하세요 쥬피터 노트북안녕하세요 쥬피터 노트북안녕하세요 쥬피터 노트북안녕하세요 쥬피터 노트북안녕하세요 쥬피터 노트북안녕하세요 쥬피터 노트북안녕하세요 쥬피터 노트북'"
      ]
     },
     "execution_count": 11,
     "metadata": {},
     "output_type": "execute_result"
    }
   ],
   "source": [
    "obj * 10"
   ]
  },
  {
   "cell_type": "markdown",
   "id": "063c0bed-ad7a-48f3-a8e7-d77201e88d98",
   "metadata": {
    "tags": []
   },
   "source": [
    "## 주석\n",
    "\n",
    "```python\n",
    "results = []\n",
    "for line in file_handle:\n",
    "    # keep the empty lines for now\n",
    "    # if len(line) == 0:\n",
    "    #   continue\n",
    "    results.append(line.replace('foo', 'bar'))\n",
    " ```"
   ]
  },
  {
   "cell_type": "code",
   "execution_count": 103,
   "id": "d658083c-06ea-49fa-84da-a41baf6613c3",
   "metadata": {},
   "outputs": [
    {
     "name": "stdout",
     "output_type": "stream",
     "text": [
      "hello\n"
     ]
    }
   ],
   "source": [
    "print(\n",
    "    # comment\n",
    "    # comment\n",
    "    # comment\n",
    "    \n",
    "    \"hello\"    # 10000 번째 에러가 발생!\n",
    ")"
   ]
  },
  {
   "cell_type": "markdown",
   "id": "d15920b3-4d4d-4aa8-9e68-a90b665ca1e1",
   "metadata": {},
   "source": [
    "## 예약어"
   ]
  },
  {
   "cell_type": "code",
   "execution_count": 147,
   "id": "f33b2102-3f81-4380-ad1e-34ac8cf15d88",
   "metadata": {},
   "outputs": [
    {
     "name": "stdout",
     "output_type": "stream",
     "text": [
      "예약어 목록: ['False', 'None', 'True', '__peg_parser__', 'and', 'as', 'assert', 'async', 'await', 'break', 'class', 'continue', 'def', 'del', 'elif', 'else', 'except', 'finally', 'for', 'from', 'global', 'if', 'import', 'in', 'is', 'lambda', 'nonlocal', 'not', 'or', 'pass', 'raise', 'return', 'try', 'while', 'with', 'yield']\n",
      "예약어 갯수: 36\n"
     ]
    }
   ],
   "source": [
    "import keyword\n",
    "\n",
    "print(\"예약어 목록:\", keyword.kwlist)\n",
    "print(\"예약어 갯수:\", len(keyword.kwlist))"
   ]
  },
  {
   "cell_type": "markdown",
   "id": "eae12273-9f62-45fb-8eb6-80702cd518b3",
   "metadata": {},
   "source": [
    "## 객체 식별자\n",
    "\n",
    " - 프로그램을 작성할 때 특정 값을 보관하는 영역을 지정 \n",
    " - 예약어를 제외한 이름으로 지정\n",
    " - 숫자로 시작할 수 없다\n",
    " - 변수는 문자, 숫자, `_`로 구성\n",
    " - 첫글자는 문자와 `_` 만 올 수 있다."
   ]
  },
  {
   "cell_type": "markdown",
   "id": "ccc438f3-6758-4002-8456-310ead8fe949",
   "metadata": {},
   "source": [
    "**파이썬 커뮤니티는 이름을 다음 같이 권장**:\n",
    "\n",
    "- 함수, 메서드, 속성은 under_lower 같이 선언.\n",
    "- 상수는 under_lower 혹은 대문자 - ALL_CAPS\n",
    "- 클래스는 캠멜 형태 - ThisIsClass \n",
    "- 애트리뷰트 - interface, _internal, __private\n"
   ]
  },
  {
   "attachments": {
    "9391263b-51eb-469f-8e2b-417d62e8ef98.png": {
     "image/png": "[encoded data removed]"
    }
   },
   "cell_type": "markdown",
   "id": "44c75212-4d11-478b-8896-6f1f5a881fa7",
   "metadata": {},
   "source": [
    "# 데이터 모델  --\n",
    "\n",
    "\n",
    "<img src='attachment:9391263b-51eb-469f-8e2b-417d62e8ef98.png' width=400>"
   ]
  },
  {
   "cell_type": "markdown",
   "id": "3e3d4ef0-a160-4ca6-b0da-98affa70021f",
   "metadata": {},
   "source": [
    "변수 : 값!!! 대입!!! --> 값!"
   ]
  },
  {
   "cell_type": "markdown",
   "id": "74ab3ba7-4172-4b75-8814-cb659560a645",
   "metadata": {},
   "source": [
    "객체 : 값 대입 -> 값 + 속성 / 행위"
   ]
  },
  {
   "cell_type": "code",
   "execution_count": 12,
   "id": "93f2b5f3-424b-406b-8460-9846a1d26bc0",
   "metadata": {},
   "outputs": [],
   "source": [
    "friend = \"Nam\""
   ]
  },
  {
   "cell_type": "code",
   "execution_count": 13,
   "id": "3fd2be7b-ac6f-4ea3-bcbd-6c6ead1d1ee3",
   "metadata": {},
   "outputs": [
    {
     "data": {
      "text/plain": [
       "str"
      ]
     },
     "execution_count": 13,
     "metadata": {},
     "output_type": "execute_result"
    }
   ],
   "source": [
    "friend.__class__"
   ]
  },
  {
   "cell_type": "code",
   "execution_count": 14,
   "id": "902c4ff7-b94f-4779-ab1a-d79dcc3f83ee",
   "metadata": {},
   "outputs": [
    {
     "data": {
      "text/plain": [
       "str"
      ]
     },
     "execution_count": 14,
     "metadata": {},
     "output_type": "execute_result"
    }
   ],
   "source": [
    "type(friend)   # friend.__class__"
   ]
  },
  {
   "cell_type": "code",
   "execution_count": 15,
   "id": "73afc511-952e-4e98-8c0e-6285fd41daa3",
   "metadata": {},
   "outputs": [
    {
     "data": {
      "text/plain": [
       "4593054576"
      ]
     },
     "execution_count": 15,
     "metadata": {},
     "output_type": "execute_result"
    }
   ],
   "source": [
    "id(friend)"
   ]
  },
  {
   "cell_type": "markdown",
   "id": "e111598a-fc29-4c82-a68d-b6b1971d7bbb",
   "metadata": {},
   "source": [
    "## Copy by refereces\n",
    "\n",
    " - 복사는 reference가 복사된다.\n",
    " - reference는 파이썬 Garbage Collection은 사용하지 않는 대입을 자동으로 관리해 준다."
   ]
  },
  {
   "cell_type": "code",
   "execution_count": 16,
   "id": "294458dd-35f6-4b54-baec-63dba9618b9c",
   "metadata": {},
   "outputs": [],
   "source": [
    "test = friend"
   ]
  },
  {
   "cell_type": "code",
   "execution_count": 17,
   "id": "3ecd4049-5419-4222-bdaa-328fbc5434ed",
   "metadata": {},
   "outputs": [
    {
     "data": {
      "text/plain": [
       "(4593054576, 4593054576)"
      ]
     },
     "execution_count": 17,
     "metadata": {},
     "output_type": "execute_result"
    }
   ],
   "source": [
    "id(test), id(friend)"
   ]
  },
  {
   "cell_type": "code",
   "execution_count": null,
   "id": "bd04995a-c878-420f-bb76-7a1bd2f87d1a",
   "metadata": {},
   "outputs": [],
   "source": [
    "dir(test)"
   ]
  },
  {
   "cell_type": "markdown",
   "id": "e7dc9e0d-13a7-422a-a091-93703e52a5ef",
   "metadata": {},
   "source": [
    "## import\n",
    "\n",
    "외부 모듈을 들여온다.\n",
    " - 모듈 (소스)\n",
    " - 패키지\n",
    "\n",
    "```python\n",
    "import numpy\n",
    "import numpy as np\n",
    "from numpy import ndarray\n",
    "```"
   ]
  },
  {
   "cell_type": "code",
   "execution_count": 18,
   "id": "ccf74f6d-252f-48b3-9105-c8bf903ce9ca",
   "metadata": {},
   "outputs": [],
   "source": [
    "import math"
   ]
  },
  {
   "cell_type": "code",
   "execution_count": 19,
   "id": "4014334f-b11b-4cf0-b6ca-5c1cd21b9fe8",
   "metadata": {},
   "outputs": [],
   "source": [
    "import math as m"
   ]
  },
  {
   "cell_type": "code",
   "execution_count": 20,
   "id": "26a85072-5510-4bf7-ac13-96e32fa3e701",
   "metadata": {},
   "outputs": [],
   "source": [
    "from math import acosh"
   ]
  },
  {
   "cell_type": "markdown",
   "id": "20dfe429-d1c1-4ea7-83b7-936aa1e92471",
   "metadata": {},
   "source": [
    "### Scala Types\n",
    " - 수치, 문자형 리터럴"
   ]
  },
  {
   "cell_type": "code",
   "execution_count": null,
   "id": "919f5b16-3fe4-495d-bc7b-5f1fb5348441",
   "metadata": {},
   "outputs": [],
   "source": [
    "100, 1.01, 10j"
   ]
  },
  {
   "cell_type": "markdown",
   "id": "2f0d6f49-67cd-4380-bcdb-873d55166470",
   "metadata": {},
   "source": [
    "### 내장 상수\n",
    "\n",
    "1. Ellipsis `...`\n",
    "    - Numpy Tutorial 참고\n",
    "1. False\n",
    "2. True\n",
    "3. None\n",
    "4. __debug__"
   ]
  },
  {
   "cell_type": "markdown",
   "id": "a830b27d-927c-4f74-9351-8c4f02c07966",
   "metadata": {},
   "source": [
    "### 2/8/16 진수"
   ]
  },
  {
   "cell_type": "code",
   "execution_count": 260,
   "id": "5a601764-37fa-4704-8e83-d2476ea2357a",
   "metadata": {},
   "outputs": [
    {
     "data": {
      "text/plain": [
       "42"
      ]
     },
     "execution_count": 260,
     "metadata": {},
     "output_type": "execute_result"
    }
   ],
   "source": [
    "# Bin\n",
    "0b101010"
   ]
  },
  {
   "cell_type": "code",
   "execution_count": 262,
   "id": "50ba9f23-120f-4ecb-a8da-a57be56bce50",
   "metadata": {},
   "outputs": [
    {
     "data": {
      "text/plain": [
       "7"
      ]
     },
     "execution_count": 262,
     "metadata": {},
     "output_type": "execute_result"
    }
   ],
   "source": [
    "# Octal\n",
    "0o07"
   ]
  },
  {
   "cell_type": "code",
   "execution_count": 263,
   "id": "4beebabe-5f39-4a37-b11e-54eae850ef66",
   "metadata": {},
   "outputs": [
    {
     "data": {
      "text/plain": [
       "8"
      ]
     },
     "execution_count": 263,
     "metadata": {},
     "output_type": "execute_result"
    }
   ],
   "source": [
    "0o10"
   ]
  },
  {
   "cell_type": "code",
   "execution_count": 264,
   "id": "f4c7ad75-250b-486f-be4a-314c51578478",
   "metadata": {},
   "outputs": [
    {
     "data": {
      "text/plain": [
       "int"
      ]
     },
     "execution_count": 264,
     "metadata": {},
     "output_type": "execute_result"
    }
   ],
   "source": [
    "type(0o07)"
   ]
  },
  {
   "cell_type": "code",
   "execution_count": null,
   "id": "1afec948-a29b-450d-a12a-2dd560e924bf",
   "metadata": {},
   "outputs": [],
   "source": [
    "# Hex\n",
    "0x3A        # 3*16"
   ]
  },
  {
   "cell_type": "code",
   "execution_count": null,
   "id": "5bd9ff13-277c-4d58-8db8-469bba65765e",
   "metadata": {},
   "outputs": [],
   "source": [
    "type(0x3A)"
   ]
  },
  {
   "cell_type": "code",
   "execution_count": 265,
   "id": "d35e2ac3-114f-493a-9977-ebce53d59fe7",
   "metadata": {},
   "outputs": [
    {
     "data": {
      "text/plain": [
       "16"
      ]
     },
     "execution_count": 265,
     "metadata": {},
     "output_type": "execute_result"
    }
   ],
   "source": [
    "0x10"
   ]
  },
  {
   "cell_type": "markdown",
   "id": "843844fb-4c04-4211-ab6b-1aa67e3fc8da",
   "metadata": {},
   "source": [
    "### 숫자형 내장 함수\n",
    "\n",
    "형 변환을 위한 데이터형 내장함수\n",
    " - int(), float(), complex(), bin(), hex(), oct()\n",
    "\n",
    "연산을 위한 내장 함수\n",
    " - pow(), mean(), abs()"
   ]
  },
  {
   "cell_type": "markdown",
   "id": "08586a84-1409-4d4a-885f-ac5ed8ed5246",
   "metadata": {},
   "source": [
    "### Type casting"
   ]
  },
  {
   "cell_type": "code",
   "execution_count": null,
   "id": "cc099964-759c-4aa6-b9cd-861187ce95b8",
   "metadata": {},
   "outputs": [],
   "source": [
    "s = '3.14159'\n",
    "fval = float(s)\n",
    "type(fval)\n",
    "int(fval)\n",
    "bool(fval)\n",
    "bool(0)"
   ]
  },
  {
   "cell_type": "markdown",
   "id": "41c6a0f2-b6f1-4e35-a270-b7c98b9f3946",
   "metadata": {},
   "source": [
    "## Boolean\n",
    "\n",
    "불(bool) 자료형이란 참(True)과 거짓(False)을 나타내는 자료형이다. 불 자료형은 다음의 2가지 값만을 가질 수 있다.\n",
    "\n",
    " - `True` : 참\n",
    " - `False` : 거짓\n",
    " \n",
    "`True`나 `False`는 파이썬의 예약어로 첫 문자를 항상 대문자로 사용해야 한다."
   ]
  },
  {
   "cell_type": "markdown",
   "id": "e2ebd8c6-e01a-4bc8-8741-ac40c10c81f2",
   "metadata": {},
   "source": [
    "## None"
   ]
  },
  {
   "cell_type": "code",
   "execution_count": 109,
   "id": "ea94f150-c71a-477c-88f1-226e1d2c2824",
   "metadata": {},
   "outputs": [],
   "source": [
    "a = None"
   ]
  },
  {
   "cell_type": "code",
   "execution_count": 110,
   "id": "a9260edc-5265-4ce6-867a-43350ddd68fc",
   "metadata": {},
   "outputs": [],
   "source": [
    "a"
   ]
  },
  {
   "cell_type": "code",
   "execution_count": 111,
   "id": "cc64db0f-dad6-4f62-8835-69f4370e7135",
   "metadata": {},
   "outputs": [
    {
     "data": {
      "text/plain": [
       "4536956336"
      ]
     },
     "execution_count": 111,
     "metadata": {},
     "output_type": "execute_result"
    }
   ],
   "source": [
    "id(a)"
   ]
  },
  {
   "cell_type": "code",
   "execution_count": 117,
   "id": "3aa2f6e5-819c-4c16-b9ee-abcf4f267088",
   "metadata": {},
   "outputs": [
    {
     "data": {
      "text/plain": [
       "4536956336"
      ]
     },
     "execution_count": 117,
     "metadata": {},
     "output_type": "execute_result"
    }
   ],
   "source": [
    "id(None)"
   ]
  },
  {
   "cell_type": "code",
   "execution_count": 113,
   "id": "5f02e138-d4b8-4fc0-994e-59724dc68a68",
   "metadata": {},
   "outputs": [
    {
     "data": {
      "text/plain": [
       "True"
      ]
     },
     "execution_count": 113,
     "metadata": {},
     "output_type": "execute_result"
    }
   ],
   "source": [
    "a is None"
   ]
  },
  {
   "cell_type": "code",
   "execution_count": 115,
   "id": "439ee7cd-fe04-4fea-ad82-6fbe3271fcab",
   "metadata": {},
   "outputs": [
    {
     "data": {
      "text/plain": [
       "True"
      ]
     },
     "execution_count": 115,
     "metadata": {},
     "output_type": "execute_result"
    }
   ],
   "source": [
    "b = 5\n",
    "b is not None"
   ]
  },
  {
   "cell_type": "code",
   "execution_count": 116,
   "id": "735576f8-914b-4cbf-a9e0-ef073a57e48a",
   "metadata": {},
   "outputs": [
    {
     "data": {
      "text/plain": [
       "NoneType"
      ]
     },
     "execution_count": 116,
     "metadata": {},
     "output_type": "execute_result"
    }
   ],
   "source": [
    "type(None)"
   ]
  },
  {
   "cell_type": "markdown",
   "id": "83946e98-0d00-483a-91b6-ed9b75df1e28",
   "metadata": {},
   "source": [
    "# Operators\n",
    "\n",
    "1. 사칙연산자\n",
    "1. 제곱\n",
    "1. 복합대입\n",
    "1. bit wise operator\n",
    "1. 멤버쉽 연산자\n",
    "1. 비교 연산자\n",
    "1. 논리연산자\n",
    "1. 동일 연산자"
   ]
  },
  {
   "cell_type": "markdown",
   "id": "024625be-7afe-4675-a5ec-8b8ca65dcfc9",
   "metadata": {},
   "source": [
    "## 사칙연산\n",
    "\n",
    "`+, -, *, /, //, %`\n",
    "\n",
    "integers 는 "
   ]
  },
  {
   "cell_type": "markdown",
   "id": "fc19591a-d586-4a2e-9f36-3d3fa1d23fdc",
   "metadata": {},
   "source": [
    "## 복합대입 연산자\n",
    "\n",
    "- 복합 대입 연산자는 연산과 할당을 합쳐놓은 것입니다.\n",
    "- 사용하면 식을 간결하게 사용이 가능합니다."
   ]
  },
  {
   "cell_type": "markdown",
   "id": "098c1ea4-33b7-4170-afef-5e35dded6ba7",
   "metadata": {},
   "source": [
    "\n",
    "복압대입 연산자\t| 동치\n",
    "------------ | ------------\n",
    "a += b |\ta = a + b\n",
    "a -= b |\ta = a - b\n",
    "a *= b | \ta = a * b\n",
    "a /= b |\ta = a / b\n",
    "a %= b |\ta = a % b\n",
    "a //= b |\ta = a // b\n",
    "a **= b\t| a = a ** b\n",
    "a &= b |\ta = a & b\n",
    "a |= b |\ta = a | b\n",
    "a^= b |\ta = a ^ b\n",
    "a <<= b |\ta = a << b\n",
    "a >>= b\t| a = a >>b"
   ]
  },
  {
   "cell_type": "markdown",
   "id": "93dd9741-fff4-4ba4-9186-a21feb3dac86",
   "metadata": {},
   "source": [
    "## Bitwise operators\n",
    "\n",
    "비트 연산자는 `&,|,^,~,<<,>>` 가 있다.\n",
    " - & : and\n",
    " - | : or\n",
    " - ^ : not\n",
    "\n",
    "```python\n",
    "<< : binary left shift\n",
    ">> : binary right shift\n",
    "&   : binary and\n",
    "|    : binary or\n",
    "^    : binary xor\n",
    "~    : binary one's comlement\n",
    "```"
   ]
  },
  {
   "cell_type": "code",
   "execution_count": null,
   "id": "23c6dd5e-ad8a-478a-ade1-5010ad2a66fc",
   "metadata": {},
   "outputs": [],
   "source": [
    "#  0011 1100\n",
    "#  0000 1101\n",
    "#&   00 1100\n",
    "#|   11 1101\n",
    "#^a 1100 0011"
   ]
  },
  {
   "cell_type": "markdown",
   "id": "beb6c116-2c41-4de0-944a-c09a80b5b471",
   "metadata": {},
   "source": [
    "### `<<, >>` : 쉬프트 연산자"
   ]
  },
  {
   "cell_type": "code",
   "execution_count": 186,
   "id": "9acae0db-71c4-4db2-8f1c-ca31a94a83f0",
   "metadata": {},
   "outputs": [
    {
     "name": "stdout",
     "output_type": "stream",
     "text": [
      "4\n",
      "1\n"
     ]
    }
   ],
   "source": [
    "print( 2 << 1) # 0010 -> 0100\n",
    "print( 2 >> 1) # 0010 -> 0001"
   ]
  },
  {
   "cell_type": "markdown",
   "id": "4fe52541-68ed-49fa-b48f-aec87fd6f20a",
   "metadata": {},
   "source": [
    "\n",
    "### `&` bit and, `^` : bit xor,  `|`: bit or\n"
   ]
  },
  {
   "cell_type": "code",
   "execution_count": null,
   "id": "cfe38020-a1e5-4267-8999-f038692115f3",
   "metadata": {},
   "outputs": [],
   "source": [
    "print( \"0010 & 0001 : %d\" % (2 & 1)) # 0010 & 0001 -> 0000"
   ]
  },
  {
   "cell_type": "code",
   "execution_count": 21,
   "id": "9c00262c-8657-401a-907d-95e34f1f5b7a",
   "metadata": {},
   "outputs": [
    {
     "data": {
      "text/plain": [
       "False"
      ]
     },
     "execution_count": 21,
     "metadata": {},
     "output_type": "execute_result"
    }
   ],
   "source": [
    "True & False"
   ]
  },
  {
   "cell_type": "code",
   "execution_count": 22,
   "id": "bb302473-0041-4071-90f2-c7e30a2becf4",
   "metadata": {},
   "outputs": [
    {
     "data": {
      "text/plain": [
       "True"
      ]
     },
     "execution_count": 22,
     "metadata": {},
     "output_type": "execute_result"
    }
   ],
   "source": [
    "True | False"
   ]
  },
  {
   "cell_type": "markdown",
   "id": "5b7b4af1-6515-41a5-8030-1fc7b8325b0a",
   "metadata": {},
   "source": [
    "## 멤버십 연산자 in\n",
    "\n",
    "iterable 한 개체를 사용해서 해당 객체의 요소, 즉 멤버인지를 판단시 `in` 연산자를 사용한다."
   ]
  },
  {
   "cell_type": "code",
   "execution_count": 194,
   "id": "057e0107-0ec1-4c0a-827a-6a7a86b9ef88",
   "metadata": {},
   "outputs": [],
   "source": [
    "pets=['dog','cat','ferret']"
   ]
  },
  {
   "cell_type": "code",
   "execution_count": 195,
   "id": "eeca6dab-362d-4cac-9380-ea69d05574af",
   "metadata": {},
   "outputs": [
    {
     "name": "stdout",
     "output_type": "stream",
     "text": [
      "['dog', 'cat', 'ferret']\n"
     ]
    }
   ],
   "source": [
    "print(pets)"
   ]
  },
  {
   "cell_type": "code",
   "execution_count": 196,
   "id": "1ece7ca8-816f-47ff-864d-7551fb2c82bc",
   "metadata": {},
   "outputs": [
    {
     "data": {
      "text/plain": [
       "False"
      ]
     },
     "execution_count": 196,
     "metadata": {},
     "output_type": "execute_result"
    }
   ],
   "source": [
    "'fox' in pets"
   ]
  },
  {
   "cell_type": "code",
   "execution_count": 197,
   "id": "320f4c7b-7006-4a29-a910-4dddaa5680fb",
   "metadata": {},
   "outputs": [
    {
     "data": {
      "text/plain": [
       "True"
      ]
     },
     "execution_count": 197,
     "metadata": {},
     "output_type": "execute_result"
    }
   ],
   "source": [
    "'dog' in pets"
   ]
  },
  {
   "cell_type": "markdown",
   "id": "0d23bed7-2f0f-4ebd-adfd-393a4155ba61",
   "metadata": {},
   "source": [
    "## 비교(관계) 연산자\n",
    "\n",
    "관계 연산자로 값의 비교(관계)를 판단한다. \n",
    "\n",
    " - `==` (같다), `!=` (같지 않다)\n",
    " - `>, >=, <, >=, <=, ==, <>, !=`\n",
    " - 비교 연산을 수행하면 bool (논리값: True, False) 을 통해 판다."
   ]
  },
  {
   "cell_type": "code",
   "execution_count": 201,
   "id": "b08ade1f-24b0-407b-86eb-647c0e3fd3f5",
   "metadata": {},
   "outputs": [
    {
     "data": {
      "text/plain": [
       "True"
      ]
     },
     "execution_count": 201,
     "metadata": {},
     "output_type": "execute_result"
    }
   ],
   "source": [
    "1 > 0"
   ]
  },
  {
   "cell_type": "code",
   "execution_count": 202,
   "id": "dac34a0f-6df2-4bbb-adaa-85b4ff42d12d",
   "metadata": {},
   "outputs": [
    {
     "data": {
      "text/plain": [
       "True"
      ]
     },
     "execution_count": 202,
     "metadata": {},
     "output_type": "execute_result"
    }
   ],
   "source": [
    "0 < 1"
   ]
  },
  {
   "cell_type": "code",
   "execution_count": 213,
   "id": "e3a3a99f-06b2-4160-84b4-c2bddae68d03",
   "metadata": {},
   "outputs": [
    {
     "data": {
      "text/plain": [
       "True"
      ]
     },
     "execution_count": 213,
     "metadata": {},
     "output_type": "execute_result"
    }
   ],
   "source": [
    "1 != 2"
   ]
  },
  {
   "cell_type": "code",
   "execution_count": 209,
   "id": "20f9489d-e2a7-4612-a313-113a4fef6c2e",
   "metadata": {},
   "outputs": [
    {
     "ename": "SyntaxError",
     "evalue": "invalid syntax (131274098.py, line 1)",
     "output_type": "error",
     "traceback": [
      "\u001b[0;36m  Cell \u001b[0;32mIn [209], line 1\u001b[0;36m\u001b[0m\n\u001b[0;31m    1 <> 2\u001b[0m\n\u001b[0m      ^\u001b[0m\n\u001b[0;31mSyntaxError\u001b[0m\u001b[0;31m:\u001b[0m invalid syntax\n"
     ]
    }
   ],
   "source": [
    "1 <> 2"
   ]
  },
  {
   "cell_type": "markdown",
   "id": "a28d7f0e-1949-4c2b-b48a-ae39003288d6",
   "metadata": {},
   "source": [
    "## 논리 연산자\n",
    "\n",
    "- not : 논리 부정 True <-> False\n",
    "- or : 논리합 - 둘 중의 하나만 True여도 True\n",
    "- and : 논리곱 - 둘 모두 True여야 True\n"
   ]
  },
  {
   "cell_type": "code",
   "execution_count": 222,
   "id": "136ed343-5a27-4f91-840f-a6b83eb8d4c0",
   "metadata": {},
   "outputs": [
    {
     "name": "stdout",
     "output_type": "stream",
     "text": [
      "False True\n"
     ]
    }
   ],
   "source": [
    "# 논리 연산자: not, and, or\n",
    "# 진리 값이 참이면 1, 거짓이면 0\n",
    "print(not 1, not 0)"
   ]
  },
  {
   "cell_type": "code",
   "execution_count": 225,
   "id": "a8fc4e3a-3a2d-485b-8e61-b0f11d718606",
   "metadata": {},
   "outputs": [
    {
     "name": "stdout",
     "output_type": "stream",
     "text": [
      "0\n"
     ]
    }
   ],
   "source": [
    "print(1 and 0)"
   ]
  },
  {
   "cell_type": "code",
   "execution_count": 226,
   "id": "4bdf27a4-9fd1-4f4d-a44a-a2618ecb39f7",
   "metadata": {},
   "outputs": [
    {
     "data": {
      "text/plain": [
       "10"
      ]
     },
     "execution_count": 226,
     "metadata": {},
     "output_type": "execute_result"
    }
   ],
   "source": [
    "1 and 10"
   ]
  },
  {
   "cell_type": "code",
   "execution_count": 227,
   "id": "c70bdba4-e4e9-4c8d-8b9e-579d01d60a54",
   "metadata": {},
   "outputs": [
    {
     "data": {
      "text/plain": [
       "5"
      ]
     },
     "execution_count": 227,
     "metadata": {},
     "output_type": "execute_result"
    }
   ],
   "source": [
    "-1 and 5"
   ]
  },
  {
   "cell_type": "markdown",
   "id": "f2054424-4dc2-43bc-a5f8-b873dcc6d40c",
   "metadata": {},
   "source": [
    "### `if [논리식][객체]`"
   ]
  },
  {
   "cell_type": "markdown",
   "id": "7a68768f-121a-4b65-8220-0139196e5c9c",
   "metadata": {},
   "source": [
    "### `if-else`"
   ]
  },
  {
   "cell_type": "markdown",
   "id": "123ae72f-1dc1-49d1-87a7-746aa0b4b085",
   "metadata": {},
   "source": [
    "### `if-elif`"
   ]
  },
  {
   "cell_type": "markdown",
   "id": "ca99c879-3e63-4104-8177-a81ee87ec858",
   "metadata": {},
   "source": [
    "### `if-elif-else`"
   ]
  },
  {
   "cell_type": "code",
   "execution_count": 308,
   "id": "813c38f2-882a-4b13-a3ce-17c0b8d7c3b3",
   "metadata": {
    "tags": []
   },
   "outputs": [
    {
     "name": "stdout",
     "output_type": "stream",
     "text": [
      "나는 None을(를) 살 수 있어요~~~\n"
     ]
    }
   ],
   "source": [
    "money = 40\n",
    "if money >= 1000:\n",
    "    i = '사과'\n",
    "elif money >= 500:\n",
    "    i = '귤'    \n",
    "elif money >= 300:\n",
    "    i = '감'\n",
    "else:\n",
    "    i = 'None'\n",
    "print(\"나는 %s을(를) 살 수 있어요~~~\" % i)"
   ]
  },
  {
   "cell_type": "markdown",
   "id": "cca33171-5bdb-489c-81ec-417366c55727",
   "metadata": {},
   "source": [
    "# loop"
   ]
  },
  {
   "cell_type": "code",
   "execution_count": 1,
   "id": "564b7227-4d3b-4ab4-865e-197bab6f5d6b",
   "metadata": {},
   "outputs": [
    {
     "name": "stdout",
     "output_type": "stream",
     "text": [
      "1\n",
      "2\n",
      "3\n",
      "4\n"
     ]
    }
   ],
   "source": [
    "for x in [1,2,3,4]:\n",
    "    print(x)"
   ]
  },
  {
   "cell_type": "code",
   "execution_count": 19,
   "id": "7c99ab29-8c35-44d5-9eea-bb773e28e3e5",
   "metadata": {},
   "outputs": [],
   "source": [
    "sum = 0\n",
    "for i in range(100000):\n",
    "    # % is the modulo operator\n",
    "    if i % 3 == 0 or i % 5 == 0:  # 3의 배수, 5의 배수\n",
    "        sum += i"
   ]
  },
  {
   "cell_type": "code",
   "execution_count": 2,
   "id": "ff2a0893-b863-4c08-83c0-160ec4801c36",
   "metadata": {},
   "outputs": [
    {
     "name": "stdout",
     "output_type": "stream",
     "text": [
      "0/2/4/6/8/10/12/14/16/18/20/22/24/26/28/30/32/34/36/38/40/42/44/46/48/50/52/54/56/58/60/62/64/66/68/70/72/74/76/78/80/82/84/86/88/90/92/94/96/98/100/"
     ]
    }
   ],
   "source": [
    "# 0~1000 까지 2의 배수를 \"/\" 구분자로 출력해 보세요.\n",
    "\n",
    "for i in range(0, 101):\n",
    "    if i % 2 == 0:\n",
    "        print(i, end='/')"
   ]
  },
  {
   "cell_type": "markdown",
   "id": "111fbf3a-477f-4348-9d8a-5b20ac95ca8f",
   "metadata": {},
   "source": [
    "## continue, break"
   ]
  },
  {
   "cell_type": "markdown",
   "id": "6e1d0a7e-ab05-4153-b2ee-34cfaaa6a8e0",
   "metadata": {},
   "source": [
    "```python\n",
    "sequence = [1, 2, None, 4, None, 5]\n",
    "total = 0\n",
    "for value in sequence:\n",
    "    if value is None:\n",
    "        continue\n",
    "    total += value\n",
    "```"
   ]
  },
  {
   "cell_type": "code",
   "execution_count": 17,
   "id": "3de8bf7e-8676-443c-a253-ffee035aa82c",
   "metadata": {},
   "outputs": [
    {
     "name": "stdin",
     "output_type": "stream",
     "text": [
      "숫자 입력:  1\n"
     ]
    },
    {
     "name": "stdout",
     "output_type": "stream",
     "text": [
      "OK\n"
     ]
    },
    {
     "name": "stdin",
     "output_type": "stream",
     "text": [
      "숫자 입력:  rk\n"
     ]
    },
    {
     "name": "stdout",
     "output_type": "stream",
     "text": [
      "문자가 입력됐네요. 끝냅니다\n"
     ]
    }
   ],
   "source": [
    "number = 0\n",
    "\n",
    "while number != 100:\n",
    "    i = input('숫자 입력: ')\n",
    "    if not i.isdigit():\n",
    "        print(\"문자가 입력됐네요. 끝냅니다\")\n",
    "        break\n",
    "        \n",
    "    number = int(i)\n",
    "    if number > 100:\n",
    "        print('100 보다 크다. 작은 수를 입력하세요')\n",
    "    else:\n",
    "        print('OK')"
   ]
  },
  {
   "cell_type": "markdown",
   "id": "2af52677-79f2-4614-9c2d-0ec57b9af2d3",
   "metadata": {},
   "source": [
    "## pass"
   ]
  },
  {
   "cell_type": "code",
   "execution_count": 1,
   "id": "05973364-374a-4250-be16-135e9ba3335b",
   "metadata": {},
   "outputs": [],
   "source": [
    "some_thing = None"
   ]
  },
  {
   "cell_type": "code",
   "execution_count": null,
   "id": "3914bf15-7c0d-4c74-a03e-b0e5f256244a",
   "metadata": {},
   "outputs": [],
   "source": [
    "#....\n",
    "some_thing = 1000.0"
   ]
  },
  {
   "cell_type": "markdown",
   "id": "8e33c66b-867c-4391-973c-95f4553bab62",
   "metadata": {},
   "source": [
    "```python\n",
    "if x < 0:\n",
    "    print('negative!')\n",
    "elif x == 0:\n",
    "    # TODO: put something smart here\n",
    "    pass\n",
    "else:\n",
    "    print('positive!')\n",
    "```"
   ]
  },
  {
   "cell_type": "code",
   "execution_count": 7,
   "id": "e1dd60e4-3e72-4be8-a027-d81df4b05cef",
   "metadata": {},
   "outputs": [
    {
     "name": "stdout",
     "output_type": "stream",
     "text": [
      "positive!\n"
     ]
    }
   ],
   "source": [
    "x = 100\n",
    "if x < 0:\n",
    "    print('negative!')\n",
    "elif x == 0:\n",
    "    pass\n",
    "else:\n",
    "    print('positive!')"
   ]
  },
  {
   "cell_type": "code",
   "execution_count": 9,
   "id": "e5e8a11b-e302-48ba-b510-0dd310a69106",
   "metadata": {},
   "outputs": [
    {
     "name": "stdout",
     "output_type": "stream",
     "text": [
      "4950\n"
     ]
    }
   ],
   "source": [
    "x = 0\n",
    "for i in range(100):\n",
    "    if i % 3 == 0:\n",
    "        pass\n",
    "    x += i\n",
    "    \n",
    "print(x)"
   ]
  },
  {
   "cell_type": "markdown",
   "id": "3c674591-3635-400e-af22-ba129c922c27",
   "metadata": {},
   "source": [
    "# 튜플\n",
    "\n",
    "- 리스트와 거의 동일, 불변자료형 (Immutable)\n",
    "- 순차자료형 : 길이, 포함여부 확인\n",
    "-   인덱스 접근, 슬라이싱 모두 가능\n",
    "-   연결, 반복 모두 가능\n",
    "-   내용 변경, 슬라이싱 이용 치환, 삭제 모두 불가\n"
   ]
  },
  {
   "cell_type": "code",
   "execution_count": 9,
   "id": "5e71a2d2-232f-4547-ae71-7e6c22ef65c7",
   "metadata": {},
   "outputs": [],
   "source": [
    "tp = tuple() # 공튜플"
   ]
  },
  {
   "cell_type": "code",
   "execution_count": 3,
   "id": "7cf828b6-c483-44a1-b55e-c8f68d3b8f5d",
   "metadata": {},
   "outputs": [
    {
     "data": {
      "text/plain": [
       "(1, 2, 3, 4)"
      ]
     },
     "execution_count": 3,
     "metadata": {},
     "output_type": "execute_result"
    }
   ],
   "source": [
    "1,2,3,4"
   ]
  },
  {
   "cell_type": "code",
   "execution_count": 33,
   "id": "011c20e7-aac3-4ca5-9863-db30d199def2",
   "metadata": {},
   "outputs": [],
   "source": [
    "tp3 = (1,) # 항목이 하나일 경우 반드시 콤마"
   ]
  },
  {
   "cell_type": "code",
   "execution_count": 29,
   "id": "1b00c085-72aa-4e6d-89bd-5155f1f48fd9",
   "metadata": {},
   "outputs": [
    {
     "name": "stdout",
     "output_type": "stream",
     "text": [
      "tuple!!!\n"
     ]
    }
   ],
   "source": [
    "if tp3:\n",
    "    print('tuple!!!')"
   ]
  },
  {
   "cell_type": "code",
   "execution_count": 49,
   "id": "7c663258-2bd6-4721-bac0-dfcb2a0bc3ab",
   "metadata": {},
   "outputs": [
    {
     "data": {
      "text/plain": [
       "(1, 2)"
      ]
     },
     "execution_count": 49,
     "metadata": {},
     "output_type": "execute_result"
    }
   ],
   "source": [
    "a, b, c, d, e = 1, 2, 'a', 'F', 1000    # 언-패킹!!!\n",
    "a, b"
   ]
  },
  {
   "cell_type": "markdown",
   "id": "c8560df4-2ee2-4d0c-b83f-d5cbbd9ee8b2",
   "metadata": {},
   "source": [
    "## index, slicing"
   ]
  },
  {
   "cell_type": "code",
   "execution_count": 59,
   "id": "b751bb7c-86fa-448c-a178-d638e5d1fd5c",
   "metadata": {},
   "outputs": [
    {
     "data": {
      "text/plain": [
       "('One', 'Two', 'Three')"
      ]
     },
     "execution_count": 59,
     "metadata": {},
     "output_type": "execute_result"
    }
   ],
   "source": [
    "# index\n",
    "t3[2]"
   ]
  },
  {
   "cell_type": "code",
   "execution_count": 60,
   "id": "36c235e4-9d7a-4942-b567-20b1fa12b6ea",
   "metadata": {},
   "outputs": [
    {
     "data": {
      "text/plain": [
       "3"
      ]
     },
     "execution_count": 60,
     "metadata": {},
     "output_type": "execute_result"
    }
   ],
   "source": [
    "# 자료의 개수\n",
    "len(t3)"
   ]
  },
  {
   "cell_type": "code",
   "execution_count": 61,
   "id": "5d4987d5-0cfe-42da-91ab-3c430b888bfc",
   "metadata": {},
   "outputs": [
    {
     "data": {
      "text/plain": [
       "(10, 11, 12, 13, 14)"
      ]
     },
     "execution_count": 61,
     "metadata": {},
     "output_type": "execute_result"
    }
   ],
   "source": [
    "a = t3[1]\n",
    "a"
   ]
  },
  {
   "cell_type": "code",
   "execution_count": 62,
   "id": "4d58a914-a07a-4596-ae3f-3f237ed28a73",
   "metadata": {},
   "outputs": [
    {
     "data": {
      "text/plain": [
       "5"
      ]
     },
     "execution_count": 62,
     "metadata": {},
     "output_type": "execute_result"
    }
   ],
   "source": [
    "count = len(a)\n",
    "count"
   ]
  },
  {
   "cell_type": "code",
   "execution_count": 63,
   "id": "4ad78e91-a8e5-449b-a0ec-7c7c58249d61",
   "metadata": {},
   "outputs": [
    {
     "data": {
      "text/plain": [
       "14"
      ]
     },
     "execution_count": 63,
     "metadata": {},
     "output_type": "execute_result"
    }
   ],
   "source": [
    "a[count-1] # last"
   ]
  },
  {
   "cell_type": "code",
   "execution_count": 65,
   "id": "328758f6-4407-42c6-8179-c9ddf4d96618",
   "metadata": {},
   "outputs": [
    {
     "data": {
      "text/plain": [
       "13"
      ]
     },
     "execution_count": 65,
     "metadata": {},
     "output_type": "execute_result"
    }
   ],
   "source": [
    "a[count-2]"
   ]
  },
  {
   "cell_type": "code",
   "execution_count": 67,
   "id": "c9e83655-6f62-48d1-b0a8-5165efadf284",
   "metadata": {},
   "outputs": [
    {
     "name": "stdout",
     "output_type": "stream",
     "text": [
      "10 11 12 13 14 "
     ]
    }
   ],
   "source": [
    "# 객체\n",
    "for i in a:\n",
    "    print(i, end=' ')"
   ]
  },
  {
   "cell_type": "code",
   "execution_count": 71,
   "id": "783c046f-fa0f-4bdb-876f-74667b32cfd6",
   "metadata": {},
   "outputs": [
    {
     "name": "stdout",
     "output_type": "stream",
     "text": [
      "10 11 12 13 14 "
     ]
    }
   ],
   "source": [
    "# len(), range()\n",
    "count = len(a)\n",
    "# index 기반\n",
    "for i in range(count): # start=0, stop=count (-1)\n",
    "    print( a[i], end=' ')"
   ]
  },
  {
   "cell_type": "markdown",
   "id": "b7301b41-b5fd-4612-acb0-88d7996f48f4",
   "metadata": {},
   "source": [
    "### 불변형의 특징!!!"
   ]
  },
  {
   "cell_type": "code",
   "execution_count": 77,
   "id": "b761b43f-a1d0-491d-b354-75bf6999f983",
   "metadata": {},
   "outputs": [
    {
     "data": {
      "text/plain": [
       "(10, 11, 12, 13, 14)"
      ]
     },
     "execution_count": 77,
     "metadata": {},
     "output_type": "execute_result"
    }
   ],
   "source": [
    "a"
   ]
  },
  {
   "cell_type": "code",
   "execution_count": 81,
   "id": "dbcb663e-d4bc-498d-ab43-78954b7ea078",
   "metadata": {},
   "outputs": [
    {
     "ename": "TypeError",
     "evalue": "'tuple' object does not support item assignment",
     "output_type": "error",
     "traceback": [
      "\u001b[0;31m---------------------------------------------------------------------------\u001b[0m",
      "\u001b[0;31mTypeError\u001b[0m                                 Traceback (most recent call last)",
      "Cell \u001b[0;32mIn [81], line 2\u001b[0m\n\u001b[1;32m      1\u001b[0m \u001b[38;5;66;03m# Assignments\u001b[39;00m\n\u001b[0;32m----> 2\u001b[0m \u001b[43ma\u001b[49m\u001b[43m[\u001b[49m\u001b[38;5;241;43m1\u001b[39;49m\u001b[43m]\u001b[49m \u001b[38;5;241m=\u001b[39m \u001b[38;5;124m\"\u001b[39m\u001b[38;5;124m30\u001b[39m\u001b[38;5;124m\"\u001b[39m                 \u001b[38;5;66;03m# TypeError\u001b[39;00m\n",
      "\u001b[0;31mTypeError\u001b[0m: 'tuple' object does not support item assignment"
     ]
    }
   ],
   "source": [
    "# Assignments\n",
    "a[1] = \"30\"                 # TypeError"
   ]
  },
  {
   "cell_type": "markdown",
   "id": "e66748b1-0b07-4483-92b6-22e9201d1bf7",
   "metadata": {
    "tags": []
   },
   "source": [
    "# List\n",
    "\n",
    "https://docs.python.org/3/tutorial/datastructures.html"
   ]
  },
  {
   "cell_type": "code",
   "execution_count": 15,
   "id": "a5ae80ae-a96c-46ba-981c-54b54b4b48f9",
   "metadata": {},
   "outputs": [],
   "source": [
    "#1 튜플 선언\n",
    "t1 = (1,2,3,4,5,6)\n",
    "t2 = 10, 11, 12, 13, 14"
   ]
  },
  {
   "cell_type": "code",
   "execution_count": 12,
   "id": "7e8980cc-d3ce-4856-9a3c-5829b01f2546",
   "metadata": {},
   "outputs": [],
   "source": [
    "li = []"
   ]
  },
  {
   "cell_type": "code",
   "execution_count": 13,
   "id": "6605f8a1-5581-4126-98f8-a651f66cf148",
   "metadata": {},
   "outputs": [],
   "source": [
    "li = list()"
   ]
  },
  {
   "cell_type": "code",
   "execution_count": 17,
   "id": "ecdd05b4-9c80-4b66-aa8a-ab94d6803ec5",
   "metadata": {},
   "outputs": [
    {
     "data": {
      "text/plain": [
       "[1, 2, 3, 4, 5, 6]"
      ]
     },
     "execution_count": 17,
     "metadata": {},
     "output_type": "execute_result"
    }
   ],
   "source": [
    "list(t1)"
   ]
  },
  {
   "cell_type": "code",
   "execution_count": 18,
   "id": "01024af9-6e2c-4e29-af1d-0911554cd1d6",
   "metadata": {},
   "outputs": [
    {
     "data": {
      "text/plain": [
       "['안', '녕', '하', '세', '요']"
      ]
     },
     "execution_count": 18,
     "metadata": {},
     "output_type": "execute_result"
    }
   ],
   "source": [
    "list('안녕하세요')"
   ]
  },
  {
   "cell_type": "code",
   "execution_count": 19,
   "id": "57de51b7-3a4a-404c-bdcc-6fd21b524970",
   "metadata": {},
   "outputs": [
    {
     "data": {
      "text/plain": [
       "('안', '녕', '하', '세', '요')"
      ]
     },
     "execution_count": 19,
     "metadata": {},
     "output_type": "execute_result"
    }
   ],
   "source": [
    "tuple('안녕하세요')"
   ]
  },
  {
   "cell_type": "code",
   "execution_count": 21,
   "id": "63efc443-fbb7-464b-98c9-c79c6cf7a19b",
   "metadata": {},
   "outputs": [],
   "source": [
    "# 리스트 선언\n",
    "num1 = []                  # Empty"
   ]
  },
  {
   "cell_type": "code",
   "execution_count": 22,
   "id": "86b4a97c-9c3a-4620-85aa-ea8baf6f1b91",
   "metadata": {},
   "outputs": [
    {
     "data": {
      "text/plain": [
       "[]"
      ]
     },
     "execution_count": 22,
     "metadata": {},
     "output_type": "execute_result"
    }
   ],
   "source": [
    "num1"
   ]
  },
  {
   "cell_type": "code",
   "execution_count": 23,
   "id": "18333071-8da2-469f-813b-795431fb68e2",
   "metadata": {},
   "outputs": [],
   "source": [
    "if num1:\n",
    "    print('Ok...')"
   ]
  },
  {
   "cell_type": "code",
   "execution_count": 24,
   "id": "fe5e6598-f73d-45f8-b82f-104702772aa2",
   "metadata": {},
   "outputs": [
    {
     "data": {
      "text/plain": [
       "False"
      ]
     },
     "execution_count": 24,
     "metadata": {},
     "output_type": "execute_result"
    }
   ],
   "source": [
    "num1 == None"
   ]
  },
  {
   "cell_type": "code",
   "execution_count": 25,
   "id": "8aa073eb-ab86-4836-84b1-ab0ffb24d0ab",
   "metadata": {},
   "outputs": [
    {
     "data": {
      "text/plain": [
       "False"
      ]
     },
     "execution_count": 25,
     "metadata": {},
     "output_type": "execute_result"
    }
   ],
   "source": [
    "num1 is None"
   ]
  },
  {
   "cell_type": "code",
   "execution_count": 26,
   "id": "d1bf02f3-9dbd-457b-9087-cfb60371f91a",
   "metadata": {},
   "outputs": [],
   "source": [
    "num2 = [1,2,3,4,5]         # 1차원 리스트"
   ]
  },
  {
   "cell_type": "code",
   "execution_count": 27,
   "id": "516d7a80-0f79-424c-8e08-e309e880a152",
   "metadata": {},
   "outputs": [
    {
     "data": {
      "text/plain": [
       "[1, 2, 3, 4, 5]"
      ]
     },
     "execution_count": 27,
     "metadata": {},
     "output_type": "execute_result"
    }
   ],
   "source": [
    "num2"
   ]
  },
  {
   "cell_type": "code",
   "execution_count": 28,
   "id": "5d0443d4-3d09-4e81-9311-ff5ef365770b",
   "metadata": {},
   "outputs": [
    {
     "name": "stdout",
     "output_type": "stream",
     "text": [
      "Ok num2\n"
     ]
    }
   ],
   "source": [
    "if num2:\n",
    "    print('Ok num2')"
   ]
  },
  {
   "cell_type": "markdown",
   "id": "3cf8f519-f124-4bfa-9c65-4a181359caa6",
   "metadata": {},
   "source": [
    "### 인덱스\n",
    "\n",
    "- 기본 시퀀스 자료형 연산\n",
    "- 인덱싱, 슬라이싱, 반복, 연결, 길이\n",
    "\n"
   ]
  },
  {
   "cell_type": "code",
   "execution_count": 60,
   "id": "d58a3175-dd1e-4985-9752-f7e5ad2cb71a",
   "metadata": {},
   "outputs": [
    {
     "data": {
      "text/plain": [
       "['abc', 25, 3.14, 9]"
      ]
     },
     "execution_count": 60,
     "metadata": {},
     "output_type": "execute_result"
    }
   ],
   "source": [
    "li = ['abc', 25, 3.14, 9]\n",
    "li"
   ]
  },
  {
   "cell_type": "code",
   "execution_count": 61,
   "id": "84197046-803d-4087-8ef3-432884c5dac0",
   "metadata": {},
   "outputs": [
    {
     "data": {
      "text/plain": [
       "[25, 3.14]"
      ]
     },
     "execution_count": 61,
     "metadata": {},
     "output_type": "execute_result"
    }
   ],
   "source": [
    "li[1:3]  # 인덱스 범위"
   ]
  },
  {
   "cell_type": "code",
   "execution_count": 62,
   "id": "b9eee67f-5786-41aa-8e51-4fc8336e75a2",
   "metadata": {},
   "outputs": [
    {
     "data": {
      "text/plain": [
       "['abc', 25, 3.14]"
      ]
     },
     "execution_count": 62,
     "metadata": {},
     "output_type": "execute_result"
    }
   ],
   "source": [
    "li[:3]"
   ]
  },
  {
   "cell_type": "code",
   "execution_count": 63,
   "id": "0b5b0bc5-bbcd-435b-9b78-097a899bac6c",
   "metadata": {},
   "outputs": [
    {
     "data": {
      "text/plain": [
       "['abc', 25]"
      ]
     },
     "execution_count": 63,
     "metadata": {},
     "output_type": "execute_result"
    }
   ],
   "source": [
    "li[:-2]"
   ]
  },
  {
   "cell_type": "code",
   "execution_count": null,
   "id": "42154538-e17b-4095-8602-d1feb3edd9c9",
   "metadata": {},
   "outputs": [],
   "source": [
    "li[1] = 45      # 인덱스 요소의 변경\n",
    "print(li)"
   ]
  },
  {
   "cell_type": "code",
   "execution_count": null,
   "id": "4d2a8d83-c688-4091-8b56-a0cc5dbdcef7",
   "metadata": {},
   "outputs": [],
   "source": [
    "li[0], li[3], li[-2]    # 인덱스"
   ]
  },
  {
   "cell_type": "code",
   "execution_count": null,
   "id": "507e9fcc-f95c-4b56-a5a7-7a33bd8682db",
   "metadata": {},
   "outputs": [],
   "source": [
    "len(li)"
   ]
  },
  {
   "cell_type": "code",
   "execution_count": 64,
   "id": "af1264f1-b059-40f7-abe4-69dadf054230",
   "metadata": {},
   "outputs": [
    {
     "data": {
      "text/plain": [
       "['abc', 25, 3.14, 9]"
      ]
     },
     "execution_count": 64,
     "metadata": {},
     "output_type": "execute_result"
    }
   ],
   "source": [
    "li[:]"
   ]
  },
  {
   "cell_type": "markdown",
   "id": "28597caa-8a39-4b3e-a8cf-fffc6efcb647",
   "metadata": {},
   "source": [
    "### REFERENCE"
   ]
  },
  {
   "cell_type": "code",
   "execution_count": 66,
   "id": "42c6e73f-9bd7-4086-9b9b-d2d8a44f2571",
   "metadata": {},
   "outputs": [],
   "source": [
    "li2 = li"
   ]
  },
  {
   "cell_type": "code",
   "execution_count": 67,
   "id": "2d8f72c2-e17c-47eb-87cc-053fdadf1ac0",
   "metadata": {},
   "outputs": [
    {
     "data": {
      "text/plain": [
       "(2365632150208, 2365632150208)"
      ]
     },
     "execution_count": 67,
     "metadata": {},
     "output_type": "execute_result"
    }
   ],
   "source": [
    "id(li2), id(li)"
   ]
  },
  {
   "cell_type": "code",
   "execution_count": 76,
   "id": "415a7304-7d13-480d-8240-5dbbf323d3ce",
   "metadata": {},
   "outputs": [
    {
     "data": {
      "text/plain": [
       "['abc', 25, 3.14, 9]"
      ]
     },
     "execution_count": 76,
     "metadata": {},
     "output_type": "execute_result"
    }
   ],
   "source": [
    "li[:]"
   ]
  },
  {
   "cell_type": "code",
   "execution_count": 77,
   "id": "4ecfccf8-5c2c-4167-8ac0-cb1e2db51288",
   "metadata": {},
   "outputs": [],
   "source": [
    "li2 = li[:] #copy"
   ]
  },
  {
   "cell_type": "code",
   "execution_count": null,
   "id": "4e651f2a-230a-45a0-a70d-dbd62c32066e",
   "metadata": {},
   "outputs": [],
   "source": [
    "li2"
   ]
  },
  {
   "cell_type": "code",
   "execution_count": 78,
   "id": "06cb2702-bc1d-4bd6-a39a-beede00c3045",
   "metadata": {},
   "outputs": [
    {
     "data": {
      "text/plain": [
       "(2365632150208, 2365607545344)"
      ]
     },
     "execution_count": 78,
     "metadata": {},
     "output_type": "execute_result"
    }
   ],
   "source": [
    "id(li), id(li2)"
   ]
  }
 ],
 "metadata": {
  "kernelspec": {
   "display_name": "Python 3 (ipykernel)",
   "language": "python",
   "name": "python3"
  },
  "language_info": {
   "codemirror_mode": {
    "name": "ipython",
    "version": 3
   },
   "file_extension": ".py",
   "mimetype": "text/x-python",
   "name": "python",
   "nbconvert_exporter": "python",
   "pygments_lexer": "ipython3",
   "version": "3.9.7"
  }
 },
 "nbformat": 4,
 "nbformat_minor": 5
}
