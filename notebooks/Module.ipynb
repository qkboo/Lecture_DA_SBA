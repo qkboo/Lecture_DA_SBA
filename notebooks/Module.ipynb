{
 "cells": [
  {
   "cell_type": "markdown",
   "id": "0d31b38c-eff3-4372-9906-0a094bbbc2b7",
   "metadata": {},
   "source": [
    "# module"
   ]
  },
  {
   "cell_type": "code",
   "execution_count": 1,
   "id": "1dad73c2-36c9-45de-88ae-48ec5cb4b317",
   "metadata": {},
   "outputs": [],
   "source": [
    "import sys"
   ]
  },
  {
   "cell_type": "code",
   "execution_count": 2,
   "id": "9e5a74d1-3bed-4d9d-8990-f7e6c866a7e2",
   "metadata": {},
   "outputs": [
    {
     "data": {
      "text/plain": [
       "['C:\\\\Users\\\\daddy\\\\Lecture_SBA',\n",
       " 'C:\\\\Users\\\\daddy\\\\.pyenv\\\\pyenv-win\\\\versions\\\\3.10.4\\\\python310.zip',\n",
       " 'C:\\\\Users\\\\daddy\\\\.pyenv\\\\pyenv-win\\\\versions\\\\3.10.4\\\\DLLs',\n",
       " 'C:\\\\Users\\\\daddy\\\\.pyenv\\\\pyenv-win\\\\versions\\\\3.10.4\\\\lib',\n",
       " 'C:\\\\Users\\\\daddy\\\\.pyenv\\\\pyenv-win\\\\versions\\\\3.10.4',\n",
       " 'C:\\\\Users\\\\daddy\\\\.venv\\\\Second_p310',\n",
       " '',\n",
       " 'C:\\\\Users\\\\daddy\\\\.venv\\\\Second_p310\\\\lib\\\\site-packages',\n",
       " 'C:\\\\Users\\\\daddy\\\\.venv\\\\Second_p310\\\\lib\\\\site-packages\\\\win32',\n",
       " 'C:\\\\Users\\\\daddy\\\\.venv\\\\Second_p310\\\\lib\\\\site-packages\\\\win32\\\\lib',\n",
       " 'C:\\\\Users\\\\daddy\\\\.venv\\\\Second_p310\\\\lib\\\\site-packages\\\\Pythonwin']"
      ]
     },
     "execution_count": 2,
     "metadata": {},
     "output_type": "execute_result"
    }
   ],
   "source": [
    "sys.path"
   ]
  },
  {
   "cell_type": "code",
   "execution_count": 3,
   "id": "4b2bd888-0f31-4b88-8be6-a75578eaeaf4",
   "metadata": {},
   "outputs": [],
   "source": [
    "import os"
   ]
  },
  {
   "cell_type": "code",
   "execution_count": 6,
   "id": "58944a17-5843-41e3-b6d8-aef5621b5ff4",
   "metadata": {
    "collapsed": true,
    "jupyter": {
     "outputs_hidden": true
    },
    "tags": []
   },
   "outputs": [
    {
     "data": {
      "text/plain": [
       "'C:\\\\Users\\\\daddy\\\\.venv\\\\Second_p310\\\\Scripts;C:\\\\Program Files\\\\NVIDIA GPU Computing Toolkit\\\\CUDA\\\\v11.5\\\\bin;C:\\\\Program Files\\\\NVIDIA GPU Computing Toolkit\\\\CUDA\\\\v11.5\\\\libnvvp;C:\\\\Program Files\\\\Common Files\\\\Oracle\\\\Java\\\\javapath;C:\\\\Windows\\\\system32;C:\\\\Windows;C:\\\\Windows\\\\System32\\\\Wbem;C:\\\\Windows\\\\System32\\\\WindowsPowerShell\\\\v1.0\\\\;C:\\\\Windows\\\\System32\\\\OpenSSH\\\\;C:\\\\Users\\\\daddy\\\\AppData\\\\Roaming\\\\nvm;C:\\\\Program Files\\\\nodejs;C:\\\\Program Files\\\\Git\\\\cmd;C:\\\\Program Files (x86)\\\\ePapyrus\\\\Papyrus 5.1;C:\\\\Program Files (x86)\\\\ePapyrus\\\\Papyrus 5.1\\\\Addins;C:\\\\Program Files (x86)\\\\NVIDIA Corporation\\\\PhysX\\\\Common;C:\\\\Program Files\\\\NVIDIA Corporation\\\\NVIDIA NvDLISR;C:\\\\Program Files\\\\NVIDIA Corporation\\\\Nsight Compute 2021.3.0\\\\;;C:\\\\WINDOWS\\\\system32;C:\\\\WINDOWS;C:\\\\WINDOWS\\\\System32\\\\Wbem;C:\\\\WINDOWS\\\\System32\\\\WindowsPowerShell\\\\v1.0\\\\;C:\\\\WINDOWS\\\\System32\\\\OpenSSH\\\\;C:\\\\Program Files\\\\dotnet\\\\;C:\\\\Users\\\\daddy\\\\.pyenv\\\\pyenv-win\\\\bin;C:\\\\Users\\\\daddy\\\\.pyenv\\\\pyenv-win\\\\shims;C:\\\\Users\\\\daddy\\\\.pyenv\\\\pyenv-win\\\\bin;C:\\\\Users\\\\daddy\\\\.pyenv\\\\pyenv-win\\\\shims;C:\\\\Users\\\\daddy\\\\AppData\\\\Local\\\\Microsoft\\\\WindowsApps;C:\\\\Program Files\\\\Bandizip\\\\;C:\\\\Users\\\\daddy\\\\AppData\\\\Local\\\\Programs\\\\Microsoft VS Code\\\\bin;C:\\\\Users\\\\daddy\\\\AppData\\\\Roaming\\\\nvm;C:\\\\Program Files\\\\nodejs;C:\\\\Users\\\\daddy\\\\sqlite-tools-win32-x86-3340000;C:\\\\Users\\\\daddy\\\\AppData\\\\Local\\\\atom\\\\bin;C:\\\\Program Files (x86)\\\\GitHub CLI\\\\;C:\\\\Program Files\\\\Java\\\\jdk-17.0.1\\\\bin;;%USERPROFILE%\\\\AppData\\\\Local\\\\Microsoft\\\\WindowsApps'"
      ]
     },
     "execution_count": 6,
     "metadata": {},
     "output_type": "execute_result"
    }
   ],
   "source": [
    "os.environ['PATH']"
   ]
  },
  {
   "cell_type": "code",
   "execution_count": 5,
   "id": "80630d0b-5f58-467a-be86-c394c5c1c44d",
   "metadata": {},
   "outputs": [
    {
     "name": "stdout",
     "output_type": "stream",
     "text": [
      "120\n"
     ]
    }
   ],
   "source": [
    "import add"
   ]
  },
  {
   "cell_type": "code",
   "execution_count": 7,
   "id": "0947df64-d458-469d-9e01-883c30153b44",
   "metadata": {},
   "outputs": [],
   "source": [
    "import sys as system"
   ]
  },
  {
   "cell_type": "code",
   "execution_count": 9,
   "id": "4857f49d-f4de-4cca-8d25-a932e072b0f2",
   "metadata": {},
   "outputs": [
    {
     "data": {
      "text/plain": [
       "module"
      ]
     },
     "execution_count": 9,
     "metadata": {},
     "output_type": "execute_result"
    }
   ],
   "source": [
    "type(add)"
   ]
  },
  {
   "cell_type": "code",
   "execution_count": 10,
   "id": "ef792c5e-0838-4638-b155-5845f1e71195",
   "metadata": {},
   "outputs": [
    {
     "data": {
      "text/plain": [
       "module"
      ]
     },
     "execution_count": 10,
     "metadata": {},
     "output_type": "execute_result"
    }
   ],
   "source": [
    "type(system)"
   ]
  },
  {
   "cell_type": "code",
   "execution_count": null,
   "id": "32510f58-df50-447b-a125-f6b707640e0d",
   "metadata": {},
   "outputs": [],
   "source": [
    "system.audit()"
   ]
  },
  {
   "cell_type": "code",
   "execution_count": null,
   "id": "1916c914-86d5-497b-bf75-f81861314c61",
   "metadata": {},
   "outputs": [],
   "source": []
  },
  {
   "cell_type": "markdown",
   "id": "1ac5db58-3ade-426f-8377-6ceff537ee82",
   "metadata": {},
   "source": [
    "# 간단한 모듈"
   ]
  },
  {
   "cell_type": "code",
   "execution_count": 11,
   "id": "80153602-f52a-429f-a448-73a954fd938d",
   "metadata": {},
   "outputs": [
    {
     "name": "stdout",
     "output_type": "stream",
     "text": [
      "Writing mod1.py\n"
     ]
    }
   ],
   "source": [
    "%%writefile mod1.py\n",
    "# mod1 모듈\n",
    "def add(a, b):\n",
    "    return a+b\n",
    "\n",
    "def sub(a, b):\n",
    "    return a-b"
   ]
  },
  {
   "cell_type": "code",
   "execution_count": 12,
   "id": "b4ccf4e6-1046-43c5-943d-f63703e53580",
   "metadata": {},
   "outputs": [
    {
     "data": {
      "text/plain": [
       "\u001b[1;31m# mod1 모듈\u001b[0m\u001b[1;33m\n",
       "\u001b[0m\u001b[1;32mdef\u001b[0m \u001b[0madd\u001b[0m\u001b[1;33m(\u001b[0m\u001b[0ma\u001b[0m\u001b[1;33m,\u001b[0m \u001b[0mb\u001b[0m\u001b[1;33m)\u001b[0m\u001b[1;33m:\u001b[0m\u001b[1;33m\n",
       "\u001b[0m    \u001b[1;32mreturn\u001b[0m \u001b[0ma\u001b[0m\u001b[1;33m+\u001b[0m\u001b[0mb\u001b[0m\u001b[1;33m\n",
       "\u001b[0m\u001b[1;33m\n",
       "\u001b[0m\u001b[1;32mdef\u001b[0m \u001b[0msub\u001b[0m\u001b[1;33m(\u001b[0m\u001b[0ma\u001b[0m\u001b[1;33m,\u001b[0m \u001b[0mb\u001b[0m\u001b[1;33m)\u001b[0m\u001b[1;33m:\u001b[0m\u001b[1;33m\n",
       "\u001b[0m    \u001b[1;32mreturn\u001b[0m \u001b[0ma\u001b[0m\u001b[1;33m-\u001b[0m\u001b[0mb\u001b[0m\u001b[1;33m\u001b[0m\u001b[1;33m\u001b[0m\u001b[0m\n"
      ]
     },
     "metadata": {},
     "output_type": "display_data"
    }
   ],
   "source": [
    "%pycat mod1.py"
   ]
  },
  {
   "cell_type": "code",
   "execution_count": 16,
   "id": "eab2fec5-1bd6-4105-bc31-c292cf8d0e86",
   "metadata": {},
   "outputs": [],
   "source": [
    "import mod1"
   ]
  },
  {
   "cell_type": "code",
   "execution_count": 17,
   "id": "2554fb66-e7f4-4fb3-b355-2231c9a882e7",
   "metadata": {},
   "outputs": [
    {
     "data": {
      "text/plain": [
       "module"
      ]
     },
     "execution_count": 17,
     "metadata": {},
     "output_type": "execute_result"
    }
   ],
   "source": [
    "type(mod1)"
   ]
  },
  {
   "cell_type": "markdown",
   "id": "118ff1e2-9484-4940-b146-6f9e30f798bd",
   "metadata": {},
   "source": [
    "`.` 연산자로 모듈 안의 객체 접근"
   ]
  },
  {
   "cell_type": "code",
   "execution_count": 18,
   "id": "724c45a1-9480-4013-a716-ed1f4b53cc35",
   "metadata": {},
   "outputs": [
    {
     "data": {
      "text/plain": [
       "30"
      ]
     },
     "execution_count": 18,
     "metadata": {},
     "output_type": "execute_result"
    }
   ],
   "source": [
    "mod1.add(10, 20)"
   ]
  },
  {
   "cell_type": "code",
   "execution_count": 19,
   "id": "7587a70e-ecee-4fbb-8bc8-18e402d61517",
   "metadata": {},
   "outputs": [
    {
     "data": {
      "text/plain": [
       "19"
      ]
     },
     "execution_count": 19,
     "metadata": {},
     "output_type": "execute_result"
    }
   ],
   "source": [
    "mod1.sub(20, 1)"
   ]
  },
  {
   "cell_type": "code",
   "execution_count": 20,
   "id": "deef6c8d-dfc7-410b-a0aa-3b7e193c9593",
   "metadata": {},
   "outputs": [],
   "source": [
    "del mod1"
   ]
  },
  {
   "cell_type": "code",
   "execution_count": 21,
   "id": "5ae5c877-80bf-4429-aa9b-00e87aeeae5e",
   "metadata": {},
   "outputs": [
    {
     "ename": "NameError",
     "evalue": "name 'mod1' is not defined",
     "output_type": "error",
     "traceback": [
      "\u001b[1;31m---------------------------------------------------------------------------\u001b[0m",
      "\u001b[1;31mNameError\u001b[0m                                 Traceback (most recent call last)",
      "Cell \u001b[1;32mIn [21], line 1\u001b[0m\n\u001b[1;32m----> 1\u001b[0m \u001b[43mmod1\u001b[49m\u001b[38;5;241m.\u001b[39msub(\u001b[38;5;241m20\u001b[39m, \u001b[38;5;241m1\u001b[39m)\n",
      "\u001b[1;31mNameError\u001b[0m: name 'mod1' is not defined"
     ]
    }
   ],
   "source": [
    "mod1.sub(20, 1)"
   ]
  },
  {
   "cell_type": "code",
   "execution_count": null,
   "id": "2b441de1-f7b2-4952-bebe-f9eaf1eae7aa",
   "metadata": {},
   "outputs": [],
   "source": []
  },
  {
   "cell_type": "markdown",
   "id": "0fd6abb3-87a7-4603-a401-44d637ac0e06",
   "metadata": {},
   "source": [
    "as 사용"
   ]
  },
  {
   "cell_type": "code",
   "execution_count": 22,
   "id": "66d0ecac-cd8a-4ca2-ad08-470caf792a80",
   "metadata": {},
   "outputs": [],
   "source": [
    "import mod1 as md1"
   ]
  },
  {
   "cell_type": "code",
   "execution_count": 23,
   "id": "da37674e-722d-4ab8-b822-e4c8665abdb7",
   "metadata": {},
   "outputs": [
    {
     "data": {
      "text/plain": [
       "30"
      ]
     },
     "execution_count": 23,
     "metadata": {},
     "output_type": "execute_result"
    }
   ],
   "source": [
    "md1.add(10, 20)"
   ]
  },
  {
   "cell_type": "code",
   "execution_count": 24,
   "id": "2606fef5-3ff0-4bc5-bfa8-461b055664f9",
   "metadata": {},
   "outputs": [
    {
     "data": {
      "text/plain": [
       "17"
      ]
     },
     "execution_count": 24,
     "metadata": {},
     "output_type": "execute_result"
    }
   ],
   "source": [
    "md1.sub(20, 3)"
   ]
  },
  {
   "cell_type": "code",
   "execution_count": 25,
   "id": "4d3a75f3-ab37-4dde-a98c-a7ba8148b37d",
   "metadata": {},
   "outputs": [],
   "source": [
    "del md1"
   ]
  },
  {
   "cell_type": "markdown",
   "id": "45beadf8-f5a6-4e28-955d-1af8a0411344",
   "metadata": {},
   "source": [
    "`*` 사용"
   ]
  },
  {
   "cell_type": "code",
   "execution_count": 26,
   "id": "b8f76def-16e4-4650-a2f8-e1b3cd2fac9d",
   "metadata": {},
   "outputs": [],
   "source": [
    "from mod1 import *"
   ]
  },
  {
   "cell_type": "code",
   "execution_count": 27,
   "id": "bf9d21be-3a47-4bf8-8fea-9401d24f475b",
   "metadata": {},
   "outputs": [
    {
     "data": {
      "text/plain": [
       "12"
      ]
     },
     "execution_count": 27,
     "metadata": {},
     "output_type": "execute_result"
    }
   ],
   "source": [
    "add(10, 2)"
   ]
  },
  {
   "cell_type": "code",
   "execution_count": 28,
   "id": "3276442d-f740-4961-ae17-a9e3913e3bf5",
   "metadata": {},
   "outputs": [
    {
     "data": {
      "text/plain": [
       "17"
      ]
     },
     "execution_count": 28,
     "metadata": {},
     "output_type": "execute_result"
    }
   ],
   "source": [
    "sub(20, 3)"
   ]
  },
  {
   "cell_type": "code",
   "execution_count": 29,
   "id": "dc33f8cd-49fb-44e2-91fd-e9d5714ff0c0",
   "metadata": {},
   "outputs": [],
   "source": [
    "from mod1 import add, sub"
   ]
  },
  {
   "cell_type": "markdown",
   "id": "68fdc9fc-1099-4c1d-883f-09b0e85740cf",
   "metadata": {},
   "source": [
    "# 모듈의 객체 이름"
   ]
  },
  {
   "cell_type": "code",
   "execution_count": 39,
   "id": "0c97abee-681d-41ee-b2eb-555bdbaffc47",
   "metadata": {},
   "outputs": [
    {
     "name": "stdout",
     "output_type": "stream",
     "text": [
      "Overwriting mod2.py\n"
     ]
    }
   ],
   "source": [
    "%%writefile mod2.py\n",
    "# mod2 모듈\n",
    "title = None\n",
    "\n",
    "def add(a, b):\n",
    "    return a+b\n",
    "\n",
    "def sub(a, b):\n",
    "    return a-b"
   ]
  },
  {
   "cell_type": "code",
   "execution_count": 31,
   "id": "eca4f596-b7a0-4793-b644-015dbc6ffe57",
   "metadata": {},
   "outputs": [
    {
     "data": {
      "text/plain": [
       "\u001b[1;31m# mod2 모듈\u001b[0m\u001b[1;33m\n",
       "\u001b[0m\u001b[0mtitle\u001b[0m \u001b[1;33m=\u001b[0m \u001b[1;32mNone\u001b[0m\u001b[1;33m\n",
       "\u001b[0m\u001b[1;33m\n",
       "\u001b[0m\u001b[1;32mdef\u001b[0m \u001b[0madd\u001b[0m\u001b[1;33m(\u001b[0m\u001b[0ma\u001b[0m\u001b[1;33m,\u001b[0m \u001b[0mb\u001b[0m\u001b[1;33m)\u001b[0m\u001b[1;33m:\u001b[0m\u001b[1;33m\n",
       "\u001b[0m    \u001b[1;32mreturn\u001b[0m \u001b[0ma\u001b[0m\u001b[1;33m+\u001b[0m\u001b[0mb\u001b[0m\u001b[1;33m\n",
       "\u001b[0m\u001b[1;33m\n",
       "\u001b[0m\u001b[1;32mdef\u001b[0m \u001b[0msub\u001b[0m\u001b[1;33m(\u001b[0m\u001b[0ma\u001b[0m\u001b[1;33m,\u001b[0m \u001b[0mb\u001b[0m\u001b[1;33m)\u001b[0m\u001b[1;33m:\u001b[0m\u001b[1;33m\n",
       "\u001b[0m    \u001b[1;32mreturn\u001b[0m \u001b[0ma\u001b[0m\u001b[1;33m-\u001b[0m\u001b[0mb\u001b[0m\u001b[1;33m\u001b[0m\u001b[1;33m\u001b[0m\u001b[0m\n"
      ]
     },
     "metadata": {},
     "output_type": "display_data"
    }
   ],
   "source": [
    "%pycat mod2.py"
   ]
  },
  {
   "cell_type": "code",
   "execution_count": 32,
   "id": "eb98d834-0f7c-4c44-9599-a41eabc4fc6a",
   "metadata": {},
   "outputs": [],
   "source": [
    "from mod2 import title, add, sub"
   ]
  },
  {
   "cell_type": "code",
   "execution_count": 33,
   "id": "0746cd24-348f-4864-a0eb-4aa6c39d29b3",
   "metadata": {},
   "outputs": [],
   "source": [
    "title"
   ]
  },
  {
   "cell_type": "code",
   "execution_count": 34,
   "id": "f82d35dd-a810-4593-8543-489f0cf4d3bb",
   "metadata": {},
   "outputs": [
    {
     "data": {
      "text/plain": [
       "30"
      ]
     },
     "execution_count": 34,
     "metadata": {},
     "output_type": "execute_result"
    }
   ],
   "source": [
    "add(10, 20)"
   ]
  },
  {
   "cell_type": "code",
   "execution_count": null,
   "id": "8e8a2231-2704-452a-9764-49c60122f7ee",
   "metadata": {},
   "outputs": [],
   "source": []
  },
  {
   "cell_type": "markdown",
   "id": "8443f829-41f2-4fe0-b292-703ae07d8a9b",
   "metadata": {},
   "source": [
    "# `__main__`"
   ]
  },
  {
   "cell_type": "code",
   "execution_count": 40,
   "id": "760dfbdf-8703-4aae-966c-37719b5dd5d7",
   "metadata": {},
   "outputs": [],
   "source": [
    "import mod1"
   ]
  },
  {
   "cell_type": "code",
   "execution_count": 41,
   "id": "73062ce7-54a8-4628-8cc5-9ee5e2a5948b",
   "metadata": {},
   "outputs": [
    {
     "data": {
      "text/plain": [
       "['__builtins__',\n",
       " '__cached__',\n",
       " '__doc__',\n",
       " '__file__',\n",
       " '__loader__',\n",
       " '__name__',\n",
       " '__package__',\n",
       " '__spec__',\n",
       " 'add',\n",
       " 'sub']"
      ]
     },
     "execution_count": 41,
     "metadata": {},
     "output_type": "execute_result"
    }
   ],
   "source": [
    "dir(mod1)"
   ]
  },
  {
   "cell_type": "code",
   "execution_count": 42,
   "id": "0566b2ad-708c-4025-b02a-bd8431609faa",
   "metadata": {},
   "outputs": [
    {
     "data": {
      "text/plain": [
       "''"
      ]
     },
     "execution_count": 42,
     "metadata": {},
     "output_type": "execute_result"
    }
   ],
   "source": [
    "mod1.__package__"
   ]
  },
  {
   "cell_type": "code",
   "execution_count": 43,
   "id": "a6ea3c89-76f0-4ade-95a4-bed0b6087d51",
   "metadata": {},
   "outputs": [
    {
     "data": {
      "text/plain": [
       "'mod1'"
      ]
     },
     "execution_count": 43,
     "metadata": {},
     "output_type": "execute_result"
    }
   ],
   "source": [
    "mod1.__name__"
   ]
  },
  {
   "cell_type": "code",
   "execution_count": null,
   "id": "ba7cf229-6b7e-4000-8c7f-f4fa882de197",
   "metadata": {},
   "outputs": [],
   "source": []
  },
  {
   "cell_type": "code",
   "execution_count": 44,
   "id": "d450cd9e-79cf-443f-8c20-b8d7fab5b6a8",
   "metadata": {},
   "outputs": [],
   "source": [
    "def test():\n",
    "    pass"
   ]
  },
  {
   "cell_type": "code",
   "execution_count": 45,
   "id": "7201f20e-4e3b-49f2-8302-f58678d41764",
   "metadata": {},
   "outputs": [
    {
     "data": {
      "text/plain": [
       "<function __main__.test()>"
      ]
     },
     "execution_count": 45,
     "metadata": {},
     "output_type": "execute_result"
    }
   ],
   "source": [
    "test"
   ]
  },
  {
   "cell_type": "code",
   "execution_count": 58,
   "id": "b4b451fa-955f-4f6a-a448-58aad14237db",
   "metadata": {},
   "outputs": [
    {
     "name": "stdout",
     "output_type": "stream",
     "text": [
      "Overwriting mod1.py\n"
     ]
    }
   ],
   "source": [
    "%%writefile mod1.py\n",
    "\n",
    "def add(a, b):\n",
    "    return a+b\n",
    "\n",
    "def sub(a, b):\n",
    "    return a-b\n",
    "\n",
    "\n",
    "print(add(1, 4))\n",
    "print(sub(4, 2))"
   ]
  },
  {
   "cell_type": "code",
   "execution_count": 53,
   "id": "268d2f8e-1dcc-4c8a-b1a7-07b31fd52026",
   "metadata": {
    "tags": []
   },
   "outputs": [
    {
     "data": {
      "text/plain": [
       "\u001b[1;33m\n",
       "\u001b[0m\u001b[1;32mdef\u001b[0m \u001b[0madd\u001b[0m\u001b[1;33m(\u001b[0m\u001b[0ma\u001b[0m\u001b[1;33m,\u001b[0m \u001b[0mb\u001b[0m\u001b[1;33m)\u001b[0m\u001b[1;33m:\u001b[0m\u001b[1;33m\n",
       "\u001b[0m    \u001b[1;32mreturn\u001b[0m \u001b[0ma\u001b[0m\u001b[1;33m+\u001b[0m\u001b[0mb\u001b[0m\u001b[1;33m\n",
       "\u001b[0m\u001b[1;33m\n",
       "\u001b[0m\u001b[1;32mdef\u001b[0m \u001b[0msub\u001b[0m\u001b[1;33m(\u001b[0m\u001b[0ma\u001b[0m\u001b[1;33m,\u001b[0m \u001b[0mb\u001b[0m\u001b[1;33m)\u001b[0m\u001b[1;33m:\u001b[0m\u001b[1;33m\n",
       "\u001b[0m    \u001b[1;32mreturn\u001b[0m \u001b[0ma\u001b[0m\u001b[1;33m-\u001b[0m\u001b[0mb\u001b[0m\u001b[1;33m\n",
       "\u001b[0m\u001b[1;33m\n",
       "\u001b[0m\u001b[1;33m\n",
       "\u001b[0m\u001b[0mprint\u001b[0m\u001b[1;33m(\u001b[0m\u001b[0madd\u001b[0m\u001b[1;33m(\u001b[0m\u001b[1;36m1\u001b[0m\u001b[1;33m,\u001b[0m \u001b[1;36m4\u001b[0m\u001b[1;33m)\u001b[0m\u001b[1;33m)\u001b[0m\u001b[1;33m\n",
       "\u001b[0m\u001b[0mprint\u001b[0m\u001b[1;33m(\u001b[0m\u001b[0msub\u001b[0m\u001b[1;33m(\u001b[0m\u001b[1;36m4\u001b[0m\u001b[1;33m,\u001b[0m \u001b[1;36m2\u001b[0m\u001b[1;33m)\u001b[0m\u001b[1;33m)\u001b[0m\u001b[1;33m\u001b[0m\u001b[1;33m\u001b[0m\u001b[0m\n"
      ]
     },
     "metadata": {},
     "output_type": "display_data"
    }
   ],
   "source": [
    "%pycat mod1.py"
   ]
  },
  {
   "cell_type": "code",
   "execution_count": 1,
   "id": "7caa4649-bc6a-4498-a5ac-434e884ba997",
   "metadata": {},
   "outputs": [
    {
     "name": "stdout",
     "output_type": "stream",
     "text": [
      "5\n",
      "2\n"
     ]
    }
   ],
   "source": [
    "! python mod1.py"
   ]
  },
  {
   "cell_type": "code",
   "execution_count": 2,
   "id": "581eaa53-f697-4468-88b3-cb991fb080d3",
   "metadata": {},
   "outputs": [
    {
     "name": "stdout",
     "output_type": "stream",
     "text": [
      "5\n",
      "2\n"
     ]
    }
   ],
   "source": [
    "# 즐겁게!!\n",
    "import mod1"
   ]
  },
  {
   "cell_type": "code",
   "execution_count": 3,
   "id": "462d7d9b-8392-4795-b62c-b745cb01c8b2",
   "metadata": {},
   "outputs": [
    {
     "name": "stdout",
     "output_type": "stream",
     "text": [
      "Overwriting mod1.py\n"
     ]
    }
   ],
   "source": [
    "%%writefile mod1.py\n",
    "\n",
    "def add(a, b):\n",
    "    return a+b\n",
    "\n",
    "def sub(a, b):\n",
    "    return a-b\n",
    "\n",
    "print(__name__)"
   ]
  },
  {
   "cell_type": "code",
   "execution_count": 4,
   "id": "b2e3f349-6e1f-42a6-890b-0c0e4c1de05c",
   "metadata": {},
   "outputs": [
    {
     "name": "stdout",
     "output_type": "stream",
     "text": [
      "__main__\n"
     ]
    }
   ],
   "source": [
    "! python mod1.py"
   ]
  },
  {
   "cell_type": "code",
   "execution_count": 1,
   "id": "7daa8f51-ca20-441e-8e69-86e10f65763e",
   "metadata": {},
   "outputs": [
    {
     "name": "stdout",
     "output_type": "stream",
     "text": [
      "mod1\n"
     ]
    }
   ],
   "source": [
    "import mod1"
   ]
  },
  {
   "cell_type": "code",
   "execution_count": 2,
   "id": "756df391-33af-42b7-b01d-4e693c4157fb",
   "metadata": {},
   "outputs": [
    {
     "data": {
      "text/plain": [
       "'mod1'"
      ]
     },
     "execution_count": 2,
     "metadata": {},
     "output_type": "execute_result"
    }
   ],
   "source": [
    "mod1.__name__"
   ]
  },
  {
   "cell_type": "code",
   "execution_count": 3,
   "id": "ca265bbf-459c-44f7-bf93-0fb936f1f782",
   "metadata": {},
   "outputs": [],
   "source": [
    "import mod1 as md1"
   ]
  },
  {
   "cell_type": "code",
   "execution_count": 4,
   "id": "9f94054e-7e53-4c82-9953-017517c6d921",
   "metadata": {},
   "outputs": [
    {
     "data": {
      "text/plain": [
       "'mod1'"
      ]
     },
     "execution_count": 4,
     "metadata": {},
     "output_type": "execute_result"
    }
   ],
   "source": [
    "md1.__name__"
   ]
  },
  {
   "cell_type": "code",
   "execution_count": null,
   "id": "70267bae-8c60-4542-9b3f-4cf8c50fe876",
   "metadata": {},
   "outputs": [],
   "source": []
  },
  {
   "cell_type": "markdown",
   "id": "d4a38dcb-4f18-4950-8f7a-68f7c48bad46",
   "metadata": {},
   "source": [
    "## start point\n",
    " - 언어의 시작 함수: main()"
   ]
  },
  {
   "cell_type": "code",
   "execution_count": 3,
   "id": "8e38a031-39ac-4cf8-805b-87d61d288463",
   "metadata": {},
   "outputs": [
    {
     "name": "stdout",
     "output_type": "stream",
     "text": [
      "Overwriting mod1.py\n"
     ]
    }
   ],
   "source": [
    "%%writefile mod1.py\n",
    "\n",
    "def add(a, b):\n",
    "    return a+b\n",
    "\n",
    "def sub(a, b):\n",
    "    return a-b\n",
    "\n",
    "if __name__ == '__main__':\n",
    "    # test code 실행.\n",
    "    print(add(10,2))\n",
    "    print(sub(3, 1))"
   ]
  },
  {
   "cell_type": "code",
   "execution_count": 4,
   "id": "acd7b25e-4b15-4f78-89ce-ac4a95e0ef77",
   "metadata": {},
   "outputs": [
    {
     "name": "stdout",
     "output_type": "stream",
     "text": [
      "12\n",
      "2\n"
     ]
    }
   ],
   "source": [
    "!python mod1.py"
   ]
  },
  {
   "cell_type": "code",
   "execution_count": 11,
   "id": "9725b80b-72f8-45de-9188-44468a397895",
   "metadata": {},
   "outputs": [],
   "source": [
    "import mod1"
   ]
  },
  {
   "cell_type": "code",
   "execution_count": null,
   "id": "d23649f9-6068-4cb5-97d3-7f156b19d315",
   "metadata": {},
   "outputs": [],
   "source": []
  },
  {
   "cell_type": "markdown",
   "id": "6475c98c-7b55-47f4-8c17-e16907556556",
   "metadata": {},
   "source": [
    "`__module__`"
   ]
  },
  {
   "cell_type": "code",
   "execution_count": 12,
   "id": "da7c1fd4-bd07-4d1e-b2d9-04ebd53296f7",
   "metadata": {},
   "outputs": [
    {
     "ename": "AttributeError",
     "evalue": "module 'mod1' has no attribute '__module__'",
     "output_type": "error",
     "traceback": [
      "\u001b[1;31m---------------------------------------------------------------------------\u001b[0m",
      "\u001b[1;31mAttributeError\u001b[0m                            Traceback (most recent call last)",
      "Cell \u001b[1;32mIn [12], line 1\u001b[0m\n\u001b[1;32m----> 1\u001b[0m \u001b[43mmod1\u001b[49m\u001b[38;5;241;43m.\u001b[39;49m\u001b[38;5;18;43m__module__\u001b[39;49m\n",
      "\u001b[1;31mAttributeError\u001b[0m: module 'mod1' has no attribute '__module__'"
     ]
    }
   ],
   "source": [
    "mod1.__module__"
   ]
  },
  {
   "cell_type": "code",
   "execution_count": 9,
   "id": "c16fd88f-4868-4487-ae17-3b49f36a8368",
   "metadata": {},
   "outputs": [],
   "source": [
    "from math import sin"
   ]
  },
  {
   "cell_type": "code",
   "execution_count": 13,
   "id": "151775c1-6691-4e22-a30c-254d4df184ce",
   "metadata": {},
   "outputs": [
    {
     "data": {
      "text/plain": [
       "'math'"
      ]
     },
     "execution_count": 13,
     "metadata": {},
     "output_type": "execute_result"
    }
   ],
   "source": [
    "sin.__module__"
   ]
  },
  {
   "cell_type": "code",
   "execution_count": 14,
   "id": "59a96a4f-8357-44f0-bac4-fb46a87a0c86",
   "metadata": {},
   "outputs": [
    {
     "ename": "AttributeError",
     "evalue": "'builtin_function_or_method' object has no attribute '__package__'",
     "output_type": "error",
     "traceback": [
      "\u001b[1;31m---------------------------------------------------------------------------\u001b[0m",
      "\u001b[1;31mAttributeError\u001b[0m                            Traceback (most recent call last)",
      "Cell \u001b[1;32mIn [14], line 1\u001b[0m\n\u001b[1;32m----> 1\u001b[0m \u001b[43msin\u001b[49m\u001b[38;5;241;43m.\u001b[39;49m\u001b[43m__package__\u001b[49m\n",
      "\u001b[1;31mAttributeError\u001b[0m: 'builtin_function_or_method' object has no attribute '__package__'"
     ]
    }
   ],
   "source": [
    "sin.__package__"
   ]
  },
  {
   "cell_type": "code",
   "execution_count": null,
   "id": "83401a1c-2306-4e8d-a3ed-6d4b602f05be",
   "metadata": {},
   "outputs": [],
   "source": []
  },
  {
   "cell_type": "code",
   "execution_count": null,
   "id": "58668423-5607-4728-85f1-2844d6b90c9f",
   "metadata": {},
   "outputs": [],
   "source": []
  },
  {
   "cell_type": "markdown",
   "id": "46062b92-6d6e-4065-8609-1a522c665aaf",
   "metadata": {},
   "source": [
    "# package"
   ]
  },
  {
   "cell_type": "code",
   "execution_count": 18,
   "id": "9218a757-c89c-4a5b-a62e-ea327dd37710",
   "metadata": {},
   "outputs": [],
   "source": [
    "%mkdir sound"
   ]
  },
  {
   "cell_type": "code",
   "execution_count": 20,
   "id": "46958f9d-3ded-4764-91ec-03a6e51619e5",
   "metadata": {},
   "outputs": [],
   "source": [
    "%mkdir sound\\formats"
   ]
  },
  {
   "cell_type": "code",
   "execution_count": 21,
   "id": "072906bf-4114-40b5-8255-d4128f789046",
   "metadata": {},
   "outputs": [],
   "source": [
    "%mkdir sound\\effects"
   ]
  },
  {
   "cell_type": "code",
   "execution_count": 23,
   "id": "8565abc4-e2ac-4d7d-ac8d-1613036b25a8",
   "metadata": {},
   "outputs": [
    {
     "name": "stdout",
     "output_type": "stream",
     "text": [
      " C 드라이브의 볼륨에는 이름이 없습니다.\n",
      " 볼륨 일련 번호: 1AFD-D176\n",
      "\n",
      " C:\\Users\\daddy\\Lecture_SBA\\sound 디렉터리\n",
      "\n",
      "2022-11-17  오후 03:06    <DIR>          .\n",
      "2022-11-17  오후 03:05    <DIR>          ..\n",
      "2022-11-17  오후 03:06    <DIR>          effects\n",
      "2022-11-17  오후 03:05    <DIR>          formats\n",
      "               0개 파일                   0 바이트\n",
      "               4개 디렉터리  121,455,050,752 바이트 남음\n"
     ]
    }
   ],
   "source": [
    "%ls sound\\"
   ]
  },
  {
   "cell_type": "code",
   "execution_count": 24,
   "id": "79c32997-617f-4a72-9d3a-8afd42a73a4a",
   "metadata": {},
   "outputs": [
    {
     "name": "stdout",
     "output_type": "stream",
     "text": [
      "Writing sound/formats/audio.py\n"
     ]
    }
   ],
   "source": [
    "%%writefile sound/formats/audio.py\n",
    "# audio.py\n",
    "\n",
    "def audio(level):\n",
    "    pass"
   ]
  },
  {
   "cell_type": "code",
   "execution_count": 25,
   "id": "0841d7d0-3938-4ff0-918f-a8667f67791e",
   "metadata": {},
   "outputs": [
    {
     "data": {
      "text/plain": [
       "\u001b[1;31m# audio.py\u001b[0m\u001b[1;33m\n",
       "\u001b[0m\u001b[1;33m\n",
       "\u001b[0m\u001b[1;32mdef\u001b[0m \u001b[0maudio\u001b[0m\u001b[1;33m(\u001b[0m\u001b[0mlevel\u001b[0m\u001b[1;33m)\u001b[0m\u001b[1;33m:\u001b[0m\u001b[1;33m\n",
       "\u001b[0m    \u001b[1;32mpass\u001b[0m\u001b[1;33m\u001b[0m\u001b[1;33m\u001b[0m\u001b[0m\n"
      ]
     },
     "metadata": {},
     "output_type": "display_data"
    }
   ],
   "source": [
    "%pycat sound/formats/audio.py"
   ]
  },
  {
   "cell_type": "code",
   "execution_count": 26,
   "id": "cac90b14-a636-4dab-9aa0-17a8cd9cc5c8",
   "metadata": {},
   "outputs": [
    {
     "name": "stdout",
     "output_type": "stream",
     "text": [
      "Writing sound/effects/echo.py\n"
     ]
    }
   ],
   "source": [
    "%%writefile sound/effects/echo.py\n",
    "# echo.py\n",
    "\n",
    "def echo(msg):\n",
    "    pass"
   ]
  },
  {
   "cell_type": "code",
   "execution_count": 27,
   "id": "cd90d84d-b07c-4ee1-945a-fb52cf5412ce",
   "metadata": {},
   "outputs": [
    {
     "data": {
      "text/plain": [
       "\u001b[1;31m# echo.py\u001b[0m\u001b[1;33m\n",
       "\u001b[0m\u001b[1;33m\n",
       "\u001b[0m\u001b[1;32mdef\u001b[0m \u001b[0mecho\u001b[0m\u001b[1;33m(\u001b[0m\u001b[0mmsg\u001b[0m\u001b[1;33m)\u001b[0m\u001b[1;33m:\u001b[0m\u001b[1;33m\n",
       "\u001b[0m    \u001b[1;32mpass\u001b[0m\u001b[1;33m\u001b[0m\u001b[1;33m\u001b[0m\u001b[0m\n"
      ]
     },
     "metadata": {},
     "output_type": "display_data"
    }
   ],
   "source": [
    "%pycat sound/effects/echo.py"
   ]
  },
  {
   "cell_type": "code",
   "execution_count": 33,
   "id": "19c494bd-4f1d-4b9d-bcec-3f042fdecba2",
   "metadata": {},
   "outputs": [],
   "source": [
    "import sound.formats.audio as audio"
   ]
  },
  {
   "cell_type": "code",
   "execution_count": 34,
   "id": "7bdda3ba-96c0-4a1a-85f9-b506aa408613",
   "metadata": {},
   "outputs": [
    {
     "ename": "AttributeError",
     "evalue": "module 'sound.formats.audio' has no attribute '__module__'",
     "output_type": "error",
     "traceback": [
      "\u001b[1;31m---------------------------------------------------------------------------\u001b[0m",
      "\u001b[1;31mAttributeError\u001b[0m                            Traceback (most recent call last)",
      "Cell \u001b[1;32mIn [34], line 1\u001b[0m\n\u001b[1;32m----> 1\u001b[0m \u001b[43maudio\u001b[49m\u001b[38;5;241;43m.\u001b[39;49m\u001b[38;5;18;43m__module__\u001b[39;49m\n",
      "\u001b[1;31mAttributeError\u001b[0m: module 'sound.formats.audio' has no attribute '__module__'"
     ]
    }
   ],
   "source": [
    "audio.__module__"
   ]
  },
  {
   "cell_type": "code",
   "execution_count": 35,
   "id": "d7960319-9666-448d-b026-2d873b2374f6",
   "metadata": {},
   "outputs": [
    {
     "data": {
      "text/plain": [
       "'sound.formats'"
      ]
     },
     "execution_count": 35,
     "metadata": {},
     "output_type": "execute_result"
    }
   ],
   "source": [
    "audio.__package__"
   ]
  },
  {
   "cell_type": "code",
   "execution_count": null,
   "id": "20d9c91d-77f3-44b4-b7fa-9c67984e85d7",
   "metadata": {},
   "outputs": [],
   "source": [
    "echo"
   ]
  },
  {
   "cell_type": "code",
   "execution_count": 29,
   "id": "f5bd0586-db2b-4be4-bf7c-9518bda57807",
   "metadata": {},
   "outputs": [],
   "source": [
    "from sound.effects import echo"
   ]
  },
  {
   "cell_type": "code",
   "execution_count": 31,
   "id": "388e3d3a-4f4e-40b0-a531-fb3aa2454ccc",
   "metadata": {},
   "outputs": [
    {
     "data": {
      "text/plain": [
       "'sound.effects'"
      ]
     },
     "execution_count": 31,
     "metadata": {},
     "output_type": "execute_result"
    }
   ],
   "source": [
    "echo.__package__"
   ]
  },
  {
   "cell_type": "code",
   "execution_count": null,
   "id": "5516c44c-69de-4ddf-a1aa-44b56cb6ef9a",
   "metadata": {},
   "outputs": [],
   "source": []
  },
  {
   "cell_type": "markdown",
   "id": "69b4160a-4776-4193-befc-fe97058ee452",
   "metadata": {},
   "source": [
    "# 라이브러리 위치 지정"
   ]
  },
  {
   "cell_type": "code",
   "execution_count": 36,
   "id": "ccf1b910-098b-43bb-93f4-45d6e0d0471f",
   "metadata": {},
   "outputs": [
    {
     "data": {
      "text/plain": [
       "['C:\\\\Users\\\\daddy\\\\Lecture_SBA',\n",
       " 'C:\\\\Users\\\\daddy\\\\.pyenv\\\\pyenv-win\\\\versions\\\\3.10.4\\\\python310.zip',\n",
       " 'C:\\\\Users\\\\daddy\\\\.pyenv\\\\pyenv-win\\\\versions\\\\3.10.4\\\\DLLs',\n",
       " 'C:\\\\Users\\\\daddy\\\\.pyenv\\\\pyenv-win\\\\versions\\\\3.10.4\\\\lib',\n",
       " 'C:\\\\Users\\\\daddy\\\\.pyenv\\\\pyenv-win\\\\versions\\\\3.10.4',\n",
       " 'C:\\\\Users\\\\daddy\\\\.venv\\\\Second_p310',\n",
       " '',\n",
       " 'C:\\\\Users\\\\daddy\\\\.venv\\\\Second_p310\\\\lib\\\\site-packages',\n",
       " 'C:\\\\Users\\\\daddy\\\\.venv\\\\Second_p310\\\\lib\\\\site-packages\\\\win32',\n",
       " 'C:\\\\Users\\\\daddy\\\\.venv\\\\Second_p310\\\\lib\\\\site-packages\\\\win32\\\\lib',\n",
       " 'C:\\\\Users\\\\daddy\\\\.venv\\\\Second_p310\\\\lib\\\\site-packages\\\\Pythonwin']"
      ]
     },
     "execution_count": 36,
     "metadata": {},
     "output_type": "execute_result"
    }
   ],
   "source": [
    "import sys\n",
    "sys.path"
   ]
  },
  {
   "cell_type": "code",
   "execution_count": 37,
   "id": "fa5e5742-3c57-49c7-9135-486382f7a4c0",
   "metadata": {},
   "outputs": [
    {
     "name": "stdout",
     "output_type": "stream",
     "text": [
      " C 드라이브의 볼륨에는 이름이 없습니다.\n",
      " 볼륨 일련 번호: 1AFD-D176\n",
      "\n",
      " C:\\Users\\daddy\\Lecture_SBA 디렉터리\n",
      "\n",
      "2022-11-09  오전 10:43               133 add.py\n",
      "2022-11-17  오전 10:29               128 argv-test.py\n",
      "2022-11-17  오후 02:42               167 mod1.py\n",
      "2022-11-17  오후 02:20                97 mod2.py\n",
      "               4개 파일                 525 바이트\n",
      "               0개 디렉터리  121,469,198,336 바이트 남음\n"
     ]
    }
   ],
   "source": [
    "%ls *.py"
   ]
  },
  {
   "cell_type": "code",
   "execution_count": 38,
   "id": "8ed7b3c6-a860-4ff4-aa82-b698602ed584",
   "metadata": {},
   "outputs": [],
   "source": [
    "%mkdir ..\\Test"
   ]
  },
  {
   "cell_type": "code",
   "execution_count": 40,
   "id": "7cfb2788-9e18-458f-ae48-681453f8f42a",
   "metadata": {},
   "outputs": [
    {
     "name": "stdout",
     "output_type": "stream",
     "text": [
      " C 드라이브의 볼륨에는 이름이 없습니다.\n",
      " 볼륨 일련 번호: 1AFD-D176\n",
      "\n",
      " C:\\Users\\daddy\\Test 디렉터리\n",
      "\n",
      "2022-11-17  오후 03:19    <DIR>          .\n",
      "2022-11-17  오후 03:19    <DIR>          ..\n",
      "               0개 파일                   0 바이트\n",
      "               2개 디렉터리  121,456,234,496 바이트 남음\n"
     ]
    }
   ],
   "source": [
    "%ls ..\\Test"
   ]
  },
  {
   "cell_type": "code",
   "execution_count": 44,
   "id": "fdecc30f-72a8-4d98-8773-1c1be98fc46a",
   "metadata": {},
   "outputs": [
    {
     "name": "stdout",
     "output_type": "stream",
     "text": [
      "        1개 파일이 복사되었습니다.\n"
     ]
    }
   ],
   "source": [
    "%copy mod1.py ..\\Test\\test_mod1.py"
   ]
  },
  {
   "cell_type": "code",
   "execution_count": 45,
   "id": "710c0945-33d7-4890-b0f3-cdb307953379",
   "metadata": {},
   "outputs": [
    {
     "name": "stdout",
     "output_type": "stream",
     "text": [
      " C 드라이브의 볼륨에는 이름이 없습니다.\n",
      " 볼륨 일련 번호: 1AFD-D176\n",
      "\n",
      " C:\\Users\\daddy\\Test 디렉터리\n",
      "\n",
      "2022-11-17  오후 03:21    <DIR>          .\n",
      "2022-11-17  오후 03:19    <DIR>          ..\n",
      "2022-11-17  오후 02:42               167 mod1.py\n",
      "2022-11-17  오후 02:42               167 test_mod1.py\n",
      "               2개 파일                 334 바이트\n",
      "               2개 디렉터리  121,465,962,496 바이트 남음\n"
     ]
    }
   ],
   "source": [
    "%ls ..\\Test"
   ]
  },
  {
   "cell_type": "code",
   "execution_count": 48,
   "id": "4cb98276-682e-4186-8232-ac517d352150",
   "metadata": {},
   "outputs": [],
   "source": [
    "sys.path.append('C:\\\\Users\\\\daddy\\\\Test')"
   ]
  },
  {
   "cell_type": "code",
   "execution_count": 49,
   "id": "41b08386-cacd-4ec2-9eaa-8b9de90043d8",
   "metadata": {
    "tags": []
   },
   "outputs": [
    {
     "data": {
      "text/plain": [
       "['C:\\\\Users\\\\daddy\\\\Lecture_SBA',\n",
       " 'C:\\\\Users\\\\daddy\\\\.pyenv\\\\pyenv-win\\\\versions\\\\3.10.4\\\\python310.zip',\n",
       " 'C:\\\\Users\\\\daddy\\\\.pyenv\\\\pyenv-win\\\\versions\\\\3.10.4\\\\DLLs',\n",
       " 'C:\\\\Users\\\\daddy\\\\.pyenv\\\\pyenv-win\\\\versions\\\\3.10.4\\\\lib',\n",
       " 'C:\\\\Users\\\\daddy\\\\.pyenv\\\\pyenv-win\\\\versions\\\\3.10.4',\n",
       " 'C:\\\\Users\\\\daddy\\\\.venv\\\\Second_p310',\n",
       " '',\n",
       " 'C:\\\\Users\\\\daddy\\\\.venv\\\\Second_p310\\\\lib\\\\site-packages',\n",
       " 'C:\\\\Users\\\\daddy\\\\.venv\\\\Second_p310\\\\lib\\\\site-packages\\\\win32',\n",
       " 'C:\\\\Users\\\\daddy\\\\.venv\\\\Second_p310\\\\lib\\\\site-packages\\\\win32\\\\lib',\n",
       " 'C:\\\\Users\\\\daddy\\\\.venv\\\\Second_p310\\\\lib\\\\site-packages\\\\Pythonwin',\n",
       " 'C:\\\\Users\\\\daddy\\\\Test']"
      ]
     },
     "execution_count": 49,
     "metadata": {},
     "output_type": "execute_result"
    }
   ],
   "source": [
    "sys.path"
   ]
  },
  {
   "cell_type": "code",
   "execution_count": 50,
   "id": "2ee83d27-3e12-4dcb-a2e2-16850685d43f",
   "metadata": {},
   "outputs": [],
   "source": [
    "import test_mod1"
   ]
  },
  {
   "cell_type": "code",
   "execution_count": 51,
   "id": "cb62ab94-b0e3-4ffe-bc6e-87b372285966",
   "metadata": {},
   "outputs": [
    {
     "data": {
      "text/plain": [
       "55"
      ]
     },
     "execution_count": 51,
     "metadata": {},
     "output_type": "execute_result"
    }
   ],
   "source": [
    "test_mod1.add(10, 45)"
   ]
  }
 ],
 "metadata": {
  "kernelspec": {
   "display_name": "Python 3 (ipykernel)",
   "language": "python",
   "name": "python3"
  },
  "language_info": {
   "codemirror_mode": {
    "name": "ipython",
    "version": 3
   },
   "file_extension": ".py",
   "mimetype": "text/x-python",
   "name": "python",
   "nbconvert_exporter": "python",
   "pygments_lexer": "ipython3",
   "version": "3.10.4"
  }
 },
 "nbformat": 4,
 "nbformat_minor": 5
}
