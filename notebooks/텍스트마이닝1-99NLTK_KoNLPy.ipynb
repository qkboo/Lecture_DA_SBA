{
 "cells": [
  {
   "attachments": {
    "6589aa25-9c02-4176-ac63-bed875bc659d.png": {
     "image/png": "[encoded data removed]"
    }
   },
   "cell_type": "markdown",
   "metadata": {
    "id": "s1-JSZDAdK4x"
   },
   "source": [
    "# 텍스트 마이닝 3 - 자연어 텍스트 처리 (NLTK & KoNLPy) \n",
    "\n",
    "<div align='center'><img src='attachment:6589aa25-9c02-4176-ac63-bed875bc659d.png'></div>"
   ]
  },
  {
   "cell_type": "code",
   "execution_count": null,
   "metadata": {},
   "outputs": [],
   "source": []
  },
  {
   "cell_type": "markdown",
   "metadata": {
    "tags": []
   },
   "source": [
    "### 코랩: 한글 폰트 설치"
   ]
  },
  {
   "cell_type": "markdown",
   "metadata": {},
   "source": [
    "1.한글 폰트 설치"
   ]
  },
  {
   "cell_type": "code",
   "execution_count": null,
   "metadata": {
    "id": "s3FmfXDKgJnx"
   },
   "outputs": [],
   "source": [
    "#폰트 설치\n",
    "! apt install fonts-nanum*"
   ]
  },
  {
   "cell_type": "code",
   "execution_count": null,
   "metadata": {
    "id": "_t73dk0JgNpM"
   },
   "outputs": [],
   "source": [
    "! apt install fontconfig"
   ]
  },
  {
   "cell_type": "markdown",
   "metadata": {},
   "source": [
    "2. 폰트 캐시 생성"
   ]
  },
  {
   "cell_type": "code",
   "execution_count": null,
   "metadata": {
    "id": "SmH2rh_bgNmB"
   },
   "outputs": [],
   "source": [
    "#폰트 캐시 생성\n",
    "!fc-cache -fv"
   ]
  },
  {
   "cell_type": "markdown",
   "metadata": {},
   "source": [
    "3. matplotlib에 남아있는 font 캐시 삭제"
   ]
  },
  {
   "cell_type": "code",
   "execution_count": null,
   "metadata": {
    "executionInfo": {
     "elapsed": 274,
     "status": "ok",
     "timestamp": 1663134067898,
     "user": {
      "displayName": "고포릿",
      "userId": "11277884504998149270"
     },
     "user_tz": -540
    },
    "id": "v7mFBYn8g9Uj"
   },
   "outputs": [],
   "source": [
    "# matplotlib에 남아있는 font 캐시 삭제\n",
    "!rm -rf ~/.cache/matplotlib/*"
   ]
  },
  {
   "cell_type": "markdown",
   "metadata": {},
   "source": [
    "4. Runtime 재실행"
   ]
  },
  {
   "cell_type": "code",
   "execution_count": null,
   "metadata": {
    "id": "s2FJvPltgmrh"
   },
   "outputs": [],
   "source": [
    "import matplotlib.font_manager as fm\n",
    "# 폰트 목록에서 폰트 찾기\n",
    "for font in fm.fontManager.ttflist:\n",
    "    if 'Nanum' in font.name:\n",
    "        print(font.name, font.fname)"
   ]
  },
  {
   "cell_type": "code",
   "execution_count": null,
   "metadata": {
    "colab": {
     "base_uri": "https://localhost:8080/",
     "height": 297
    },
    "id": "Z6CAaHLbdK4y",
    "outputId": "1fe47795-3650-4b1d-c3c9-56623c993413"
   },
   "outputs": [],
   "source": [
    "import matplotlib.pyplot as plt\n",
    "import matplotlib.font_manager as fm\n",
    "\n",
    "plt.rcParams[\"axes.grid\"] = True\n",
    "plt.rcParams[\"figure.figsize\"] = (14,4)\n",
    "\n",
    "# font_path = \"/usr/share/fonts/truetype/nanum/NanumGothic.ttf\"\n",
    "font_path = '/Users/qkboo/Library/Fonts/NanumGothic.otf'\n",
    "fontname = fm.FontProperties(fname=font_path, size=18).get_name()  # 폰트 패밀리 이름!\n",
    "\n",
    "# matplotlib 한글 출력 확인용 테스트\n",
    "plt.rcParams[\"font.family\"] = fontname\n",
    "plt.rcParams['axes.unicode_minus'] = False\n",
    "plt.title('한글 테스트')"
   ]
  },
  {
   "cell_type": "markdown",
   "metadata": {
    "id": "IfKAVS1QdK40"
   },
   "source": [
    "# NLTK\n",
    "\n",
    "NLTK(Natural Language Toolkit): 자연어 처리 및 문서 분석용 패키지\n",
    "1. 말뭉치\n",
    "2. 토큰 생성\n",
    "3. 형태소 분석\n",
    "4. 품사 태깅"
   ]
  },
  {
   "cell_type": "markdown",
   "metadata": {},
   "source": [
    "NLTK 설치"
   ]
  },
  {
   "cell_type": "code",
   "execution_count": null,
   "metadata": {},
   "outputs": [],
   "source": [
    "! pip install nltk"
   ]
  },
  {
   "cell_type": "markdown",
   "metadata": {
    "id": "tFVd9mJkdK41"
   },
   "source": [
    "## 1. NLTK 코퍼스 (nltk.corpus 모듈)\n",
    "http://www.nltk.org/nltk_data/ (전체목록)\n",
    "\n",
    "주요 코퍼스\n",
    "* gutenberg : 모비딕(Moby Dick), 성서등 구텐베르크 프로젝트 영문 책 텍스트 18개\n",
    "* reuters: 10,788 뉴스 문서, 천3백만 단어, 90개 토픽, \"training\" 과 \"test\"로 나누어져 있다. \n",
    "* brown : 브라운대(1961) 최초 백만단어 코퍼스, 뉴스 학습자료등 카테고리가 나누어져 있다\n",
    "* names : 8,000개의 남성과 여성의 이름\n",
    "* words : 가장 빈번하게 사용하는 영어 단어 23,5000개\n",
    "* stopwords : 14개의 언어의 가장 많이 사용하는 불용어(stop word)\n",
    "* cmudict : 카네기멜론대, 13,4000개 단어와 그 음절(syllables)로 구성. 동음이의어(homophones) 검색."
   ]
  },
  {
   "cell_type": "code",
   "execution_count": null,
   "metadata": {
    "colab": {
     "base_uri": "https://localhost:8080/",
     "height": 0
    },
    "id": "mcyyLaQfdK42",
    "outputId": "90ead6fd-c391-4dcb-d91f-562c8973359c"
   },
   "outputs": [],
   "source": [
    "import nltk\n",
    "\n",
    "nltk.download(\"gutenberg\")\n",
    "nltk.download(\"reuters\")\n",
    "nltk.download('punkt')\n",
    "nltk.download('stopwords')\n",
    "nltk.download('averaged_perceptron_tagger')\n",
    "nltk.download('wordnet') "
   ]
  },
  {
   "cell_type": "code",
   "execution_count": null,
   "metadata": {
    "colab": {
     "base_uri": "https://localhost:8080/",
     "height": 0
    },
    "id": "EKamQgbFdK46",
    "outputId": "87c4c026-a935-4d46-fbe0-8c5674a10fca"
   },
   "outputs": [],
   "source": [
    "# 제공되는 텍스트 문서 확인\n",
    "import nltk\n",
    "fileids = nltk.corpus.gutenberg.fileids()\n",
    "print(fileids)"
   ]
  },
  {
   "cell_type": "markdown",
   "metadata": {
    "id": "LgIwTC-udK49"
   },
   "source": [
    "* corpus.fileids() # 코퍼스에 포함된 파일아이디 목록\n",
    "* corpus.raw(fileid) # 파일의 원문\n",
    "* corpus.sents(fileid) #파일의 문장 목록\n",
    "* corpus.words(fileid) # 파일의 단어 목록"
   ]
  },
  {
   "cell_type": "code",
   "execution_count": null,
   "metadata": {
    "colab": {
     "base_uri": "https://localhost:8080/",
     "height": 0
    },
    "id": "TqeR14ikdK4-",
    "outputId": "67f51ae7-5e30-4713-8683-990b59bfb508"
   },
   "outputs": [],
   "source": [
    "from nltk.corpus import gutenberg\n",
    "\n",
    "for fileid in gutenberg.fileids():\n",
    "    num_chars = len(gutenberg.raw(fileid)) # 문자수\n",
    "    num_words = len(gutenberg.words(fileid)) # 단어수\n",
    "    num_sents = len(gutenberg.sents(fileid)) # 문장수\n",
    "    num_vocab = len(set(w.lower() for w in gutenberg.words(fileid))) # 어휘수\n",
    "    print(round(num_chars/num_words), round(num_words/num_sents), round(num_words/num_vocab), fileid)"
   ]
  },
  {
   "cell_type": "markdown",
   "metadata": {
    "id": "GTndmvwjdK5F"
   },
   "source": [
    "### 말뭉치 문서 읽기"
   ]
  },
  {
   "cell_type": "code",
   "execution_count": null,
   "metadata": {
    "colab": {
     "base_uri": "https://localhost:8080/",
     "height": 104
    },
    "id": "KFhrHLZ6dK5G",
    "outputId": "347e89be-956c-4adf-e625-d7c334519b86"
   },
   "outputs": [],
   "source": [
    "import nltk\n",
    "from nltk.corpus import gutenberg"
   ]
  },
  {
   "cell_type": "code",
   "execution_count": null,
   "metadata": {},
   "outputs": [],
   "source": [
    "nltk.corpus.gutenberg.fileids()"
   ]
  },
  {
   "cell_type": "code",
   "execution_count": null,
   "metadata": {
    "colab": {
     "base_uri": "https://localhost:8080/",
     "height": 104
    },
    "id": "KFhrHLZ6dK5G",
    "outputId": "347e89be-956c-4adf-e625-d7c334519b86"
   },
   "outputs": [],
   "source": [
    "# 1. read document\n",
    "moby_dick_text = gutenberg.open('melville-moby_dick.txt').read()\n",
    "moby_dick_text[:1000]"
   ]
  },
  {
   "cell_type": "markdown",
   "metadata": {
    "id": "v3reFeuidK5J"
   },
   "source": [
    "## 2. 토큰 생성 Toknize\n",
    "\n",
    "텍스트를 처리하기 위한 작은 단위(token)으로 나눈다. NLTK는 다음 토큰 생성을 제공\n",
    "\n",
    "```python\n",
    "from nltk.tokenize import sent_tokenize # 문장으로 나누기\n",
    "from nltk.tokenize import word_tokenize # 단어로 나누기 \n",
    "from nltk.tokenize import regexp_tokenize # 정규식으로 나누기\n",
    "```"
   ]
  },
  {
   "cell_type": "code",
   "execution_count": null,
   "metadata": {
    "colab": {
     "base_uri": "https://localhost:8080/",
     "height": 0
    },
    "id": "eVCK-GFWdK5K",
    "outputId": "be40fdc1-29be-49db-eb6f-808452205cd3"
   },
   "outputs": [],
   "source": [
    "from nltk.tokenize import sent_tokenize\n",
    "\n",
    "moby_sents = sent_tokenize(moby_dick_text)\n",
    "moby_sents[100:110]"
   ]
  },
  {
   "cell_type": "code",
   "execution_count": null,
   "metadata": {
    "colab": {
     "base_uri": "https://localhost:8080/",
     "height": 0
    },
    "id": "vF1c85UWdK5O",
    "outputId": "f8bf738d-1964-44b9-a31c-77ad7440c4ad"
   },
   "outputs": [],
   "source": [
    "from nltk.tokenize import word_tokenize\n",
    "\n",
    "moby_words = word_tokenize(moby_dick_text)\n",
    "moby_words[100:110]"
   ]
  },
  {
   "cell_type": "code",
   "execution_count": null,
   "metadata": {
    "colab": {
     "base_uri": "https://localhost:8080/",
     "height": 0
    },
    "id": "wYlY2RJWdK5R",
    "outputId": "f2df543a-5de4-4e7f-f399-ac62ac79a9ad"
   },
   "outputs": [],
   "source": [
    "len(moby_words)"
   ]
  },
  {
   "cell_type": "code",
   "execution_count": null,
   "metadata": {
    "colab": {
     "base_uri": "https://localhost:8080/",
     "height": 0
    },
    "id": "5kvEddujdK5W",
    "outputId": "330f4b3c-1cc0-4c6e-ab14-aa2c06cc6394"
   },
   "outputs": [],
   "source": [
    "from nltk import regexp_tokenize\n",
    "\n",
    "moby_retoks = regexp_tokenize(moby_dick_text.lower(), r\"[\\w]+\")\n",
    "moby_retoks[100:110]"
   ]
  },
  {
   "cell_type": "code",
   "execution_count": null,
   "metadata": {},
   "outputs": [],
   "source": [
    "len(moby_retoks)"
   ]
  },
  {
   "cell_type": "code",
   "execution_count": null,
   "metadata": {},
   "outputs": [],
   "source": []
  },
  {
   "cell_type": "code",
   "execution_count": null,
   "metadata": {},
   "outputs": [],
   "source": []
  },
  {
   "cell_type": "code",
   "execution_count": null,
   "metadata": {},
   "outputs": [],
   "source": []
  },
  {
   "cell_type": "markdown",
   "metadata": {
    "id": "XkCJzXRpdK5b"
   },
   "source": [
    "## 3. 형태소 분석\n",
    "\n",
    "nltk.Text 클래스를 사용해서 형태소를 분석할 수 있다.\n",
    "\n",
    "참고 http://www.nltk.org/api/nltk.html#nltk.text.Text"
   ]
  },
  {
   "cell_type": "code",
   "execution_count": null,
   "metadata": {
    "id": "nmx6LwdxdK5c"
   },
   "outputs": [],
   "source": [
    "import nltk\n",
    "moby = nltk.Text(moby_retoks)"
   ]
  },
  {
   "cell_type": "code",
   "execution_count": null,
   "metadata": {
    "colab": {
     "base_uri": "https://localhost:8080/",
     "height": 0
    },
    "id": "6WOKtZaDdK5g",
    "outputId": "b04e9115-d64b-4771-fdda-ed236ecae508"
   },
   "outputs": [],
   "source": [
    "print(len(moby.tokens)) # 토큰 개수\n",
    "print(len(set(moby.tokens))) # 고유한 토큰 개수"
   ]
  },
  {
   "cell_type": "markdown",
   "metadata": {
    "id": "uefyRFjwdK5k"
   },
   "source": [
    "### 빈도 분포 FreqDist"
   ]
  },
  {
   "cell_type": "code",
   "execution_count": null,
   "metadata": {
    "colab": {
     "base_uri": "https://localhost:8080/",
     "height": 0
    },
    "id": "ftNnnKOkdK5l",
    "outputId": "7ef3f5c8-ce87-4a9b-a964-f74d310aac18"
   },
   "outputs": [],
   "source": [
    "freq_dist = moby.vocab() # FreqDist (빈도 분포)\n",
    "print(len(freq_dist))"
   ]
  },
  {
   "cell_type": "code",
   "execution_count": null,
   "metadata": {
    "colab": {
     "base_uri": "https://localhost:8080/",
     "height": 0
    },
    "id": "zV-r-oacdK5o",
    "outputId": "223cf82f-43c2-4a6a-c280-fc97f4202ede"
   },
   "outputs": [],
   "source": [
    "print(freq_dist.most_common(50)) # 가장 많이 등장하는 50개"
   ]
  },
  {
   "cell_type": "code",
   "execution_count": null,
   "metadata": {
    "colab": {
     "base_uri": "https://localhost:8080/",
     "height": 297
    },
    "id": "RABv1R77dK5s",
    "outputId": "d34bb610-e8c0-4a9b-8349-273fa1ecb9aa"
   },
   "outputs": [],
   "source": [
    "moby.plot(50)"
   ]
  },
  {
   "cell_type": "code",
   "execution_count": null,
   "metadata": {},
   "outputs": [],
   "source": [
    "freq_dist.plot(50)"
   ]
  },
  {
   "cell_type": "markdown",
   "metadata": {
    "id": "PDgfl_gDdK5v"
   },
   "source": [
    "### count"
   ]
  },
  {
   "cell_type": "code",
   "execution_count": null,
   "metadata": {
    "colab": {
     "base_uri": "https://localhost:8080/",
     "height": 0
    },
    "id": "CxAd6AZ3dK5w",
    "outputId": "2813c0a2-3396-469d-a541-3b611a3b71f5"
   },
   "outputs": [],
   "source": [
    "moby.count('captain')"
   ]
  },
  {
   "cell_type": "markdown",
   "metadata": {
    "id": "UKIYBhEqdK5z"
   },
   "source": [
    "### Dispersion plot\n",
    "단어가 등장하는 위치를 Word Offset에 따라 배치하여 시각화\n",
    "\n",
    "모비딕의 주요 등장인물들: 'ahab', 'starbuck', 'queequeg', 'ishmael', 'stubb', 'flask', 'fedallah'"
   ]
  },
  {
   "cell_type": "code",
   "execution_count": null,
   "metadata": {
    "colab": {
     "base_uri": "https://localhost:8080/",
     "height": 294
    },
    "id": "X-1aDsGwdK50",
    "outputId": "e796fcfb-ba88-4941-b9a3-df2bc7862481"
   },
   "outputs": [],
   "source": [
    "moby.dispersion_plot(['ahab', 'starbuck', 'queequeg', 'ishmael', 'stubb', 'flask', 'fedallah'])"
   ]
  },
  {
   "cell_type": "markdown",
   "metadata": {
    "id": "ToHXFhtudK53"
   },
   "source": [
    "### Concordance\n",
    "\n",
    "Concordance (색인): 단어가 쓰인 문맥을 모두 찾아준다"
   ]
  },
  {
   "cell_type": "code",
   "execution_count": null,
   "metadata": {
    "colab": {
     "base_uri": "https://localhost:8080/",
     "height": 0
    },
    "id": "Mrt40WmWdK54",
    "outputId": "3c951a53-8f7c-4606-e07e-39eba63506d1"
   },
   "outputs": [],
   "source": [
    "moby.concordance('ahab', lines=10)"
   ]
  },
  {
   "cell_type": "markdown",
   "metadata": {
    "id": "5ptXy4gtdK57"
   },
   "source": [
    "### Similar word\n",
    "\n",
    "주어진 단어와 비슷한 환경(same context)에서 쓰인(≠비슷한 뜻) 단어들"
   ]
  },
  {
   "cell_type": "code",
   "execution_count": null,
   "metadata": {
    "colab": {
     "base_uri": "https://localhost:8080/",
     "height": 0
    },
    "id": "jgUPC71XdK58",
    "outputId": "f00a1f3e-8730-4769-cb01-809dfe6a22ba"
   },
   "outputs": [],
   "source": [
    "moby.similar('whale')"
   ]
  },
  {
   "cell_type": "code",
   "execution_count": null,
   "metadata": {
    "colab": {
     "base_uri": "https://localhost:8080/",
     "height": 0
    },
    "id": "GDRw9EZadK5-",
    "outputId": "1290c360-b6a1-43b0-8d45-067bdb81e62a"
   },
   "outputs": [],
   "source": [
    "moby.similar('ship')"
   ]
  },
  {
   "cell_type": "code",
   "execution_count": null,
   "metadata": {
    "colab": {
     "base_uri": "https://localhost:8080/",
     "height": 0
    },
    "id": "r4mRCawDdK6C",
    "outputId": "a85814a3-bf6e-473b-a0b4-0eb76a879cf6"
   },
   "outputs": [],
   "source": [
    "moby.similar('god')"
   ]
  },
  {
   "cell_type": "markdown",
   "metadata": {
    "id": "k7zJkB3GdK6E"
   },
   "source": [
    "### common_contexts\n",
    "\n",
    "for two words used in similar contexts"
   ]
  },
  {
   "cell_type": "code",
   "execution_count": null,
   "metadata": {
    "colab": {
     "base_uri": "https://localhost:8080/",
     "height": 0
    },
    "id": "B2qtfP4EdK6F",
    "outputId": "db2a8ed7-54bc-490a-aaa9-2e65156c5852"
   },
   "outputs": [],
   "source": [
    "moby.common_contexts(['monstrous', 'true'])"
   ]
  },
  {
   "cell_type": "markdown",
   "metadata": {
    "id": "L_b0NdwDdK6I"
   },
   "source": [
    "### Collocations\n",
    "연어(連語, collocation): 함께 위치하는 단어들 (co + location), 어휘의 조합 또는 짝을 이루는 단어"
   ]
  },
  {
   "cell_type": "code",
   "execution_count": null,
   "metadata": {
    "colab": {
     "base_uri": "https://localhost:8080/",
     "height": 0
    },
    "id": "rh9YTkpLdK6J",
    "outputId": "29e02807-ce12-49ad-f7c1-cb38cd19a6ef"
   },
   "outputs": [],
   "source": [
    "moby.collocations()"
   ]
  },
  {
   "cell_type": "code",
   "execution_count": null,
   "metadata": {},
   "outputs": [],
   "source": []
  },
  {
   "cell_type": "markdown",
   "metadata": {
    "id": "EmVW9fhAdK6M"
   },
   "source": [
    "## 4. 품사 태깅 PoS Tagging \n",
    "NLTK 에서는 Penn Treebank Tagset 을 이용\n",
    "\n",
    "https://www.ling.upenn.edu/courses/Fall_2003/ling001/penn_treebank_pos.html\n",
    "\n",
    "예를 들어, \n",
    "* NN: 일반명사 단수\n",
    "* NNS: 일반명사 복수\n",
    "* NNP: 대명사 단수\n",
    "* NNPS: 대명사 복수"
   ]
  },
  {
   "cell_type": "code",
   "execution_count": null,
   "metadata": {
    "colab": {
     "base_uri": "https://localhost:8080/",
     "height": 0
    },
    "id": "PFyHr53BdK6N",
    "outputId": "5e8a0341-e4b3-45f1-e1a4-33fee5a07128"
   },
   "outputs": [],
   "source": [
    "# 간단한 예제\n",
    "\n",
    "nltk.pos_tag(['The', 'earth', 'is', 'a', 'beautiful', 'planet'])"
   ]
  },
  {
   "cell_type": "markdown",
   "metadata": {
    "id": "kfRyabqBdK6R"
   },
   "source": [
    "* DT: 한정사\n",
    "* NN: 명사, 단수형\n",
    "* VBZ: 동사, 현재형 시제, 3인칭 단수\n",
    "* JJ: 형용사"
   ]
  },
  {
   "cell_type": "code",
   "execution_count": null,
   "metadata": {
    "colab": {
     "base_uri": "https://localhost:8080/",
     "height": 0
    },
    "id": "MCJO-gTpdK6S",
    "outputId": "dedd21d4-9a66-434a-f330-80bbbddbce9c"
   },
   "outputs": [],
   "source": [
    "# 허먼 멜빌, \"모비딕\" 첫 단락\n",
    "# 나를 이스마엘로 불러라. 몇 년 전, 정확히 얼마나 오래 동안 그랬는지는 모르겠지만, \n",
    "# 내 지갑에 돈 한 푼 없는 빈털터리 신세에 육상에선 특별히 흥미를 끄는 어떤 것도 없던 그런 시절, \n",
    "# 나는 잠시 동안이나마 배를 타고 세계의 바다를 보고 싶다는 생각을 했다. \n",
    "# 그것이 우울하고 의기소침한 감정, 그 반복되는 악순환의 고리를 끊어버리는 한 방법이었다.\n",
    "\n",
    "moby_dick_first_para_text = '''\n",
    "Call me Ishmael.  Some years ago -- never mind how long\n",
    "precisely--having little or no money in my purse, and nothing\n",
    "particular to interest me on shore, I thought I would sail about a\n",
    "little and see the watery part of the world. \n",
    "It is a way I have of driving off the spleen, and regulating the circulation. \n",
    "'''\n",
    "\n",
    "import nltk\n",
    "from nltk.tokenize import word_tokenize\n",
    "\n",
    "moby_words = word_tokenize(moby_dick_first_para_text)\n",
    "tasg = nltk.pos_tag(moby_words)\n",
    "tasg[:20]"
   ]
  },
  {
   "cell_type": "markdown",
   "metadata": {
    "id": "W8tUa9FvdK6U"
   },
   "source": [
    "## Noun phrase chunking\n",
    "\n",
    "\n",
    "```python\n",
    "# Colab 에서는 출력되지 않습니다.\n",
    "\n",
    "text = 'The earth is a beautiful planet.'\n",
    "\n",
    "tokens = text.split()\n",
    "tags = nltk.pos_tag(tokens)\n",
    "parser = nltk.RegexpParser(\"NP: {<DT>?<JJ>?<NN.*>*}\")\n",
    "tree = parser.parse(tags)\n",
    "tree\n",
    "```\n",
    "\n",
    "<img src=\"https://i.imgur.com/zhwGPri.png\">\n"
   ]
  },
  {
   "cell_type": "markdown",
   "metadata": {
    "id": "pPYlJWVmdK6f"
   },
   "source": [
    "## Stemming (어간 추출), lemmatizing (표제어 추출)\n",
    "\n",
    "NLTK 지원\n",
    "* Stemmer: Porter(보수적), Lancaster(적극적)\n",
    "* Lemmatizer: WordNetLemmatizer (WordNet 이 계산한 형태소를 참조, 인터넷 연결 필요)\n",
    "\n",
    "Stemmer vs Lemmatizer\n",
    "* stemming은 단어만 본다 (결과 stem이 사전에 없을 수도 있다)\n",
    "* Lemmatizer는 더 느리고 더 보수적"
   ]
  },
  {
   "cell_type": "code",
   "execution_count": null,
   "metadata": {
    "colab": {
     "base_uri": "https://localhost:8080/",
     "height": 0
    },
    "id": "uZmw8qxodK6g",
    "outputId": "6327cf4e-3b90-4165-b04e-e2869e815279"
   },
   "outputs": [],
   "source": [
    "p_stmr = nltk.PorterStemmer()\n",
    "p_stmr.stem(\"wonderful\"), p_stmr.stem(\"flying\"), p_stmr.stem(\"flies\")"
   ]
  },
  {
   "cell_type": "code",
   "execution_count": null,
   "metadata": {
    "colab": {
     "base_uri": "https://localhost:8080/",
     "height": 0
    },
    "id": "sVZsa_dsdK6k",
    "outputId": "b1abdcf7-c5ae-4c62-b664-06030f3a4279"
   },
   "outputs": [],
   "source": [
    "l_stmr = nltk.LancasterStemmer()\n",
    "l_stmr.stem(\"wonderful\"), l_stmr.stem(\"flying\"), l_stmr.stem(\"flies\")"
   ]
  },
  {
   "cell_type": "code",
   "execution_count": null,
   "metadata": {
    "colab": {
     "base_uri": "https://localhost:8080/",
     "height": 0
    },
    "id": "D4B_T7wqdK6r",
    "outputId": "24a47040-b0e3-4ead-9c7d-fd601974fa1b"
   },
   "outputs": [],
   "source": [
    "lmtz = nltk.WordNetLemmatizer()\n",
    "lmtz.lemmatize(\"wonderful\"), lmtz.lemmatize(\"flying\"), lmtz.lemmatize(\"flies\")"
   ]
  },
  {
   "cell_type": "code",
   "execution_count": null,
   "metadata": {
    "colab": {
     "base_uri": "https://localhost:8080/",
     "height": 0
    },
    "id": "Qa4Aax_ddK6u",
    "outputId": "faa9ff45-a0bc-4d52-a2e1-8db383377609"
   },
   "outputs": [],
   "source": [
    "# POS: # n=명사, v=동사, a=형용사, r=부사\n",
    "print(lmtz.lemmatize(\"cats\"))\n",
    "print(lmtz.lemmatize(\"better\", pos=\"a\")) \n",
    "print(lmtz.lemmatize(\"is\", pos=\"v\"))\n",
    "print(lmtz.lemmatize(\"led\"))\n",
    "print(lmtz.lemmatize(\"led\",'v'))"
   ]
  },
  {
   "cell_type": "markdown",
   "metadata": {
    "id": "ZKTPlMJ3dK6x"
   },
   "source": [
    "---\n",
    "\n",
    "## 요약\n",
    "\n",
    "* NLTK 코퍼스\n",
    "* Concordance (색인)\n",
    "* Similar Word: Similar context 단어들 (≠비슷한 뜻)\n",
    "* common_contexts \n",
    "* Collocations (연어)\n",
    "* PoS Tagging\n",
    "* chunking\n",
    "* Stemming (어간 추출), lemmatizing (표제어 추출)"
   ]
  },
  {
   "cell_type": "markdown",
   "metadata": {},
   "source": [
    ">"
   ]
  },
  {
   "cell_type": "code",
   "execution_count": null,
   "metadata": {},
   "outputs": [],
   "source": []
  },
  {
   "cell_type": "code",
   "execution_count": null,
   "metadata": {},
   "outputs": [],
   "source": []
  },
  {
   "cell_type": "code",
   "execution_count": null,
   "metadata": {},
   "outputs": [],
   "source": []
  },
  {
   "cell_type": "markdown",
   "metadata": {
    "id": "zspUEGd5_egl"
   },
   "source": [
    "#  한국어 텍스트 처리 (KoNLPy)\n",
    "\n",
    "![image.png](https://i.imgur.com/xUnCy2i.png)\n",
    "\n",
    "\n",
    " - http://konlpy.org/ko\n",
    "\n",
    "국어 정보처리를 위한 파이썬 패키지 ('코엔엘파이'라고 읽는다). 한국어 말뭉치와 형태소 분석기를 제공한다.\n",
    "\n",
    "* 한국어 말뭉치\n",
    "* 형태소 분석 및 품사 태깅\n",
    "\n"
   ]
  },
  {
   "cell_type": "markdown",
   "metadata": {
    "id": "6-Ja2ZCv_ego"
   },
   "source": [
    "## KoNLPy 개발환경\n",
    "\n",
    "https://konlpy.org/ko/latest/install/\n",
    "\n",
    "1. JDK 설치 필요\n",
    "2. KoNLPy 설치\n"
   ]
  },
  {
   "attachments": {
    "471dcadc-756f-4bc8-9079-062928e20521.png": {
     "image/png": "[encoded data removed]"
    }
   },
   "cell_type": "markdown",
   "metadata": {},
   "source": [
    "###  JDK 설치 필요\n",
    "\n",
    "- https://www.oracle.com/java/technologies/downloads/\n",
    "\n",
    "1. 자바(JVM)설치 필요Permalink\n",
    "1. 설치 후 JAVA_HOME 및 Path 설정 필요\n",
    "\n",
    "![image.png](attachment:471dcadc-756f-4bc8-9079-062928e20521.png)"
   ]
  },
  {
   "cell_type": "markdown",
   "metadata": {},
   "source": [
    "#### 우분투\n",
    "\n",
    "Install Java 1.8 or up\n",
    "\n",
    "```\n",
    "sudo apt-get install g++ openjdk-8-jdk curl\n",
    "```"
   ]
  },
  {
   "cell_type": "code",
   "execution_count": null,
   "metadata": {},
   "outputs": [],
   "source": [
    "! java --version"
   ]
  },
  {
   "cell_type": "code",
   "execution_count": null,
   "metadata": {},
   "outputs": [],
   "source": [
    "! python -V"
   ]
  },
  {
   "cell_type": "markdown",
   "metadata": {},
   "source": [
    "## 2. KoNLPy 설치\n"
   ]
  },
  {
   "cell_type": "markdown",
   "metadata": {
    "id": "6-Ja2ZCv_ego"
   },
   "source": [
    "### - Python3.9, 2022/07 \n",
    "\n",
    "Python 3.8, 3.9"
   ]
  },
  {
   "cell_type": "markdown",
   "metadata": {
    "id": "6-Ja2ZCv_ego"
   },
   "source": [
    "Python3.9 에서 설치된 버전\n",
    " - JPype1-1.4.0 \n",
    " - konlpy-0.6.0\n",
    " - nltk 3.7\n",
    " - numpy==1.22.4"
   ]
  },
  {
   "cell_type": "code",
   "execution_count": null,
   "metadata": {},
   "outputs": [],
   "source": [
    "! pip install konlpy"
   ]
  },
  {
   "cell_type": "markdown",
   "metadata": {
    "id": "mSvVOa8U_egq"
   },
   "source": [
    "## 1. 한국어 말뭉치 지원\n",
    "* kolaw: 한국 법률 말뭉치 (constitution.txt)\n",
    "* kobill: 대한민국 국회 의안 말뭉치 (1809890.txt ~ 1809899.txt)\n"
   ]
  },
  {
   "cell_type": "code",
   "execution_count": null,
   "metadata": {
    "colab": {
     "base_uri": "https://localhost:8080/"
    },
    "id": "CR0Zdukt_egr",
    "outputId": "a2dd21a2-09ba-4caa-d9db-0b8e35f53e16"
   },
   "outputs": [],
   "source": [
    "from konlpy.corpus import kolaw\n",
    "kolaw.fileids()"
   ]
  },
  {
   "cell_type": "code",
   "execution_count": null,
   "metadata": {
    "colab": {
     "base_uri": "https://localhost:8080/"
    },
    "id": "SJCDsYy4_egv",
    "outputId": "5750dbea-5047-4531-f728-baadf4d66735"
   },
   "outputs": [],
   "source": [
    "c = kolaw.open('constitution.txt').read()\n",
    "print(c[:500])"
   ]
  },
  {
   "cell_type": "code",
   "execution_count": null,
   "metadata": {
    "colab": {
     "base_uri": "https://localhost:8080/"
    },
    "id": "xYs9Jh6K_egy",
    "outputId": "4d321f57-a1cc-4de8-a4fc-a0fafa567dbf"
   },
   "outputs": [],
   "source": [
    "from konlpy.corpus import kobill\n",
    "print(kobill.fileids())"
   ]
  },
  {
   "cell_type": "code",
   "execution_count": null,
   "metadata": {
    "colab": {
     "base_uri": "https://localhost:8080/"
    },
    "id": "rokj8vjA_eg3",
    "outputId": "19f565b5-ca96-49f7-8148-34c1eea11c1a"
   },
   "outputs": [],
   "source": [
    "doc_ko = kobill.open('1809897.txt').read()\n",
    "print(doc_ko[:100])"
   ]
  },
  {
   "cell_type": "markdown",
   "metadata": {},
   "source": [
    "### 말뭉치 정리\n",
    "\n",
    "1. https://corpus.korean.go.kr/\n",
    "1. https://ilis.yonsei.ac.kr/corpus/#/\n",
    "1. https://zetawiki.com/wiki/%ED%95%9C%EA%B5%AD%EC%96%B4_%EB%A7%90%EB%AD%89%EC%B9%98_%EB%AA%A8%EC%9D%8C"
   ]
  },
  {
   "cell_type": "markdown",
   "metadata": {
    "id": "KoAN2kH__eg7"
   },
   "source": [
    "## 2. 형태소 분석 및 품사 태깅\n",
    "\n",
    "\n",
    "한국어 형태소 분석기 프로젝트\n",
    "\n",
    "http://konlpy-ko.readthedocs.io\n",
    "\n",
    "프로젝트 | 이름 | 홈페이지\n",
    ":---- | :---- | :----\n",
    "한나눔 | Hannanum | http://kldp.net/hannanum/\n",
    "꼬꼬마 | Kkma | http://kkma.snu.ac.kr/ \n",
    "코모란 | Komoran | http://www.shineware.co.kr/products/komoran/ \n",
    "은전한닢 | Mecab | https://bitbucket.org/eunjeon/mecab-ko/ \n",
    "트위터 | Okt | https://github.com/open-korean-text/open-korean-text\n",
    "\n",
    "비교 http://konlpy.org/en/v0.4.4/morph/"
   ]
  },
  {
   "cell_type": "markdown",
   "metadata": {},
   "source": [
    "각 클래스의 주요 메소드\n",
    "* morphs : 형태소 추출\n",
    "* nouns : 명사 추출\n",
    "* pos : pos 태깅"
   ]
  },
  {
   "cell_type": "markdown",
   "metadata": {},
   "source": [
    "### 한글 Token 생성\n",
    "\n",
    "일정한 뜻을 가진 가장 작은 말의 단위로 토큰화 한다. 문장에서 단어를 검색해서 토큰을 추출한다. 토큰은 문장(sentence) 단위, 단어(word) 단위로 토큰화한다.\n",
    "\n",
    " - from nltk.tokenize import sent_tokenize # 문장으로 나누기\n",
    "- from nltk.tokenize import word_tokenize # 단어로 나누기 \n",
    "- from nltk.tokenize import regexp_tokenize # 정규식으로 나누기\n",
    "- 한글 형태소 분석기 \n",
    "   - `konlp.tag.[분석기].morphs()` \n",
    "   - `konlp.tag.[분석기].nouns()` "
   ]
  },
  {
   "cell_type": "code",
   "execution_count": null,
   "metadata": {
    "colab": {
     "base_uri": "https://localhost:8080/"
    },
    "id": "rokj8vjA_eg3",
    "outputId": "19f565b5-ca96-49f7-8148-34c1eea11c1a"
   },
   "outputs": [],
   "source": [
    "doc_ko = kobill.open('1809897.txt').read()\n",
    "print(doc_ko[:100])"
   ]
  },
  {
   "cell_type": "code",
   "execution_count": null,
   "metadata": {
    "tags": []
   },
   "outputs": [],
   "source": [
    "import nltk\n",
    "\n",
    "tokens_ko = nltk.regexp_tokenize(doc_ko, r'(\\w+)')\n",
    "tokens_ko"
   ]
  },
  {
   "cell_type": "code",
   "execution_count": null,
   "metadata": {
    "tags": []
   },
   "outputs": [],
   "source": [
    "nltk.word_tokenize(doc_ko)"
   ]
  },
  {
   "cell_type": "code",
   "execution_count": null,
   "metadata": {
    "tags": []
   },
   "outputs": [],
   "source": [
    "from konlpy.tag import Hannanum, Kkma, Komoran, Mecab, Okt\n",
    "\n",
    "okt = Okt()\n",
    "okt.nouns(doc_ko)"
   ]
  },
  {
   "cell_type": "code",
   "execution_count": null,
   "metadata": {
    "tags": []
   },
   "outputs": [],
   "source": [
    "okt.morphs(doc_ko)"
   ]
  },
  {
   "cell_type": "markdown",
   "metadata": {},
   "source": [
    "### 한국어 형태소 분석\n",
    "\n",
    "- 한글 형태소 분석기 \n",
    "   - `konlp.tag.[분석기].morphs()` \n",
    "   - `konlp.tag.[분석기].nouns()` "
   ]
  },
  {
   "cell_type": "code",
   "execution_count": null,
   "metadata": {},
   "outputs": [],
   "source": [
    "morphs = Okt().morphs('아버지가 방에 들어가신다. 그 방에는 내 동생이 있다.')\n",
    "morphs"
   ]
  },
  {
   "cell_type": "code",
   "execution_count": null,
   "metadata": {},
   "outputs": [],
   "source": [
    "morphs = Okt().morphs('아버지가방에 들어가신다. 그 방에는 내 동생이 있다.')\n",
    "morphs"
   ]
  },
  {
   "cell_type": "code",
   "execution_count": null,
   "metadata": {},
   "outputs": [],
   "source": [
    "morphs = Kkma().morphs('아버지가 방에 들어가신다. 그 방에는 내 동생이 있다.')\n",
    "morphs"
   ]
  },
  {
   "cell_type": "code",
   "execution_count": null,
   "metadata": {},
   "outputs": [],
   "source": [
    "morphs = Kkma().morphs('아버지가방에 들어가신다. 그 방에는 내 동생이 있다.')\n",
    "morphs"
   ]
  },
  {
   "cell_type": "code",
   "execution_count": null,
   "metadata": {},
   "outputs": [],
   "source": [
    "morphs = Hannanum().morphs('아버지가 방에 들어가신다. 그 방에는 내 동생이 있다.')\n",
    "morphs"
   ]
  },
  {
   "cell_type": "code",
   "execution_count": null,
   "metadata": {},
   "outputs": [],
   "source": [
    "morphs = Hannanum().morphs('아버지가방에 들어가신다. 그 방에는 내 동생이 있다.')\n",
    "morphs"
   ]
  },
  {
   "cell_type": "markdown",
   "metadata": {},
   "source": [
    "### 한국어 품사 태깅\n",
    "\n",
    "텍스트를 태그하는 길은 여러가지 있다. 아주 자주 사용하는 것으로 POS 태깅이 있다. \n",
    "\n",
    "형태소 분석기의 `.pos()` 함수는  사용해서 행태소의 품사를 얻어서 **(<형태소>,<품사>)** 튜플 리스트를 반환한다.\n"
   ]
  },
  {
   "cell_type": "code",
   "execution_count": null,
   "metadata": {},
   "outputs": [],
   "source": [
    "Kkma().sentences('자연어처리(NLP)가 한국어에서 특히 어려운 4가지 이유! 왜?')"
   ]
  },
  {
   "cell_type": "code",
   "execution_count": null,
   "metadata": {},
   "outputs": [],
   "source": [
    "Kkma().nouns('자연어처리(NLP)가 한국어에서 특히 어려운 4가지 이유! 왜?')"
   ]
  },
  {
   "cell_type": "code",
   "execution_count": null,
   "metadata": {},
   "outputs": [],
   "source": [
    "Kkma().pos('자연어처리(NLP)가 한국어에서 특히 어려운 4가지 이유! 왜?')"
   ]
  },
  {
   "cell_type": "code",
   "execution_count": null,
   "metadata": {},
   "outputs": [],
   "source": [
    "Kkma().pos('자연어처리(NLP)가 한국어에서 특히 어려운 4가지 이유! 왜?')"
   ]
  },
  {
   "cell_type": "code",
   "execution_count": null,
   "metadata": {},
   "outputs": [],
   "source": []
  },
  {
   "cell_type": "code",
   "execution_count": null,
   "metadata": {},
   "outputs": [],
   "source": [
    "Hannanum().nouns('자연어처리(NLP)가 한국어에서 특히 어려운 4가지 이유! 왜?')"
   ]
  },
  {
   "cell_type": "code",
   "execution_count": null,
   "metadata": {},
   "outputs": [],
   "source": [
    "Hannanum().morphs('자연어처리(NLP)가 한국어에서 특히 어려운 4가지 이유! 왜?')"
   ]
  },
  {
   "cell_type": "code",
   "execution_count": null,
   "metadata": {},
   "outputs": [],
   "source": [
    "Hannanum().pos('자연어처리(NLP)가 한국어에서 특히 어려운 4가지 이유! 왜?')"
   ]
  },
  {
   "cell_type": "code",
   "execution_count": null,
   "metadata": {},
   "outputs": [],
   "source": []
  },
  {
   "cell_type": "code",
   "execution_count": null,
   "metadata": {},
   "outputs": [],
   "source": [
    "Okt().nouns('자연어처리(NLP)가 한국어에서 특히 어려운 4가지 이유! 왜?')"
   ]
  },
  {
   "cell_type": "code",
   "execution_count": null,
   "metadata": {},
   "outputs": [],
   "source": [
    "Okt().morphs('자연어처리(NLP)가 한국어에서 특히 어려운 4가지 이유! 왜?')"
   ]
  },
  {
   "cell_type": "code",
   "execution_count": null,
   "metadata": {},
   "outputs": [],
   "source": [
    "Okt().pos('자연어처리(NLP)가 한국어에서 특히 어려운 4가지 이유! 왜?')"
   ]
  },
  {
   "cell_type": "code",
   "execution_count": null,
   "metadata": {},
   "outputs": [],
   "source": []
  },
  {
   "cell_type": "code",
   "execution_count": null,
   "metadata": {},
   "outputs": [],
   "source": []
  },
  {
   "cell_type": "markdown",
   "metadata": {},
   "source": [
    "###  `nltk.Text()` 활용\n",
    "\n",
    "\n",
    "[nltk.text.Text](http://www.nltk.org/api/nltk.html#nltk.text.Text) 에서 제공하는 API 를 사용해 보자. 텍스트를 토큰으로 래핑해주는 기능이며 여러 메서드 (couting, concordanceing, collocation discovery...)는 분석의 다양성을 제공한다.\n",
    "\n",
    "- [class nltk.text.Text(tokens, name=None)](https://www.nltk.org/api/nltk.html?highlight=nltk%20text#nltk.text.Text) \n",
    "\n",
    "들여온 문서는`nltk.Text()`는 문서 하나를 편리하게 탐색하도록 태그를 생성해 준다. "
   ]
  },
  {
   "cell_type": "code",
   "execution_count": null,
   "metadata": {
    "tags": []
   },
   "outputs": [],
   "source": [
    "doc_ko = kobill.open('1809897.txt').read()\n",
    "tokens_ko = nltk.regexp_tokenize(doc_ko, r'(\\w+)')\n",
    "tokens_ko"
   ]
  },
  {
   "cell_type": "code",
   "execution_count": null,
   "metadata": {},
   "outputs": [],
   "source": [
    "tokens_ko[:10]"
   ]
  },
  {
   "cell_type": "code",
   "execution_count": null,
   "metadata": {},
   "outputs": [],
   "source": [
    "ko = nltk.Text(tokens_ko, name='대한민국 국회 의안 제 1809897호')"
   ]
  },
  {
   "cell_type": "code",
   "execution_count": null,
   "metadata": {},
   "outputs": [],
   "source": [
    "type(ko)"
   ]
  },
  {
   "cell_type": "code",
   "execution_count": null,
   "metadata": {
    "tags": []
   },
   "outputs": [],
   "source": [
    "ko.tokens"
   ]
  },
  {
   "cell_type": "markdown",
   "metadata": {},
   "source": [
    "#### 빈도분포 `.vocab()`\n",
    "\n",
    "`.vocab()` 은 토큰의 **빈도분포(frequency distribution)**를 반환해 준다."
   ]
  },
  {
   "cell_type": "code",
   "execution_count": null,
   "metadata": {},
   "outputs": [],
   "source": [
    "ko.vocab()"
   ]
  },
  {
   "cell_type": "code",
   "execution_count": null,
   "metadata": {
    "tags": []
   },
   "outputs": [],
   "source": [
    "plt.figure(figsize=(12,6))\n",
    "ko.plot(50)\n",
    "plt.show()"
   ]
  },
  {
   "cell_type": "markdown",
   "metadata": {},
   "source": [
    "필터링..."
   ]
  },
  {
   "cell_type": "markdown",
   "metadata": {},
   "source": [
    "단어와 일치하는 토큰수.."
   ]
  },
  {
   "cell_type": "code",
   "execution_count": null,
   "metadata": {},
   "outputs": [],
   "source": [
    "ko.count('교육')"
   ]
  },
  {
   "cell_type": "code",
   "execution_count": null,
   "metadata": {},
   "outputs": [],
   "source": [
    "ko.count('지원')"
   ]
  },
  {
   "cell_type": "markdown",
   "metadata": {},
   "source": [
    "분산(Dispersion) 플롯"
   ]
  },
  {
   "cell_type": "code",
   "execution_count": null,
   "metadata": {},
   "outputs": [],
   "source": [
    "plt.figure(figsize=(12,6))\n",
    "ko.dispersion_plot([ 'UAE', '군', '교육훈련', '지원' ])"
   ]
  },
  {
   "cell_type": "markdown",
   "metadata": {},
   "source": [
    "#### 일치(Concordance)\n",
    "\n",
    "토큰에서 일치하는 부분을 출력한다."
   ]
  },
  {
   "cell_type": "code",
   "execution_count": null,
   "metadata": {},
   "outputs": [],
   "source": [
    "ko.concordance('UAE', lines=5)"
   ]
  },
  {
   "cell_type": "markdown",
   "metadata": {},
   "source": [
    "### 유사 단어 찾기\n",
    "\n",
    "[text.Text.similar()](https://www.nltk.org/api/nltk.html?highlight=nltk%20text#nltk.text.Text.similar)는 분포 유사성에 따라 단어를 찾는다."
   ]
  },
  {
   "cell_type": "code",
   "execution_count": null,
   "metadata": {},
   "outputs": [],
   "source": [
    "ko.similar('부대')"
   ]
  },
  {
   "cell_type": "markdown",
   "metadata": {
    "id": "ZKTPlMJ3dK6x"
   },
   "source": [
    "---\n",
    "\n",
    "## 요약\n",
    "\n",
    "* KoNLPy 코퍼스\n",
    "* 한글 형태소 분석\n",
    "* 한글 단어 토큰\n",
    "* NLTK Text\n",
    "* PoS Tagging\n"
   ]
  },
  {
   "cell_type": "code",
   "execution_count": null,
   "metadata": {},
   "outputs": [],
   "source": []
  },
  {
   "cell_type": "code",
   "execution_count": null,
   "metadata": {},
   "outputs": [],
   "source": []
  },
  {
   "cell_type": "code",
   "execution_count": null,
   "metadata": {},
   "outputs": [],
   "source": []
  },
  {
   "cell_type": "markdown",
   "metadata": {},
   "source": [
    "# 빈도 분석 응용"
   ]
  },
  {
   "cell_type": "code",
   "execution_count": null,
   "metadata": {},
   "outputs": [],
   "source": []
  },
  {
   "cell_type": "markdown",
   "metadata": {},
   "source": [
    "## 영문 빈도분석"
   ]
  },
  {
   "cell_type": "code",
   "execution_count": null,
   "metadata": {},
   "outputs": [],
   "source": [
    "mydoc = None\n",
    "with open('data/트럼프취임연설문.txt', 'r', encoding='euc-kr') as f:\n",
    "# with open(path, 'r', encoding='cp949') as f:\n",
    "    mydoc = f.read()\n",
    "    \n",
    "mydoc[:100]"
   ]
  },
  {
   "cell_type": "code",
   "execution_count": null,
   "metadata": {},
   "outputs": [],
   "source": [
    "tokenizer = RegexpTokenizer('[\\w]+')"
   ]
  },
  {
   "cell_type": "code",
   "execution_count": null,
   "metadata": {},
   "outputs": [],
   "source": [
    "words = mydoc.lower()\n",
    "tokens = tokenizer.tokenize(words)"
   ]
  },
  {
   "cell_type": "markdown",
   "metadata": {},
   "source": [
    "### NLTK 영문 불용어"
   ]
  },
  {
   "cell_type": "code",
   "execution_count": null,
   "metadata": {},
   "outputs": [],
   "source": [
    "stop_words = stopwords.words('english')"
   ]
  },
  {
   "cell_type": "code",
   "execution_count": null,
   "metadata": {},
   "outputs": [],
   "source": [
    "stopped_tokens = [word for word in list(tokens) if not word in stop_words]\n",
    "stopped_tokens2 = [word for word in stopped_tokens if len(word) > 1]"
   ]
  },
  {
   "cell_type": "markdown",
   "metadata": {},
   "source": [
    "### pandas 이용 빈도"
   ]
  },
  {
   "cell_type": "code",
   "execution_count": null,
   "metadata": {},
   "outputs": [],
   "source": [
    "import pandas as pd\n",
    "myseries = pd.Series(stopped_tokens2).value_counts()\n",
    "myseries.head(10)"
   ]
  },
  {
   "cell_type": "code",
   "execution_count": null,
   "metadata": {
    "tags": []
   },
   "outputs": [],
   "source": [
    "mydic = dict(myseries)"
   ]
  },
  {
   "cell_type": "code",
   "execution_count": null,
   "metadata": {
    "tags": []
   },
   "outputs": [],
   "source": [
    "mydic"
   ]
  },
  {
   "cell_type": "code",
   "execution_count": null,
   "metadata": {},
   "outputs": [],
   "source": [
    "import matplotlib.pyplot as \n",
    "from wordcloud import WordCloud"
   ]
  },
  {
   "cell_type": "code",
   "execution_count": null,
   "metadata": {},
   "outputs": [],
   "source": [
    "wc = WordCloud(background_color=\"white\", random_state=0)\n",
    "plt.figure(figsize=(12,8))\n",
    "plt.imshow(wc.generate_from_frequencies(dict(myseries[:50])))\n",
    "plt.axis(\"off\")\n",
    "plt.show()"
   ]
  },
  {
   "cell_type": "code",
   "execution_count": null,
   "metadata": {},
   "outputs": [],
   "source": []
  },
  {
   "cell_type": "markdown",
   "metadata": {},
   "source": [
    ">"
   ]
  },
  {
   "cell_type": "markdown",
   "metadata": {},
   "source": [
    ">"
   ]
  },
  {
   "cell_type": "markdown",
   "metadata": {},
   "source": [
    "## 한글 빈도분석"
   ]
  },
  {
   "cell_type": "code",
   "execution_count": null,
   "metadata": {},
   "outputs": [],
   "source": [
    "path = 'data/문재인대통령취임연설문.txt'\n",
    "mydoc = None\n",
    "with open(path, 'r', encoding='euckr') as f:\n",
    "    mydoc = f.read()\n",
    "    \n",
    "mydoc[:100]"
   ]
  },
  {
   "cell_type": "markdown",
   "metadata": {},
   "source": [
    "## 한글 불용어\n",
    "\n",
    "\n",
    "한국어 같은 경우는 토큰화 단계에서 조사나, 접속사를 제거하면 됨으로 따로 정해진 불용어가 없다.\n",
    "\n",
    "필요없는 명사나 형용사를 제거하고자 할 때 아래 코드와 같이 직접 불용어 리스트를 정의한 다음 한국어 불용어를 제거한다.\n"
   ]
  },
  {
   "cell_type": "code",
   "execution_count": null,
   "metadata": {},
   "outputs": [],
   "source": [
    "# 샘플\n",
    "words = ['소설', '시', '인문', '역사', '예술', '종교', '사회', '과학','경제 경영', '자기계발', '만화', '여행', '잡지',\n",
    "        '어린이', '청소년','유아', '요리','육아', '가정 살림', '건강 취미', '대학교재','국어와 외국어', 'IT 모바일',\n",
    "        '수험서 자격증', '초등참고서', '중고등참고서']   #yes24.com의 Category"
   ]
  },
  {
   "cell_type": "code",
   "execution_count": null,
   "metadata": {},
   "outputs": [],
   "source": [
    "stopwords = ['유아', '청소년', '어린이', '육아', '성인', '19금']"
   ]
  },
  {
   "cell_type": "code",
   "execution_count": null,
   "metadata": {
    "tags": []
   },
   "outputs": [],
   "source": [
    "[word for word in words if word not in stopwords]"
   ]
  },
  {
   "cell_type": "code",
   "execution_count": null,
   "metadata": {},
   "outputs": [],
   "source": []
  },
  {
   "cell_type": "markdown",
   "metadata": {},
   "source": [
    "### 불용어 파일 사용\n",
    "\n",
    " - ex: https://www.ranks.nl/stopwords/korean"
   ]
  },
  {
   "cell_type": "code",
   "execution_count": null,
   "metadata": {},
   "outputs": [],
   "source": [
    "ko_text = open('data/눈의여왕.txt', encoding='utf-8').read()\n",
    "ko_stops = open('data/한글불용샘플.txt', encoding='utf-8').read()"
   ]
  },
  {
   "cell_type": "code",
   "execution_count": null,
   "metadata": {
    "tags": []
   },
   "outputs": [],
   "source": [
    "ko_text"
   ]
  },
  {
   "cell_type": "code",
   "execution_count": null,
   "metadata": {},
   "outputs": [],
   "source": [
    "word_tokens = nltk.word_tokenize(ko_text)\n",
    "stop_words = ko_stops.split(' ')"
   ]
  },
  {
   "cell_type": "code",
   "execution_count": null,
   "metadata": {},
   "outputs": [],
   "source": [
    "# ko_list = [] \n",
    "# for w in word_tokens: \n",
    "#     if w not in stop_words: \n",
    "#         ko_list.append(w) "
   ]
  },
  {
   "cell_type": "code",
   "execution_count": null,
   "metadata": {},
   "outputs": [],
   "source": [
    "len(word_tokens)"
   ]
  },
  {
   "cell_type": "code",
   "execution_count": null,
   "metadata": {},
   "outputs": [],
   "source": [
    "# 불용어 제거\n",
    "ko_tokens = [each_word for each_word in word_tokens if each_word not in stop_words]"
   ]
  },
  {
   "cell_type": "code",
   "execution_count": null,
   "metadata": {
    "tags": []
   },
   "outputs": [],
   "source": [
    "len(ko_tokens)"
   ]
  },
  {
   "cell_type": "code",
   "execution_count": null,
   "metadata": {},
   "outputs": [],
   "source": [
    "ko_tokens = [word for word in ko_tokens if len(word) > 1]   #1글자 제외"
   ]
  },
  {
   "cell_type": "code",
   "execution_count": null,
   "metadata": {},
   "outputs": [],
   "source": [
    "len(ko_tokens)"
   ]
  },
  {
   "cell_type": "code",
   "execution_count": null,
   "metadata": {
    "tags": []
   },
   "outputs": [],
   "source": [
    "wc = WordCloud(font_path= \"C:/Windows/Fonts/NanumGothic.ttf\",\n",
    "               background_color='white', max_words=2000,\n",
    "              stopwords = stop_words)\n",
    "# wc = wc.generate(ko_list) # array-like\n",
    "wc = wc.generate(str(ko_tokens))\n",
    "wc.words_"
   ]
  },
  {
   "cell_type": "code",
   "execution_count": null,
   "metadata": {
    "scrolled": true
   },
   "outputs": [],
   "source": []
  },
  {
   "cell_type": "code",
   "execution_count": null,
   "metadata": {},
   "outputs": [],
   "source": [
    "plt.figure(figsize=(12,12))\n",
    "plt.imshow(wc, interpolation='bilinear')\n",
    "plt.axis('off')\n",
    "plt.show()"
   ]
  },
  {
   "cell_type": "code",
   "execution_count": null,
   "metadata": {},
   "outputs": [],
   "source": []
  },
  {
   "cell_type": "code",
   "execution_count": null,
   "metadata": {},
   "outputs": [],
   "source": []
  },
  {
   "cell_type": "markdown",
   "metadata": {},
   "source": [
    "### nltk.Text 이용"
   ]
  },
  {
   "cell_type": "code",
   "execution_count": null,
   "metadata": {},
   "outputs": [],
   "source": [
    "ko_nouns = Okt().nouns(ko_text)"
   ]
  },
  {
   "cell_type": "code",
   "execution_count": null,
   "metadata": {},
   "outputs": [],
   "source": [
    "len(ko_nouns)"
   ]
  },
  {
   "cell_type": "code",
   "execution_count": null,
   "metadata": {},
   "outputs": [],
   "source": [
    "# 불용어 제거\n",
    "ko_tokens = [word for word in ko_nouns if word not in stop_words]"
   ]
  },
  {
   "cell_type": "code",
   "execution_count": null,
   "metadata": {
    "tags": []
   },
   "outputs": [],
   "source": [
    "len(ko_tokens)"
   ]
  },
  {
   "cell_type": "code",
   "execution_count": null,
   "metadata": {},
   "outputs": [],
   "source": [
    "ko_tokens = [word for word in ko_tokens if len(word) > 1]   #1글자 제외"
   ]
  },
  {
   "cell_type": "code",
   "execution_count": null,
   "metadata": {},
   "outputs": [],
   "source": [
    "len(ko_tokens)"
   ]
  },
  {
   "cell_type": "code",
   "execution_count": null,
   "metadata": {},
   "outputs": [],
   "source": [
    "# nltk.Text 이용\n",
    "import nltk\n",
    "kotext = nltk.Text(ko_nouns)"
   ]
  },
  {
   "cell_type": "code",
   "execution_count": null,
   "metadata": {},
   "outputs": [],
   "source": [
    "kodic = kotext.vocab().most_common(100)"
   ]
  },
  {
   "cell_type": "code",
   "execution_count": null,
   "metadata": {},
   "outputs": [],
   "source": [
    "# font_path = '~/Library/Fonts/NanumGothic.otf'\n",
    "font_path= \"C:/Windows/Fonts/NanumGothic.ttf\"\n",
    "\n",
    "wordcloud = WordCloud(font_path=font_path,\n",
    "                      relative_scaling = 0.2,\n",
    "                      background_color='white')\n",
    "\n",
    "wordcloud = wordcloud.generate_from_frequencies(dict(kodic))\n",
    "plt.figure(figsize=(12,8))\n",
    "plt.imshow(wordcloud)\n",
    "plt.axis(\"off\")\n",
    "plt.show()"
   ]
  },
  {
   "cell_type": "markdown",
   "metadata": {
    "id": "hZyqsuTgBWtk"
   },
   "source": [
    "## Naver 뉴스검색 빈도분석"
   ]
  },
  {
   "cell_type": "code",
   "execution_count": null,
   "metadata": {
    "id": "UXG0Z2KK-qJ_",
    "outputId": "91441ecd-e1d4-484a-e690-0d207402f685",
    "tags": []
   },
   "outputs": [],
   "source": [
    "import requests\n",
    "from bs4 import BeautifulSoup\n",
    "\n",
    "# url = 'https://search.naver.com/search.naver?query=삼성전자'\n",
    "url = 'https://search.naver.com/search.naver?where=news&query=삼성전자'\n",
    "headers = {'user-agent': 'Mozilla/5.0'}\n",
    "r = requests.get(url, headers=headers)\n",
    "soup = BeautifulSoup(r.text)\n",
    "[s.extract() for s in soup('script')]"
   ]
  },
  {
   "cell_type": "markdown",
   "metadata": {
    "id": "GvixJHniBWtl"
   },
   "source": [
    "### pandas 이용 빈도분석"
   ]
  },
  {
   "cell_type": "code",
   "execution_count": null,
   "metadata": {
    "id": "18RFiRGeBWtl",
    "outputId": "0b1fa138-c954-42de-8b0d-a29b04d0c810"
   },
   "outputs": [],
   "source": [
    "from konlpy.tag import Okt, Kkma\n",
    "\n",
    "news_nouns = Kkma().nouns(soup.text)\n",
    "news_nouns[:20]"
   ]
  },
  {
   "cell_type": "code",
   "execution_count": null,
   "metadata": {
    "id": "LfVwbARKBWtm",
    "outputId": "0e1f7f2e-badd-4bfd-b954-d4a405a126d7"
   },
   "outputs": [],
   "source": [
    "news_nouns = Okt().nouns(soup.text)\n",
    "news_nouns[:20]"
   ]
  },
  {
   "cell_type": "code",
   "execution_count": null,
   "metadata": {},
   "outputs": [],
   "source": [
    "# 불용어 제거\n",
    "news_tokens = [word for word in news_nouns if word not in stop_words]"
   ]
  },
  {
   "cell_type": "code",
   "execution_count": null,
   "metadata": {
    "tags": []
   },
   "outputs": [],
   "source": [
    "len(news_tokens)"
   ]
  },
  {
   "cell_type": "code",
   "execution_count": null,
   "metadata": {},
   "outputs": [],
   "source": [
    "news_tokens = [word for word in news_tokens if len(word) > 1]   #1글자 제외"
   ]
  },
  {
   "cell_type": "code",
   "execution_count": null,
   "metadata": {},
   "outputs": [],
   "source": [
    "len(news_tokens)"
   ]
  },
  {
   "cell_type": "code",
   "execution_count": null,
   "metadata": {
    "id": "dzkgPiaKBWtn",
    "outputId": "b1444a61-cd19-44e7-821a-f3df205f6c7c"
   },
   "outputs": [],
   "source": [
    "import pandas as pd\n",
    "dataseries = pd.Series(news_nouns).value_counts()\n",
    "dataseries.head(10)"
   ]
  },
  {
   "cell_type": "code",
   "execution_count": null,
   "metadata": {
    "id": "Hjb2z_AdBWtn",
    "outputId": "6601c96a-dfdf-4c42-aa4e-10ae74ee9f2d"
   },
   "outputs": [],
   "source": [
    "# font_path = '~/Library/Fonts/NanumGothic.otf'\n",
    "font_path= \"C:/Windows/Fonts/NanumGothic.ttf\"\n",
    "\n",
    "wordcloud = WordCloud(font_path=font_path,\n",
    "                      relative_scaling = 0.2,\n",
    "                      background_color='white')\n",
    "\n",
    "wordcloud = wordcloud.generate_from_frequencies(dict(dataseries[:50]))\n",
    "\n",
    "plt.figure(figsize=(12,8))\n",
    "plt.imshow(wordcloud)\n",
    "plt.axis(\"off\")\n",
    "plt.show()"
   ]
  },
  {
   "cell_type": "code",
   "execution_count": null,
   "metadata": {},
   "outputs": [],
   "source": []
  },
  {
   "cell_type": "code",
   "execution_count": null,
   "metadata": {},
   "outputs": [],
   "source": []
  },
  {
   "cell_type": "code",
   "execution_count": null,
   "metadata": {},
   "outputs": [],
   "source": []
  },
  {
   "cell_type": "markdown",
   "metadata": {},
   "source": []
  }
 ],
 "metadata": {
  "colab": {
   "collapsed_sections": [],
   "include_colab_link": true,
   "name": "텍스트 마이닝 03 - 자연어 텍스트 처리 (NLTK).ipynb",
   "provenance": []
  },
  "kernelspec": {
   "display_name": "Python 3 (ipykernel)",
   "language": "python",
   "name": "python3"
  },
  "language_info": {
   "codemirror_mode": {
    "name": "ipython",
    "version": 3
   },
   "file_extension": ".py",
   "mimetype": "text/x-python",
   "name": "python",
   "nbconvert_exporter": "python",
   "pygments_lexer": "ipython3",
   "version": "3.10.6"
  }
 },
 "nbformat": 4,
 "nbformat_minor": 4
}
