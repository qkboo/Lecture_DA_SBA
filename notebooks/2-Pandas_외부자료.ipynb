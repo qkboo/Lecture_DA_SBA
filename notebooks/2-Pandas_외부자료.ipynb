{
 "cells": [
  {
   "cell_type": "markdown",
   "metadata": {},
   "source": [
    "# Pandas 외부 파일 다루기\n",
    "\n",
    "1. 텍스트 파일\n",
    "1. 엑셀파일\n"
   ]
  },
  {
   "cell_type": "markdown",
   "metadata": {},
   "source": [
    "파일 `pandas_외부자료_data.zip` :\n",
    "\n",
    "    - '주요발생국가주간동향(4월2째주).csv'\n",
    "    - 'kto_201901.xlsx'\n",
    "    - 'nba.csv'\n",
    "    - '행정구역_읍면동_별_5세별_주민등록인구_2011년__20220622170418.xlsx'"
   ]
  },
  {
   "cell_type": "code",
   "execution_count": null,
   "metadata": {},
   "outputs": [],
   "source": [
    "#-*- coding: utf-8 -*-\n",
    "import pandas as pd\n",
    "import numpy as np\n",
    "import matplotlib as mpl\n",
    "import matplotlib.pyplot as plt\n",
    "%matplotlib inline\n"
   ]
  },
  {
   "cell_type": "markdown",
   "metadata": {},
   "source": [
    "# 1. 텍스트 파일\n",
    "\n",
    " - csv, tsv, txt, json 등의 텍스트 형식"
   ]
  },
  {
   "cell_type": "markdown",
   "metadata": {},
   "source": [
    "## `read_csv()` \n",
    "\n",
    "[pandas.read_csv()](https://pandas.pydata.org/pandas-docs/stable/generated/pandas.read_csv.html#pandas.read_csv) \n",
    "\n",
    "\n",
    "\n",
    "주요 파라미터:\n",
    "\n",
    " - `engine=` 옵션: 'c','python'. 파서 엔진으로 C엔진이 빠르다. python 엔진은 기능이 더 완전하다.\n",
    " - `parse_date=`: boolean or list of ints or names or list of lists or dict, default False\n",
    "     - True면 index 파싱. 리스트를 묶어 하나로 파싱한다."
   ]
  },
  {
   "cell_type": "code",
   "execution_count": null,
   "metadata": {},
   "outputs": [],
   "source": [
    "df = pd.read_csv('data/주요발생국가주간동향(4월2째주).csv')\n",
    "df.head()"
   ]
  },
  {
   "cell_type": "code",
   "execution_count": null,
   "metadata": {},
   "outputs": [],
   "source": [
    "# 국가를 index\n",
    "df = pd.read_csv('data/주요발생국가주간동향(4월2째주).csv', index_col=0)\n",
    "df.head()"
   ]
  },
  {
   "cell_type": "code",
   "execution_count": null,
   "metadata": {},
   "outputs": [],
   "source": [
    "df.index"
   ]
  },
  {
   "cell_type": "code",
   "execution_count": null,
   "metadata": {},
   "outputs": [],
   "source": [
    "df.values"
   ]
  },
  {
   "cell_type": "markdown",
   "metadata": {},
   "source": []
  },
  {
   "cell_type": "code",
   "execution_count": null,
   "metadata": {},
   "outputs": [],
   "source": []
  },
  {
   "cell_type": "code",
   "execution_count": null,
   "metadata": {},
   "outputs": [],
   "source": []
  },
  {
   "cell_type": "markdown",
   "metadata": {},
   "source": [
    "### nba.csv"
   ]
  },
  {
   "cell_type": "markdown",
   "metadata": {},
   "source": [
    "\n"
   ]
  },
  {
   "cell_type": "code",
   "execution_count": null,
   "metadata": {},
   "outputs": [],
   "source": [
    "# - Data_Analysis_with_Pandas_Python 의 샘플\n",
    "# nba = pd.read_csv('https://raw.githubusercontent.com/sivabalanb/Data-Analysis-with-Pandas-and-Python/master/nba.csv')"
   ]
  },
  {
   "cell_type": "code",
   "execution_count": null,
   "metadata": {},
   "outputs": [],
   "source": [
    "nba = pd.read_csv('data/nba.csv')\n",
    "\n",
    "nba.head(3)"
   ]
  },
  {
   "cell_type": "markdown",
   "metadata": {},
   "source": [
    "나이와 몸무게를 출력"
   ]
  },
  {
   "cell_type": "code",
   "execution_count": null,
   "metadata": {},
   "outputs": [],
   "source": [
    "nba[['Age', 'Weight']].plot()"
   ]
  },
  {
   "cell_type": "code",
   "execution_count": null,
   "metadata": {},
   "outputs": [],
   "source": [
    "nba.tail()"
   ]
  },
  {
   "cell_type": "markdown",
   "metadata": {},
   "source": [
    "전체 크기, 컬럼 이름, "
   ]
  },
  {
   "cell_type": "code",
   "execution_count": null,
   "metadata": {},
   "outputs": [],
   "source": [
    "nba.index"
   ]
  },
  {
   "cell_type": "code",
   "execution_count": null,
   "metadata": {},
   "outputs": [],
   "source": [
    "nba.shape"
   ]
  },
  {
   "cell_type": "code",
   "execution_count": null,
   "metadata": {},
   "outputs": [],
   "source": [
    "nba.columns"
   ]
  },
  {
   "cell_type": "code",
   "execution_count": null,
   "metadata": {},
   "outputs": [],
   "source": [
    "nba.axes"
   ]
  },
  {
   "cell_type": "code",
   "execution_count": null,
   "metadata": {},
   "outputs": [],
   "source": [
    "nba.info()"
   ]
  },
  {
   "cell_type": "code",
   "execution_count": null,
   "metadata": {},
   "outputs": [],
   "source": [
    "nba.dtypes"
   ]
  },
  {
   "cell_type": "code",
   "execution_count": null,
   "metadata": {},
   "outputs": [],
   "source": [
    "type(nba.values)"
   ]
  },
  {
   "cell_type": "code",
   "execution_count": null,
   "metadata": {},
   "outputs": [],
   "source": [
    "nba.values"
   ]
  },
  {
   "cell_type": "markdown",
   "metadata": {},
   "source": [
    "보유한 데이터의 형식별 숫자"
   ]
  },
  {
   "cell_type": "code",
   "execution_count": null,
   "metadata": {},
   "outputs": [],
   "source": [
    "# 0.25 Deprecated\n",
    "# counts of data types: nba.get_dtype_counts()"
   ]
  },
  {
   "cell_type": "markdown",
   "metadata": {},
   "source": [
    "# ex) Index 조회"
   ]
  },
  {
   "cell_type": "code",
   "execution_count": null,
   "metadata": {},
   "outputs": [],
   "source": [
    "nba.index"
   ]
  },
  {
   "cell_type": "code",
   "execution_count": null,
   "metadata": {},
   "outputs": [],
   "source": [
    "nba.loc[300]"
   ]
  },
  {
   "cell_type": "code",
   "execution_count": null,
   "metadata": {},
   "outputs": [],
   "source": [
    "nba.iloc[0]"
   ]
  },
  {
   "cell_type": "markdown",
   "metadata": {
    "tags": []
   },
   "source": [
    "#### ex) Index 와 column 동시 조회"
   ]
  },
  {
   "cell_type": "code",
   "execution_count": null,
   "metadata": {},
   "outputs": [],
   "source": [
    "nba.loc[200][['Age','Weight']]"
   ]
  },
  {
   "cell_type": "markdown",
   "metadata": {
    "tags": []
   },
   "source": [
    "#### ex) 조건 조회\n",
    "\n",
    "- info\n",
    "- describe\n",
    "- shape, ndim......\n",
    "\n",
    "조건\n",
    " - Age > 26\n",
    " - Team == Utah Jazz & Salary > 900000\n",
    " "
   ]
  },
  {
   "cell_type": "code",
   "execution_count": null,
   "metadata": {},
   "outputs": [],
   "source": [
    "nba[(nba.Team == \"Utah Jazz\") & (nba.Salary > 900000)]"
   ]
  },
  {
   "cell_type": "code",
   "execution_count": null,
   "metadata": {},
   "outputs": [],
   "source": [
    "nba[ (nba['Age'] > 30) & (nba['Weight'] > 100)]"
   ]
  },
  {
   "cell_type": "code",
   "execution_count": null,
   "metadata": {},
   "outputs": [],
   "source": [
    "nba[ (nba['Age'] > 30) & (nba['Weight'] > 100)].plot()"
   ]
  },
  {
   "cell_type": "code",
   "execution_count": null,
   "metadata": {},
   "outputs": [],
   "source": []
  },
  {
   "cell_type": "code",
   "execution_count": null,
   "metadata": {},
   "outputs": [],
   "source": []
  },
  {
   "cell_type": "code",
   "execution_count": null,
   "metadata": {},
   "outputs": [],
   "source": []
  },
  {
   "attachments": {
    "a330a0d0-28f6-4c8a-a01b-0392b15719d0.png": {
     "image/png": "[encoded data removed]"
    }
   },
   "cell_type": "markdown",
   "metadata": {},
   "source": [
    "### 'UTF-8\" encoding 에러\n",
    "\n",
    "![스크린샷 2022-10-11 오후 5.04.31.png](attachment:a330a0d0-28f6-4c8a-a01b-0392b15719d0.png)\n",
    "\n",
    "encoding 을 unicode_escape 로 지정해 사용 가능하다."
   ]
  },
  {
   "cell_type": "code",
   "execution_count": null,
   "metadata": {},
   "outputs": [],
   "source": [
    "# example\n",
    "pd.read_csv('https://github.com/myeonghak/Recsys_MF_example/raw/master/ecommerce_data.csv')"
   ]
  },
  {
   "cell_type": "markdown",
   "metadata": {},
   "source": []
  },
  {
   "cell_type": "markdown",
   "metadata": {},
   "source": [
    "### ex) 다음 링ㅋ의 과정을 위 nba 자료로 수행해 보자.\n",
    "\n",
    "https://pandas.pydata.org/docs/getting_started/comparison/comparison_with_sql.html"
   ]
  },
  {
   "cell_type": "markdown",
   "metadata": {
    "tags": []
   },
   "source": [
    "# 2. Excel 파일\n",
    "\n",
    "외부 데이터 파일 xls, xlsx 사용\n",
    "\n",
    " - pandas 사용\n",
    " - openpyxl 설치\n",
    " - xlrd 설치"
   ]
  },
  {
   "cell_type": "markdown",
   "metadata": {},
   "source": [
    "####  openpyxl 과 xlrd\n",
    "\n",
    "openpyxl 은 Excel 2010 xlsx/xlsm/xltx/xltm 파일을 읽고/쓰기가 가능하다.\n",
    "\n",
    " - https://pypi.org/project/openpyxl/ \n",
    " \n",
    "```Shell\n",
    "pip install -U openpyxl xlrd\n",
    "\n",
    "conda install -c anaconda openpyxl  xlrd\n",
    "```"
   ]
  },
  {
   "cell_type": "code",
   "execution_count": null,
   "metadata": {},
   "outputs": [],
   "source": [
    "! pip install openpyxl xlrd"
   ]
  },
  {
   "cell_type": "markdown",
   "metadata": {},
   "source": [
    "## `read_excel()` \n",
    "\n",
    "[pandas.read_excel()](https://pandas.pydata.org/docs/reference/api/pandas.read_excel.html) \n",
    "\n",
    "\n",
    "주요 파라미터:\n",
    "\n",
    " - `sheet_name=` : 워크시트 이름\n",
    " - `engine=`:  “xlrd”, “openpyxl”, “odf”, “pyxlsb\"\n",
    " - `parse_date=`: boolean or list of ints or names or list of lists or dict, default False\n",
    "     - True면 index 파싱. 리스트를 묶어 하나로 파싱한다."
   ]
  },
  {
   "cell_type": "markdown",
   "metadata": {},
   "source": [
    "### xls 파일"
   ]
  },
  {
   "cell_type": "code",
   "execution_count": null,
   "metadata": {
    "tags": []
   },
   "outputs": [],
   "source": [
    "seouppop = pd.read_excel('../data/seoul_pop_22Q4Report.xls')\n",
    "seouppop.head(3)"
   ]
  },
  {
   "cell_type": "markdown",
   "metadata": {},
   "source": [
    "### xlsx 파일"
   ]
  },
  {
   "cell_type": "code",
   "execution_count": null,
   "metadata": {},
   "outputs": [],
   "source": [
    "foreign_201901 = pd.read_excel('../data/kto_201901.xlsx', \n",
    "                          header=1,\n",
    "                          usecols='A:G',\n",
    "                          skipfooter=4)\n",
    "\n",
    "foreign_201901.head()"
   ]
  },
  {
   "cell_type": "code",
   "execution_count": null,
   "metadata": {},
   "outputs": [],
   "source": []
  },
  {
   "cell_type": "markdown",
   "metadata": {},
   "source": [
    "## 경고 / 에러"
   ]
  },
  {
   "attachments": {
    "5692ed49-e78b-4362-ba25-788bf7fa6b44.png": {
     "image/png": "[encoded data removed]"
    }
   },
   "cell_type": "markdown",
   "metadata": {},
   "source": [
    "### no default style\n",
    "\n",
    "![image.png](attachment:5692ed49-e78b-4362-ba25-788bf7fa6b44.png)"
   ]
  },
  {
   "cell_type": "code",
   "execution_count": null,
   "metadata": {},
   "outputs": [],
   "source": [
    "import pandas as pd"
   ]
  },
  {
   "cell_type": "code",
   "execution_count": null,
   "metadata": {
    "tags": []
   },
   "outputs": [],
   "source": [
    "df = pd.read_excel('../data/행정구역/행정구역_읍면동_별_5세별_주민등록인구_2011년__20220622170418.xlsx', header=1)"
   ]
  },
  {
   "cell_type": "code",
   "execution_count": null,
   "metadata": {},
   "outputs": [],
   "source": [
    "import openpyxl as opyxl\n",
    "\n",
    "load_wb = opyxl.load_workbook('../data/행정구역/행정구역_읍면동_별_5세별_주민등록인구_2011년__20220622170418.xlsx',\n",
    "                              data_only=True)\n",
    "population = load_wb['데이터']"
   ]
  },
  {
   "cell_type": "markdown",
   "metadata": {},
   "source": [
    "경고는 openpyxl 을 기본으로 사용하라는 의미로 아래 같이 엔진을 지정하면 된다."
   ]
  },
  {
   "cell_type": "code",
   "execution_count": null,
   "metadata": {},
   "outputs": [],
   "source": [
    "df = pd.read_excel('../data/행정구역/행정구역_읍면동_별_5세별_주민등록인구_2011년__20220622170418.xlsx', \n",
    "                   header=1,\n",
    "                   engine=\"openpyxl\")"
   ]
  },
  {
   "cell_type": "code",
   "execution_count": null,
   "metadata": {},
   "outputs": [],
   "source": []
  },
  {
   "cell_type": "code",
   "execution_count": null,
   "metadata": {},
   "outputs": [],
   "source": []
  },
  {
   "cell_type": "markdown",
   "metadata": {},
   "source": [
    "# 3. 화면 옵션"
   ]
  },
  {
   "cell_type": "code",
   "execution_count": null,
   "metadata": {},
   "outputs": [],
   "source": [
    "pd.set_option('display.float_format', '{:.3}'.format)  # exponent 표현\n",
    "pd.options.display.float_format = '{:.2f}'.format"
   ]
  },
  {
   "cell_type": "markdown",
   "metadata": {},
   "source": [
    "## Tqdm Pandas Integrations\n",
    "\n",
    "- https://github.com/tqdm/tqdm/#pandas-integration"
   ]
  },
  {
   "cell_type": "markdown",
   "metadata": {},
   "source": [
    "### IPython/Jupyter Integration\n",
    "\n",
    " - https://github.com/tqdm/tqdm/#table-of-contents\n",
    " \n",
    "IPython/Jupyter is supported via the tqdm.notebook submodule:"
   ]
  },
  {
   "cell_type": "code",
   "execution_count": null,
   "metadata": {},
   "outputs": [],
   "source": [
    "from tqdm.notebook import trange, tqdm\n",
    "from time import sleep\n",
    "\n",
    "for i in trange(3, desc='1st loop'):\n",
    "    for j in tqdm(range(100), desc='2nd loop'):\n",
    "        sleep(0.01)\n",
    "        "
   ]
  },
  {
   "cell_type": "code",
   "execution_count": null,
   "metadata": {},
   "outputs": [],
   "source": [
    "import pandas as pd\n",
    "import numpy as np\n",
    "from tqdm import tqdm\n",
    "\n",
    "df = pd.DataFrame(np.random.randint(0, 100, (100000, 6)))\n",
    "\n",
    "# Register `pandas.progress_apply` and `pandas.Series.map_apply` with `tqdm`\n",
    "# (can use `tqdm.gui.tqdm`, `tqdm.notebook.tqdm`, optional kwargs, etc.)\n",
    "tqdm.pandas(desc=\"my bar!\")\n",
    "\n",
    "# Now you can use `progress_apply` instead of `apply`\n",
    "# and `progress_map` instead of `map`\n",
    "df.progress_apply(lambda x: x**2)\n",
    "# can also groupby:\n",
    "# df.groupby(0).progress_apply(lambda x: x**2)"
   ]
  },
  {
   "cell_type": "markdown",
   "metadata": {},
   "source": [
    "# 참고\n",
    " - 도서 *Data_Analysis_with_Pandas_Python* , Pandas 로 데이터를 다루는 예\n",
    " - https://bitbucket.org/hrojas/learn-pandas\n",
    "\n"
   ]
  }
 ],
 "metadata": {
  "anaconda-cloud": {},
  "kernelspec": {
   "display_name": "Python 3 (ipykernel)",
   "language": "python",
   "name": "python3"
  },
  "language_info": {
   "codemirror_mode": {
    "name": "ipython",
    "version": 3
   },
   "file_extension": ".py",
   "mimetype": "text/x-python",
   "name": "python",
   "nbconvert_exporter": "python",
   "pygments_lexer": "ipython3",
   "version": "3.10.3"
  },
  "toc-autonumbering": false,
  "toc-showmarkdowntxt": false,
  "toc-showtags": false
 },
 "nbformat": 4,
 "nbformat_minor": 4
}
