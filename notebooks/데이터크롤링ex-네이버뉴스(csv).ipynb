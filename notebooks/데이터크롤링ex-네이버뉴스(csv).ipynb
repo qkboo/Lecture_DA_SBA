{
 "cells": [
  {
   "cell_type": "markdown",
   "metadata": {
    "id": "Z2U4oqJN7_Pz"
   },
   "source": [
    "# 네이버 뉴스 크롤링 - 구성 분석과 크롤링\n",
    "\n"
   ]
  },
  {
   "cell_type": "markdown",
   "metadata": {
    "id": "Bro_MDFHVMoI"
   },
   "source": [
    "## 네이버 뉴스 구성\n",
    "\n",
    "sid1(대분류)와 sid2(중분류)를 사용하여 뉴스 분야를 지정합니다.\n",
    "\n",
    "파라미터\n",
    "* sid1(대분류): 100=정치, 101=경제, 102=사회, 103=생활문화, 104=세계, 105=IT/과학\n",
    "* sid2(중분류)\n",
    "  * 정치(sid1=100): 264=청와대, 265=국회/정당, 268=북한, 266=행정, 267=국방/외교, 269=정치일반\n",
    "  * 경제(sid1=101): 258=증권, 261=산업/재계, 771=중기/벤처, 260=부동산, 262=글로벌 경제, 310=생활경제, 263=경제 일반\n",
    "  * 사회(sid1=102): 249=사건사고, 250=교육, 251=노동, 254=언론, 252=환경, 59b=인권/복지, 255=식품/의료, 256=지역, 276=인물, 257=사회 일반\n",
    "  * 생활문화(sid1=103):  241=건강정보, 239=자동차/시승기, 240=도로/교통, 237=여행/레저, 238=음식/맛집, 376=패션/뷰티, 242=공연/전시, 243=책, 244=종교, 248=날씨, 245=생활문화 일반\n",
    "  * 세계(sid1=104): 231=아시아/호주, 232=미국/중남미, 233=유럽, 234=중동/아프리카, 322=세계 일반\n",
    "  * IT/과학(sid1=105): 731=모바일, 226=인터넷/SNS, 227=통신/뉴미디어, 230=IT 일반, 732=보안/해킹, 283=컴퓨터, 229=게임/리뷰, 228=과학 일반\n",
    "* date=20180110 날짜를 지정해서 특정 날짜의 목록\n",
    "\n"
   ]
  },
  {
   "cell_type": "markdown",
   "metadata": {
    "id": "STWwHLdZibtj"
   },
   "source": [
    "예를 들어, \"경제 / 경제 일반\" 영역의 경우 URL은 다음과 같습니다\n",
    "\n",
    "https://news.naver.com/main/list.nhn?sid1=101&sid2=263&date=20190104&page=1\n",
    "\n",
    "\n",
    "<img src=\"https://i.imgur.com/aKfkdhE.png\">\n",
    "\n"
   ]
  },
  {
   "cell_type": "markdown",
   "metadata": {
    "id": "gVa08w_14tId"
   },
   "source": [
    "# 필요 모듈 가져오기및 설정"
   ]
  },
  {
   "cell_type": "code",
   "execution_count": null,
   "metadata": {
    "id": "1ZANoCrSNESX"
   },
   "outputs": [],
   "source": [
    "# !pip install -q newspaper3k"
   ]
  },
  {
   "cell_type": "code",
   "execution_count": null,
   "metadata": {
    "id": "YJ_kQYIRVMew"
   },
   "outputs": [],
   "source": [
    "import requests\n",
    "from bs4 import BeautifulSoup\n",
    "\n",
    "import dateutil\n",
    "import io\n",
    "import numpy as np\n",
    "import pandas as pd"
   ]
  },
  {
   "cell_type": "code",
   "execution_count": null,
   "metadata": {
    "id": "XceytETtWa8C",
    "jupyter": {
     "source_hidden": true
    },
    "tags": []
   },
   "outputs": [],
   "source": [
    "# 구글 Colab 경우 (타임존 설정)\n",
    "import os, time\n",
    "from datetime import datetime\n",
    "  \n",
    "os.environ['TZ'] = 'Asia/Seoul'\n",
    "time.tzset()"
   ]
  },
  {
   "cell_type": "markdown",
   "metadata": {
    "id": "7WbBjO2-nX_x"
   },
   "source": [
    "# 지정 영역 뉴스 목록 가져오기\n",
    "\n",
    "\"경제/경제 일반\" (sid1=101, sid2=263) 영역의 뉴스 목록 가져오기"
   ]
  },
  {
   "cell_type": "code",
   "execution_count": null,
   "metadata": {
    "colab": {
     "base_uri": "https://localhost:8080/"
    },
    "executionInfo": {
     "elapsed": 3943,
     "status": "ok",
     "timestamp": 1609645557264,
     "user": {
      "displayName": "Sean-June Lee",
      "photoUrl": "https://lh3.googleusercontent.com/a-/AOh14Gj6rvtcx9Gy8VOzzw2LH1hYtnxIuHBDw8qnYK9SAuY=s64",
      "userId": "12576390002043678893"
     },
     "user_tz": -540
    },
    "id": "PiQJ_7gXl9Ry",
    "outputId": "ef943669-02ee-4883-830e-f6626b3324f5"
   },
   "outputs": [],
   "source": [
    "r = requests.get('https://news.naver.com/')\n",
    "r"
   ]
  },
  {
   "cell_type": "code",
   "execution_count": null,
   "metadata": {
    "colab": {
     "base_uri": "https://localhost:8080/"
    },
    "executionInfo": {
     "elapsed": 4353,
     "status": "ok",
     "timestamp": 1609645557681,
     "user": {
      "displayName": "Sean-June Lee",
      "photoUrl": "https://lh3.googleusercontent.com/a-/AOh14Gj6rvtcx9Gy8VOzzw2LH1hYtnxIuHBDw8qnYK9SAuY=s64",
      "userId": "12576390002043678893"
     },
     "user_tz": -540
    },
    "id": "hvl2uyNPpvrr",
    "outputId": "40d991cf-1542-43c3-c2d4-4bdf84e66abf"
   },
   "outputs": [],
   "source": [
    "r = requests.get('https://news.naver.com/', headers={'user-agent':'chrome'})\n",
    "r"
   ]
  },
  {
   "cell_type": "markdown",
   "metadata": {},
   "source": [
    "뉴스 영역의 id"
   ]
  },
  {
   "cell_type": "code",
   "execution_count": null,
   "metadata": {
    "colab": {
     "base_uri": "https://localhost:8080/"
    },
    "executionInfo": {
     "elapsed": 5569,
     "status": "ok",
     "timestamp": 1609645558903,
     "user": {
      "displayName": "Sean-June Lee",
      "photoUrl": "https://lh3.googleusercontent.com/a-/AOh14Gj6rvtcx9Gy8VOzzw2LH1hYtnxIuHBDw8qnYK9SAuY=s64",
      "userId": "12576390002043678893"
     },
     "user_tz": -540
    },
    "id": "OkoH0rOMVMmM",
    "outputId": "b832aac8-de2f-4b22-be40-971d4676111f"
   },
   "outputs": [],
   "source": [
    "# \"경제/경제 일반\" 페이지의 뉴스 목록 가져오기\n",
    "import requests\n",
    "from bs4 import BeautifulSoup\n",
    "\n",
    "date, page = '20200101', '1'\n",
    "url = f'https://news.naver.com/main/list.nhn?mode=LS2D&mid=shm&sid1=101&sid2=263&date={date}&page={page}'\n",
    "\n",
    "r = requests.get(url, headers={'user-agent':'chrome'})\n",
    "soup = BeautifulSoup(r.text)"
   ]
  },
  {
   "cell_type": "markdown",
   "metadata": {},
   "source": [
    "<img src='https://i.imgur.com/FKzg6pz.png'>"
   ]
  },
  {
   "cell_type": "code",
   "execution_count": null,
   "metadata": {
    "colab": {
     "base_uri": "https://localhost:8080/"
    },
    "executionInfo": {
     "elapsed": 5569,
     "status": "ok",
     "timestamp": 1609645558903,
     "user": {
      "displayName": "Sean-June Lee",
      "photoUrl": "https://lh3.googleusercontent.com/a-/AOh14Gj6rvtcx9Gy8VOzzw2LH1hYtnxIuHBDw8qnYK9SAuY=s64",
      "userId": "12576390002043678893"
     },
     "user_tz": -540
    },
    "id": "OkoH0rOMVMmM",
    "outputId": "b832aac8-de2f-4b22-be40-971d4676111f"
   },
   "outputs": [],
   "source": [
    "main_content = soup.find(id='main_content')\n",
    "li_list = main_content.find_all('li')\n",
    "len(li_list)"
   ]
  },
  {
   "cell_type": "code",
   "execution_count": null,
   "metadata": {
    "colab": {
     "base_uri": "https://localhost:8080/"
    },
    "executionInfo": {
     "elapsed": 5563,
     "status": "ok",
     "timestamp": 1609645558904,
     "user": {
      "displayName": "Sean-June Lee",
      "photoUrl": "https://lh3.googleusercontent.com/a-/AOh14Gj6rvtcx9Gy8VOzzw2LH1hYtnxIuHBDw8qnYK9SAuY=s64",
      "userId": "12576390002043678893"
     },
     "user_tz": -540
    },
    "id": "RAAZN4WRdsqB",
    "outputId": "d493f06f-ffa3-491b-b4a4-72360d7603af"
   },
   "outputs": [],
   "source": [
    "li_list[0]"
   ]
  },
  {
   "cell_type": "code",
   "execution_count": null,
   "metadata": {
    "colab": {
     "base_uri": "https://localhost:8080/"
    },
    "executionInfo": {
     "elapsed": 5557,
     "status": "ok",
     "timestamp": 1609645558904,
     "user": {
      "displayName": "Sean-June Lee",
      "photoUrl": "https://lh3.googleusercontent.com/a-/AOh14Gj6rvtcx9Gy8VOzzw2LH1hYtnxIuHBDw8qnYK9SAuY=s64",
      "userId": "12576390002043678893"
     },
     "user_tz": -540
    },
    "id": "xzcl4TK0hYoq",
    "outputId": "821a1c68-2572-45fe-f1fb-dd8c929f22e4"
   },
   "outputs": [],
   "source": [
    "li_list[1]"
   ]
  },
  {
   "cell_type": "code",
   "execution_count": null,
   "metadata": {
    "colab": {
     "base_uri": "https://localhost:8080/"
    },
    "executionInfo": {
     "elapsed": 5552,
     "status": "ok",
     "timestamp": 1609645558905,
     "user": {
      "displayName": "Sean-June Lee",
      "photoUrl": "https://lh3.googleusercontent.com/a-/AOh14Gj6rvtcx9Gy8VOzzw2LH1hYtnxIuHBDw8qnYK9SAuY=s64",
      "userId": "12576390002043678893"
     },
     "user_tz": -540
    },
    "id": "q934wEpnDOce",
    "outputId": "03bd76f0-2172-42c6-f441-b759e826b06a"
   },
   "outputs": [],
   "source": [
    "# 날짜 파싱하기\n",
    "import dateutil\n",
    "\n",
    "date_str = '2019.01.04. 오후 11:17'\n",
    "date_str = date_str.replace('오후', '') + ' PM' if '오후' in date_str else date_str\n",
    "date_str = date_str.replace('오전', '') + ' AM' if '오전' in date_str else date_str\n",
    "\n",
    "dateutil.parser.parse(date_str)"
   ]
  },
  {
   "cell_type": "code",
   "execution_count": null,
   "metadata": {
    "colab": {
     "base_uri": "https://localhost:8080/"
    },
    "executionInfo": {
     "elapsed": 5546,
     "status": "ok",
     "timestamp": 1609645558906,
     "user": {
      "displayName": "Sean-June Lee",
      "photoUrl": "https://lh3.googleusercontent.com/a-/AOh14Gj6rvtcx9Gy8VOzzw2LH1hYtnxIuHBDw8qnYK9SAuY=s64",
      "userId": "12576390002043678893"
     },
     "user_tz": -540
    },
    "id": "KJXFRNvju6Ra",
    "outputId": "df843222-9087-4f2f-cc09-dca9feb16392"
   },
   "outputs": [],
   "source": [
    "li_list[2]"
   ]
  },
  {
   "cell_type": "code",
   "execution_count": null,
   "metadata": {
    "colab": {
     "base_uri": "https://localhost:8080/"
    },
    "executionInfo": {
     "elapsed": 5540,
     "status": "ok",
     "timestamp": 1609645558906,
     "user": {
      "displayName": "Sean-June Lee",
      "photoUrl": "https://lh3.googleusercontent.com/a-/AOh14Gj6rvtcx9Gy8VOzzw2LH1hYtnxIuHBDw8qnYK9SAuY=s64",
      "userId": "12576390002043678893"
     },
     "user_tz": -540
    },
    "id": "na-DmINZugp8",
    "outputId": "1cf49460-bbc8-4e4b-f721-f2f4684b6953"
   },
   "outputs": [],
   "source": [
    "li_list[3]"
   ]
  },
  {
   "cell_type": "markdown",
   "metadata": {},
   "source": [
    "## 지정영역 목록"
   ]
  },
  {
   "cell_type": "code",
   "execution_count": null,
   "metadata": {
    "colab": {
     "base_uri": "https://localhost:8080/"
    },
    "executionInfo": {
     "elapsed": 5535,
     "status": "ok",
     "timestamp": 1609645558907,
     "user": {
      "displayName": "Sean-June Lee",
      "photoUrl": "https://lh3.googleusercontent.com/a-/AOh14Gj6rvtcx9Gy8VOzzw2LH1hYtnxIuHBDw8qnYK9SAuY=s64",
      "userId": "12576390002043678893"
     },
     "user_tz": -540
    },
    "id": "rappiYRopSDi",
    "outputId": "383e1375-64c9-4ab4-d0a7-05f970d37bb2"
   },
   "outputs": [],
   "source": [
    "# 전체 뉴스 목록 (동영상 뉴스 등을 제외)\n",
    "\n",
    "for li in li_list:\n",
    "    # 뉴스 개괄(제목, 링크, 서두, 날짜)\n",
    "    try:\n",
    "        dt = li.find('dt', attrs=None)\n",
    "        link = dt.a['href']\n",
    "        title = dt.text.strip()\n",
    "        lede = li.find('span', attrs='lede').text\n",
    "        writing = li.find('span', attrs='writing').text\n",
    "        date_str = li.find('span', attrs='date').text\n",
    "        date_str = date_str.replace('오후', '') + ' PM' if '오후' in date_str else date_str\n",
    "        date_str = date_str.replace('오전', '') + ' AM' if '오전' in date_str else date_str\n",
    "        date = dateutil.parser.parse(date_str)\n",
    "\n",
    "        print(date, title)\n",
    "        print(link)\n",
    "    except Exception as e:\n",
    "        pass"
   ]
  },
  {
   "cell_type": "markdown",
   "metadata": {
    "id": "0vwaPdRv8KEm"
   },
   "source": [
    "## 개별 뉴스 1건 내용 읽어오기\n",
    "\n",
    "다음과 같은 뉴스 링크\n",
    "\n",
    "https://news.naver.com/main/read.nhn?mode=LSD&mid=sec&sid1=101&sid2=263&oid=001&aid=0010563076\n",
    "\n"
   ]
  },
  {
   "cell_type": "code",
   "execution_count": null,
   "metadata": {
    "colab": {
     "base_uri": "https://localhost:8080/",
     "height": 36
    },
    "executionInfo": {
     "elapsed": 6253,
     "status": "ok",
     "timestamp": 1609645559632,
     "user": {
      "displayName": "Sean-June Lee",
      "photoUrl": "https://lh3.googleusercontent.com/a-/AOh14Gj6rvtcx9Gy8VOzzw2LH1hYtnxIuHBDw8qnYK9SAuY=s64",
      "userId": "12576390002043678893"
     },
     "user_tz": -540
    },
    "id": "6MwlAC0w8J-S",
    "outputId": "aa77addd-906b-44b0-b631-933eb2ce7338"
   },
   "outputs": [],
   "source": [
    "url='https://news.naver.com/main/read.nhn?mode=LSD&mid=sec&sid1=101&sid2=263&oid=001&aid=0010563076'\n",
    "\n",
    "r = requests.get(url, headers={'user-agent':'chrome'})\n",
    "soup = BeautifulSoup(r.text, 'html.parser')\n",
    "soup.title.text"
   ]
  },
  {
   "cell_type": "code",
   "execution_count": null,
   "metadata": {},
   "outputs": [],
   "source": [
    "r.status_code"
   ]
  },
  {
   "cell_type": "markdown",
   "metadata": {
    "id": "0vwaPdRv8KEm"
   },
   "source": [
    "<img src=\"https://i.imgur.com/r7tZIYD.png\" >"
   ]
  },
  {
   "cell_type": "markdown",
   "metadata": {},
   "source": [
    "### 실습 : 다음 문제를 수정해서 진행하세요.\n",
    "\n",
    "브라우저 개발자 도구를 사용해서 뉴스 본문 페이지의 DIV 속성을 찾아 완성해 주세요."
   ]
  },
  {
   "cell_type": "code",
   "execution_count": null,
   "metadata": {
    "tags": []
   },
   "outputs": [],
   "source": [
    "soup.find(id='articleBodyContents')"
   ]
  },
  {
   "cell_type": "code",
   "execution_count": null,
   "metadata": {
    "colab": {
     "base_uri": "https://localhost:8080/"
    },
    "executionInfo": {
     "elapsed": 6241,
     "status": "ok",
     "timestamp": 1609645559633,
     "user": {
      "displayName": "Sean-June Lee",
      "photoUrl": "https://lh3.googleusercontent.com/a-/AOh14Gj6rvtcx9Gy8VOzzw2LH1hYtnxIuHBDw8qnYK9SAuY=s64",
      "userId": "12576390002043678893"
     },
     "user_tz": -540
    },
    "id": "YMteaSC-HYED",
    "outputId": "12f1eb11-416c-4d49-e861-dfccb34a1ecc",
    "tags": []
   },
   "outputs": [],
   "source": [
    "article = soup.find(id='articleBodyContents')\n",
    "article"
   ]
  },
  {
   "cell_type": "code",
   "execution_count": null,
   "metadata": {},
   "outputs": [],
   "source": []
  },
  {
   "cell_type": "markdown",
   "metadata": {
    "tags": []
   },
   "source": [
    "#### 다음은 완성된 코드"
   ]
  },
  {
   "cell_type": "code",
   "execution_count": null,
   "metadata": {
    "colab": {
     "base_uri": "https://localhost:8080/"
    },
    "executionInfo": {
     "elapsed": 6246,
     "status": "ok",
     "timestamp": 1609645559632,
     "user": {
      "displayName": "Sean-June Lee",
      "photoUrl": "https://lh3.googleusercontent.com/a-/AOh14Gj6rvtcx9Gy8VOzzw2LH1hYtnxIuHBDw8qnYK9SAuY=s64",
      "userId": "12576390002043678893"
     },
     "user_tz": -540
    },
    "id": "URchZW6h_DCy",
    "outputId": "d48eec39-111d-4dd6-b1b8-32f6a5e5a197",
    "tags": []
   },
   "outputs": [],
   "source": [
    "soup.find(id='                  ')#'articleBodyContents'"
   ]
  },
  {
   "cell_type": "code",
   "execution_count": null,
   "metadata": {
    "colab": {
     "base_uri": "https://localhost:8080/"
    },
    "executionInfo": {
     "elapsed": 6241,
     "status": "ok",
     "timestamp": 1609645559633,
     "user": {
      "displayName": "Sean-June Lee",
      "photoUrl": "https://lh3.googleusercontent.com/a-/AOh14Gj6rvtcx9Gy8VOzzw2LH1hYtnxIuHBDw8qnYK9SAuY=s64",
      "userId": "12576390002043678893"
     },
     "user_tz": -540
    },
    "id": "YMteaSC-HYED",
    "outputId": "12f1eb11-416c-4d49-e861-dfccb34a1ecc",
    "tags": []
   },
   "outputs": [],
   "source": [
    "article = soup.find(id='                        ') #'articleBodyContents')\n",
    "article"
   ]
  },
  {
   "cell_type": "markdown",
   "metadata": {},
   "source": [
    "### 텍스트만 추출\n",
    "\n",
    " - strip()"
   ]
  },
  {
   "cell_type": "code",
   "execution_count": null,
   "metadata": {
    "colab": {
     "base_uri": "https://localhost:8080/",
     "height": 124
    },
    "executionInfo": {
     "elapsed": 6227,
     "status": "ok",
     "timestamp": 1609645559634,
     "user": {
      "displayName": "Sean-June Lee",
      "photoUrl": "https://lh3.googleusercontent.com/a-/AOh14Gj6rvtcx9Gy8VOzzw2LH1hYtnxIuHBDw8qnYK9SAuY=s64",
      "userId": "12576390002043678893"
     },
     "user_tz": -540
    },
    "id": "37F4VLBpHX_f",
    "outputId": "3bc52235-7ebc-4c4f-c8f9-f1b0ca76d9d4"
   },
   "outputs": [],
   "source": [
    "article.text.strip()"
   ]
  },
  {
   "cell_type": "markdown",
   "metadata": {
    "id": "HuCskULenGKt"
   },
   "source": [
    "## 함수로 정리 하기\n",
    "개별 뉴스 1건의 제목과 본문 가져오기 "
   ]
  },
  {
   "cell_type": "code",
   "execution_count": null,
   "metadata": {
    "id": "x5FUsVj4IOgy"
   },
   "outputs": [],
   "source": [
    "## 함수로 정리\n",
    "\n",
    "def get_naver_news_text(url):\n",
    "    r = requests.get(url, headers={'user-agent':'chrome'})\n",
    "    soup = BeautifulSoup(r.text, 'html.parser')\n",
    "    # 제목 가져오기\n",
    "    title = soup.title.text\n",
    "    # 본문 가져오기\n",
    "    article = soup.find(id='newsct_article')\n",
    "    # article.script.extract()\n",
    "    text = article.text.strip()\n",
    "    return title, text"
   ]
  },
  {
   "cell_type": "code",
   "execution_count": null,
   "metadata": {
    "colab": {
     "base_uri": "https://localhost:8080/"
    },
    "executionInfo": {
     "elapsed": 6635,
     "status": "ok",
     "timestamp": 1609645560054,
     "user": {
      "displayName": "Sean-June Lee",
      "photoUrl": "https://lh3.googleusercontent.com/a-/AOh14Gj6rvtcx9Gy8VOzzw2LH1hYtnxIuHBDw8qnYK9SAuY=s64",
      "userId": "12576390002043678893"
     },
     "user_tz": -540
    },
    "id": "CGqsc2qAIObZ",
    "outputId": "b51b117f-8619-4126-ef56-ac443dc9e279"
   },
   "outputs": [],
   "source": [
    "## 함수 테스트\n",
    "\n",
    "url = 'https://news.naver.com/main/read.nhn?mode=LSD&mid=shm&sid1=101&oid=366&aid=0000431718'\n",
    "title, text = get_naver_news_text(url)\n",
    "\n",
    "print(title)\n",
    "print('-' * 100)\n",
    "print(text)"
   ]
  },
  {
   "cell_type": "code",
   "execution_count": null,
   "metadata": {},
   "outputs": [],
   "source": []
  },
  {
   "cell_type": "markdown",
   "metadata": {},
   "source": [
    "## \"실습\" 함수를 날짜를 포함해 가져오도록 수정하세요."
   ]
  },
  {
   "cell_type": "code",
   "execution_count": null,
   "metadata": {},
   "outputs": [],
   "source": []
  },
  {
   "cell_type": "code",
   "execution_count": null,
   "metadata": {},
   "outputs": [],
   "source": []
  },
  {
   "cell_type": "markdown",
   "metadata": {},
   "source": [
    "## \"실습\" csv로 저장하세요."
   ]
  },
  {
   "cell_type": "code",
   "execution_count": null,
   "metadata": {},
   "outputs": [],
   "source": []
  },
  {
   "cell_type": "code",
   "execution_count": null,
   "metadata": {},
   "outputs": [],
   "source": [
    "import csv"
   ]
  },
  {
   "cell_type": "code",
   "execution_count": null,
   "metadata": {},
   "outputs": [],
   "source": [
    "with open('naver_news.csv', 'w') as f:\n",
    "    csv.writer(f)\n",
    "    csv.writerow(['제목', '내용'])\n",
    "    csv.writerow([title, text])"
   ]
  },
  {
   "cell_type": "code",
   "execution_count": null,
   "metadata": {},
   "outputs": [],
   "source": []
  },
  {
   "cell_type": "markdown",
   "metadata": {
    "tags": []
   },
   "source": [
    "# \"실습\" 위 지정역역 목록의 세션에서 뉴스 기사를 크롤링해서 CSV로 저장하세요\n",
    "\n",
    "- 과제 폴더의 `11-22`일 폴더에 `이름.ipynb` 파일로 업로드 해주세요.\n",
    "\n",
    "샘플:\n",
    "\n",
    "```json\n",
    "[\n",
    "    { '2020-01-01 23:02:00',\n",
    "     '아파트공급 ...유동자금',\n",
    "     '.... 내용.... '\n",
    "]\n",
    "```\n"
   ]
  },
  {
   "cell_type": "markdown",
   "metadata": {},
   "source": [
    "### 예) 아래는 예를 든 것임!!!"
   ]
  },
  {
   "cell_type": "code",
   "execution_count": null,
   "metadata": {
    "colab": {
     "base_uri": "https://localhost:8080/"
    },
    "executionInfo": {
     "elapsed": 5535,
     "status": "ok",
     "timestamp": 1609645558907,
     "user": {
      "displayName": "Sean-June Lee",
      "photoUrl": "https://lh3.googleusercontent.com/a-/AOh14Gj6rvtcx9Gy8VOzzw2LH1hYtnxIuHBDw8qnYK9SAuY=s64",
      "userId": "12576390002043678893"
     },
     "user_tz": -540
    },
    "id": "rappiYRopSDi",
    "outputId": "383e1375-64c9-4ab4-d0a7-05f970d37bb2"
   },
   "outputs": [],
   "source": [
    "news = []\n",
    "\n",
    "for li in li_list:\n",
    "    # 뉴스 개괄(제목, 링크, 서두, 날짜)\n",
    "    try:\n",
    "        dt = li.find('dt', attrs=None)\n",
    "        link = dt.a['href']\n",
    "        title = dt.text.strip()\n",
    "        lede = li.find('span', attrs='lede').text\n",
    "        writing = li.find('span', attrs='writing').text\n",
    "        date_str = li.find('span', attrs='date').text\n",
    "        date_str = date_str.replace('오후', '') + ' PM' if '오후' in date_str else date_str\n",
    "        date_str = date_str.replace('오전', '') + ' AM' if '오전' in date_str else date_str\n",
    "        date = dateutil.parser.parse(date_str)\n",
    "\n",
    "        print(date, title)\n",
    "        print(link)\n",
    "        # ex)\n",
    "        title, body = get_naver_news_text(link)\n",
    "        \n",
    "        news.append( (date, title, body)   )\n",
    "\n",
    "    except Exception as e:\n",
    "        pass"
   ]
  },
  {
   "cell_type": "code",
   "execution_count": null,
   "metadata": {},
   "outputs": [],
   "source": []
  },
  {
   "cell_type": "code",
   "execution_count": null,
   "metadata": {},
   "outputs": [],
   "source": []
  },
  {
   "cell_type": "markdown",
   "metadata": {
    "tags": []
   },
   "source": [
    "# \"실습\" 네이버 뉴스 `증권` 세션에서 10개 뉴스 기사를 크롤링해서 CSV로 저장하세요\n",
    "\n",
    "- 과제 폴더의 `11-22`일 폴더에 `이름.ipynb` 파일로 업로드 해주세요."
   ]
  },
  {
   "cell_type": "code",
   "execution_count": null,
   "metadata": {},
   "outputs": [],
   "source": []
  }
 ],
 "metadata": {
  "colab": {
   "collapsed_sections": [],
   "name": "네이버 뉴스 크롤링 - 구성 분석과 크롤링.ipynb",
   "provenance": []
  },
  "kernelspec": {
   "display_name": "Python 3 (ipykernel)",
   "language": "python",
   "name": "python3"
  },
  "language_info": {
   "codemirror_mode": {
    "name": "ipython",
    "version": 3
   },
   "file_extension": ".py",
   "mimetype": "text/x-python",
   "name": "python",
   "nbconvert_exporter": "python",
   "pygments_lexer": "ipython3",
   "version": "3.10.6"
  }
 },
 "nbformat": 4,
 "nbformat_minor": 4
}
