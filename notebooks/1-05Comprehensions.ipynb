{
 "cells": [
  {
   "cell_type": "markdown",
   "metadata": {},
   "source": [
    "# Comprehensions\n",
    "\n",
    "Comprehensions는 다른 시퀀스로 부터 새로운 시퀀스를 구성하도록 해준다. Python2.0 에서 List comprehensions가 도입된 후에 Python3.0 에서 dictionary 와  set comprehensions를 도입했다.\n",
    "\n",
    "- https://docs.python.org/3/tutorial/datastructures.html#list-comprehensions\n",
    "- https://python-3-patterns-idioms-test.readthedocs.io/en/latest/Comprehensions.html\n",
    "\n",
    "참고:\n",
    "- https://wikidocs.net/22795\n",
    "- https://wikidocs.net/22797"
   ]
  },
  {
   "cell_type": "markdown",
   "metadata": {},
   "source": [
    "## List Comprehensions\n",
    "\n",
    "A list comprehension consists of the following parts:\n",
    "\n",
    "- An Input Sequence. 입력 시퀀스\n",
    "- A Variable representing members of the input sequence : 변수가 입력 시퀀스의 멤버를 표현\n",
    "- An Optional Predicate expression. : 선택한 함축 표현\n",
    "- An Output Expression producing elements of the output list from members of the Input Sequence that satisfy the predicate\n",
    "\n",
    "<img src=\"https://python-3-patterns-idioms-test.readthedocs.io/en/latest/_images/listComprehensions.gif\" width=\"450\">"
   ]
  },
  {
   "cell_type": "code",
   "execution_count": null,
   "metadata": {},
   "outputs": [],
   "source": [
    "# 일반적 리스트\n",
    "results = []\n",
    "for num in [1, 2, 3, 4, 5, 6, 7, 8]:\n",
    "    result = num * num\n",
    "    results.append(result)"
   ]
  },
  {
   "cell_type": "code",
   "execution_count": null,
   "metadata": {},
   "outputs": [],
   "source": [
    "# 컴프리헨션\n",
    "\n",
    "\n"
   ]
  },
  {
   "cell_type": "markdown",
   "metadata": {},
   "source": [
    "## 조건문"
   ]
  },
  {
   "cell_type": "markdown",
   "metadata": {},
   "source": [
    "### `[실습]`문자열 리스트에서 길이가 2 이하인 문자열 리스트 만들기\n"
   ]
  },
  {
   "cell_type": "code",
   "execution_count": null,
   "metadata": {},
   "outputs": [],
   "source": [
    "# 문자열 리스트에서 길이가 2 이하인 문자열 리스트 만들기\n",
    "strings = ['a', 'as', 'bat', 'car', 'dove', 'python']\n",
    "\n",
    "\n"
   ]
  },
  {
   "cell_type": "markdown",
   "metadata": {},
   "source": [
    "### `[실습] ` 1~100 사이에 있는 수에서 짝수인 리스트 만들기"
   ]
  },
  {
   "cell_type": "code",
   "execution_count": null,
   "metadata": {},
   "outputs": [],
   "source": [
    "# 1~100 사이의 수중에 짝수 리스트 만들기\n",
    "\n",
    "\n"
   ]
  },
  {
   "cell_type": "markdown",
   "metadata": {},
   "source": [
    "### `[실습] ` 1~100 사이에 3, 6, 9 가 있는 수 리스트 만들기"
   ]
  },
  {
   "cell_type": "code",
   "execution_count": 1,
   "metadata": {},
   "outputs": [],
   "source": [
    "# 1~100 사이에 3, 6, 9 가 있는 수 리스트 만들기\n",
    "\n"
   ]
  },
  {
   "cell_type": "markdown",
   "metadata": {},
   "source": [
    "### `[실습]` 문자열 리스트에서 문자열 길이를 순차 자료형으로 저장해 보자\n"
   ]
  },
  {
   "cell_type": "code",
   "execution_count": null,
   "metadata": {},
   "outputs": [],
   "source": [
    "# 문자열 리스트에서 문자열 길이를 순차 자료형으로 저장해 보자\n",
    "strings = ['a', 'as', 'bat', 'car', 'dove', 'python']\n",
    "\n"
   ]
  },
  {
   "cell_type": "code",
   "execution_count": null,
   "metadata": {},
   "outputs": [],
   "source": []
  },
  {
   "cell_type": "markdown",
   "metadata": {},
   "source": [
    "### `[실습]`리스트 숫자 자료를 제곱한 결과를 순차 자료형으로 저장해 보자\n"
   ]
  },
  {
   "cell_type": "code",
   "execution_count": 3,
   "metadata": {},
   "outputs": [],
   "source": [
    "# `[실습]`리스트 숫자 자료를 제곱한 결과를 순차 자료형으로 저장해 보자\n",
    "foo = [1, 4, '5', 10, True, '10', 8]\n"
   ]
  },
  {
   "cell_type": "markdown",
   "metadata": {},
   "source": [
    "# Nested Comprehensions\n",
    "\n",
    "크기 n인 단위행렬(identity matrix)는 대각이 1이고 나머지는 0으로 채워진 n X n  매드릭스이다.\n",
    "\n",
    "파이썬에서 리스트의 리스트로서 행을 리스트로 이런 단위행렬을 표현할 수 있다.\n",
    "\n",
    "```python\n",
    "[ [1,0,0],\n",
    "  [0,1,0],\n",
    "  [0,0,1] ]\n",
    "```\n",
    "\n",
    "이 행렬을 아래같은 중첩된 컴프리헨션 표현식으로 포함할 수 있다.\n",
    "\n",
    "```python\n",
    "[ [ 1 if item_idx == row_idx else 0 for item_idx in range(0, 3) ] for row_idx in range(0, 3) ]\n",
    "```"
   ]
  },
  {
   "cell_type": "code",
   "execution_count": 4,
   "metadata": {},
   "outputs": [],
   "source": [
    "# 3x3 행렬\n",
    "\n",
    "\n",
    "\n"
   ]
  },
  {
   "cell_type": "markdown",
   "metadata": {},
   "source": [
    "### `[실습]` 현재 디렉토리에서 .ipynb 확장자를 가진 파일의 리스트\n"
   ]
  },
  {
   "cell_type": "markdown",
   "metadata": {},
   "source": [
    "디렉토리 구조에서 .py 로 끝나는 자료:\n",
    " - os.walk():\n",
    "\n",
    "```python\n",
    "# Comprehensions/os_walk_comprehension.py\n",
    "import os\n",
    "restFiles = [os.path.join(d[0], f) for d in os.walk(\".\")\n",
    "             for f in d[2] if f.endswith(\".py\")]\n",
    "for r in restFiles:\n",
    "    print(r)\n",
    "```   "
   ]
  },
  {
   "cell_type": "code",
   "execution_count": null,
   "metadata": {},
   "outputs": [],
   "source": [
    "# 현재 디렉토리에서 .ipynb 확장자를 가진 파일!!\n",
    "import os\n",
    "\n",
    "\n"
   ]
  },
  {
   "cell_type": "markdown",
   "metadata": {},
   "source": [
    "## `[실습]`어느 기업의 2015에서 2018년도 재무자료중 일부로 영업이익과 영업현금흐름 자료가 있다. 영업이익을 현금흐름으로 비교해 계산해 보자.\n",
    "\n"
   ]
  },
  {
   "cell_type": "code",
   "execution_count": 14,
   "metadata": {},
   "outputs": [
    {
     "data": {
      "text/plain": [
       "{'영업이익': [2590, 2497, 5220, 2947], '영업현금흐름': [594, 2614, 5238, 2518]}"
      ]
     },
     "execution_count": 14,
     "metadata": {},
     "output_type": "execute_result"
    }
   ],
   "source": [
    "# 2015~2018\n",
    "celtrion_profits = {\n",
    "    \"영업이익\": [2590, 2497, 5220, 2947],  \n",
    "    \"영업현금흐름\": [594, 2614, 5238, 2518]\n",
    "}\n",
    "celtrion_profits"
   ]
  },
  {
   "cell_type": "markdown",
   "metadata": {},
   "source": [
    "### 영업이익과 영업현금흐름과 비교"
   ]
  },
  {
   "cell_type": "code",
   "execution_count": 5,
   "metadata": {},
   "outputs": [
    {
     "ename": "NameError",
     "evalue": "name 'celtrion_profits' is not defined",
     "output_type": "error",
     "traceback": [
      "\u001b[0;31m---------------------------------------------------------------------------\u001b[0m",
      "\u001b[0;31mNameError\u001b[0m                                 Traceback (most recent call last)",
      "Input \u001b[0;32mIn [5]\u001b[0m, in \u001b[0;36m<cell line: 2>\u001b[0;34m()\u001b[0m\n\u001b[1;32m      1\u001b[0m \u001b[38;5;66;03m# for 반복문을 이용해 영업이익과 현금흐름 비율을 비교 계산하자\u001b[39;00m\n\u001b[0;32m----> 2\u001b[0m \u001b[38;5;28;01mfor\u001b[39;00m x, y \u001b[38;5;129;01min\u001b[39;00m \u001b[38;5;28mzip\u001b[39m(\u001b[43mceltrion_profits\u001b[49m[\u001b[38;5;124m'\u001b[39m\u001b[38;5;124m영업현금흐름\u001b[39m\u001b[38;5;124m'\u001b[39m], celtrion_profits[\u001b[38;5;124m'\u001b[39m\u001b[38;5;124m영업이익\u001b[39m\u001b[38;5;124m'\u001b[39m]):\n\u001b[1;32m      3\u001b[0m     \u001b[38;5;28mprint\u001b[39m(\u001b[38;5;28mint\u001b[39m(x)\u001b[38;5;241m/\u001b[39m\u001b[38;5;28mint\u001b[39m(y))\n",
      "\u001b[0;31mNameError\u001b[0m: name 'celtrion_profits' is not defined"
     ]
    }
   ],
   "source": [
    "# for 반복문을 이용해 영업이익과 현금흐름 비율을 비교 계산하자\n",
    "for x, y in zip(celtrion_profits['영업현금흐름'], celtrion_profits['영업이익']):\n",
    "    print(int(x)/int(y))"
   ]
  },
  {
   "cell_type": "markdown",
   "metadata": {},
   "source": [
    "컴프리헨션"
   ]
  },
  {
   "cell_type": "code",
   "execution_count": 16,
   "metadata": {},
   "outputs": [
    {
     "data": {
      "text/plain": [
       "[0.22934362934362934,\n",
       " 1.0468562274729676,\n",
       " 1.0034482758620689,\n",
       " 0.8544282321004412]"
      ]
     },
     "execution_count": 16,
     "metadata": {},
     "output_type": "execute_result"
    }
   ],
   "source": [
    "# 컴프리헨션을 이용해 영업이익과 현금흐름 비율을 비교 계산하자\n",
    "[int(x)/int(y)\n",
    " for x, y in zip(celtrion_profits['영업현금흐름'], celtrion_profits['영업이익'])]"
   ]
  },
  {
   "cell_type": "code",
   "execution_count": 6,
   "metadata": {},
   "outputs": [],
   "source": [
    "# celtrion_profits에 `영업이익대비현금흐름`으로 저장하자.\n",
    "celtrion_profits['영업이익대비현금흐름'] = [int(\n",
    "    x)/int(y) for x, y in zip(celtrion_profits['영업현금흐름'], celtrion_profits['영업이익'])]"
   ]
  },
  {
   "cell_type": "code",
   "execution_count": 9,
   "metadata": {},
   "outputs": [
    {
     "data": {
      "text/plain": [
       "{'영업이익': [2590, 2497, 5220, 2947],\n",
       " '영업현금흐름': [594, 2614, 5238, 2518],\n",
       " '영업이익대비현금흐름': [0.22934362934362934,\n",
       "  1.0468562274729676,\n",
       "  1.0034482758620689,\n",
       "  0.8544282321004412]}"
      ]
     },
     "execution_count": 9,
     "metadata": {},
     "output_type": "execute_result"
    }
   ],
   "source": [
    "celtrion_profits"
   ]
  },
  {
   "cell_type": "markdown",
   "metadata": {},
   "source": [
    "# Set Comprehensions\n",
    "\n",
    "Set에 리스트 같은 포함 표현식을 사용해 구성할 수 있다."
   ]
  },
  {
   "cell_type": "markdown",
   "metadata": {},
   "source": [
    "### 어떤 리스트애서 특정한 결과를 추출.\n",
    "\n",
    "```python\n",
    "names = [ 'Bob', 'JOHN', 'alice', 'bob', 'ALICE', 'J', 'Bob' ]\n",
    "```"
   ]
  },
  {
   "cell_type": "markdown",
   "metadata": {},
   "source": [
    "#### 첫 문자를 대문자로한 세트를 원한다:\n",
    "\n",
    "```python\n",
    "{ 'Bob', 'John', 'Alice' }\n",
    "```"
   ]
  },
  {
   "cell_type": "code",
   "execution_count": 8,
   "metadata": {},
   "outputs": [
    {
     "data": {
      "text/plain": [
       "{'Alice', 'Bob', 'John'}"
      ]
     },
     "execution_count": 8,
     "metadata": {},
     "output_type": "execute_result"
    }
   ],
   "source": [
    "names = [ 'Bob', 'JOHN', 'alice', 'bob', 'ALICE', 'J', 'Bob' ]\n",
    "{ name[0].upper() + name[1:].lower() for name in names if len(name) > 1 }"
   ]
  },
  {
   "cell_type": "markdown",
   "metadata": {},
   "source": [
    "### 글자 수가 2개 이상인 항목만 추출한다."
   ]
  },
  {
   "cell_type": "code",
   "execution_count": null,
   "metadata": {},
   "outputs": [],
   "source": [
    "strings = ['a', 'as', 'bat', 'car', 'dove', 'python']\n",
    "strings = {s for s in strings if len(s) <= 2}\n",
    "print(strings)"
   ]
  },
  {
   "cell_type": "markdown",
   "metadata": {},
   "source": [
    "# Dictionary Comprehensions\n"
   ]
  },
  {
   "cell_type": "markdown",
   "metadata": {},
   "source": [
    "### 어떤 단어 리스트를 단어의 수를 가진 딕트로 표현"
   ]
  },
  {
   "cell_type": "code",
   "execution_count": 17,
   "metadata": {},
   "outputs": [
    {
     "name": "stdout",
     "output_type": "stream",
     "text": [
      "{'a': 1, 'as': 2, 'bat': 3, 'car': 3, 'dove': 4, 'python': 6}\n"
     ]
    }
   ],
   "source": [
    "strings = ['a', 'as', 'bat', 'car', 'dove', 'python']\n",
    "dict = {s: len(s) for s in strings}\n",
    "print(dict)"
   ]
  },
  {
   "cell_type": "code",
   "execution_count": null,
   "metadata": {},
   "outputs": [],
   "source": [
    "type(dict)"
   ]
  },
  {
   "cell_type": "markdown",
   "metadata": {},
   "source": [
    "### 어떤 단어와 단어의 수를 가진 딕트를 소문자 단어로 변환"
   ]
  },
  {
   "cell_type": "code",
   "execution_count": 18,
   "metadata": {},
   "outputs": [
    {
     "data": {
      "text/plain": [
       "{'a': 17, 'b': 34, 'z': 3}"
      ]
     },
     "execution_count": 18,
     "metadata": {},
     "output_type": "execute_result"
    }
   ],
   "source": [
    "mcase = {'a':10, 'b': 34, 'A': 7, 'Z':3}\n",
    "mcase_frequency = {\n",
    "    k.lower() : mcase.get(k.lower(), 0) + mcase.get(k.upper(), 0) for k in mcase.keys()\n",
    "}\n",
    "mcase_frequency"
   ]
  }
 ],
 "metadata": {
  "kernelspec": {
   "display_name": "Python 3 (ipykernel)",
   "language": "python",
   "name": "python3"
  },
  "language_info": {
   "codemirror_mode": {
    "name": "ipython",
    "version": 3
   },
   "file_extension": ".py",
   "mimetype": "text/x-python",
   "name": "python",
   "nbconvert_exporter": "python",
   "pygments_lexer": "ipython3",
   "version": "3.10.3"
  }
 },
 "nbformat": 4,
 "nbformat_minor": 4
}
