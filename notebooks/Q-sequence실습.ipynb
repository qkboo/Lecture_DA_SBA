{
 "cells": [
  {
   "cell_type": "code",
   "execution_count": null,
   "id": "e730fa8e-1842-467d-9831-7d15570b5aca",
   "metadata": {},
   "outputs": [],
   "source": []
  },
  {
   "cell_type": "markdown",
   "id": "63437bce-b594-4c32-b09a-405965a4d3e0",
   "metadata": {},
   "source": [
    "## 연습) 전화번호를 '-'를 포함해 입력받아 '-' 제거해서 출력한다.\n",
    "\n",
    "```\n",
    "Q) 하이픈(-)을 포함한 휴대폰 번호를 입력하세요:  234-1234--4444\n",
    "23412344444\n",
    "```"
   ]
  },
  {
   "cell_type": "code",
   "execution_count": null,
   "id": "eda1b902-c2ad-4f3e-b762-7929bb5b2b9a",
   "metadata": {},
   "outputs": [],
   "source": []
  },
  {
   "cell_type": "markdown",
   "id": "0149a832-2f60-4741-8921-40a1825c37ac",
   "metadata": {},
   "source": [
    "## 연습) 전화번호 숫자만 입력받아 '-' 를 포함해 출력한다.\n",
    "\n",
    "```\n",
    "Q) 휴대폰 번호 숫자만 입력하세요:  23412344444\n",
    "234-1234-4444\n",
    "```"
   ]
  },
  {
   "cell_type": "code",
   "execution_count": null,
   "id": "42cc23f4-31f6-4fe6-abe9-ea438f6b60d9",
   "metadata": {},
   "outputs": [],
   "source": []
  },
  {
   "cell_type": "markdown",
   "id": "c8ab0ef6-9348-402a-b41f-045f727c0e17",
   "metadata": {},
   "source": [
    "## 연습) 다음 리스트는 어느 회의실의 좌석 배치이다. 1은 남성, 2는 여성 그리고 0은 빈 좌석이다. 이 데이터에서 남성/여성의 좌석수를  for / while 문으로 세어서 출력하시오.\n",
    "\n",
    "```\n",
    "seats = [[0, 0, 2, 1, 0, 0, 0, 0, 0 ],\\\n",
    "         [2, 1, 0, 1, 2, 1, 2, 1, 0 ],\\\n",
    "         [0, 2, 1, 1, 1, 2, 2, 0, 0 ],\\\n",
    "         [0, 0, 2, 2, 2, 1, 0, 2, 0 ],\\\n",
    "         [1, 1, 1, 0, 0, 1, 0, 2, 1 ],\\\n",
    "         [1, 0, 0, 2, 0, 1, 2, 1, 0 ],\\\n",
    "         [2, 2, 0, 2, 1, 0, 1, 1, 0 ],\\\n",
    "         [0, 0, 0, 1, 1, 0, 0, 0, 0 ],\\\n",
    "         [0, 0, 0, 0, 2, 2, 2, 0, 0 ]]\n",
    "```"
   ]
  },
  {
   "cell_type": "code",
   "execution_count": null,
   "id": "652266a6-852d-4a55-84e4-f0d00de64353",
   "metadata": {},
   "outputs": [],
   "source": []
  },
  {
   "cell_type": "markdown",
   "id": "e5baef44-2e4d-4b98-ac1d-b90b1bf355e4",
   "metadata": {},
   "source": [
    "## \"연습\" 다음 같은 자료를 dict 로 선언하고  각 자료를 Enumerate 하게 탐색해 보시오\n",
    "```\n",
    "    \"홍길동\": \"010-1234-5678\",\n",
    "    \"임꺽정\": \"010-9876-5432\",\n",
    "   \"장길산\": \"010-5678-0987\"\n",
    "```\n",
    "\n",
    " - keys()\n",
    " - items()\n",
    " - enumerate()"
   ]
  }
 ],
 "metadata": {
  "kernelspec": {
   "display_name": "Python 3 (ipykernel)",
   "language": "python",
   "name": "python3"
  },
  "language_info": {
   "codemirror_mode": {
    "name": "ipython",
    "version": 3
   },
   "file_extension": ".py",
   "mimetype": "text/x-python",
   "name": "python",
   "nbconvert_exporter": "python",
   "pygments_lexer": "ipython3",
   "version": "3.10.6"
  }
 },
 "nbformat": 4,
 "nbformat_minor": 5
}
