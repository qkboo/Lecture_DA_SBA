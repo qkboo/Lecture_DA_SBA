{
 "cells": [
  {
   "cell_type": "markdown",
   "metadata": {
    "id": "sbTOLTwnDyBu",
    "tags": []
   },
   "source": [
    "# 구글 Colab 사용하기\n",
    "\n",
    "## \"Google Drive + Jupyter Notebook\"\n",
    "\n",
    "![Google Colaboratory](https://i.imgur.com/sb1REE1.png)\n",
    "\n"
   ]
  },
  {
   "cell_type": "markdown",
   "metadata": {
    "id": "UQaAURR8EnQT"
   },
   "source": [
    "# Google Colab\n",
    "구글 드라이브 기반 Juputer Noteook  서비스 (2017년 10월 공개)\n",
    "\n",
    "> \"Google Colab = Google Drive + Jupyter Noteook\" based on GCP\n",
    "\n",
    "\n"
   ]
  },
  {
   "cell_type": "markdown",
   "metadata": {
    "id": "i5xtppnt3kWM"
   },
   "source": [
    "https://colab.research.google.com (접속하면 바로 소개문서 노트북)\n",
    "\n",
    "1. Jupyter Notebook 기능 포함 (파이썬 실행, 마크다운, 수식, 차트 표현 등)\n",
    "1. 구글 드라이브의 문서 생성과 공유 기능 (닥스 문서와 동일한 방법으로 생성, 공유)\n",
    "1. Github 연계\n",
    "1. 구글 코랩이 2020년 2월 유료화 정책을 시작(https://colab.research.google.com/signup)하면서 무료 버전에 고용량 RAM 모드를 지원하지 않게 되었습니다."
   ]
  },
  {
   "cell_type": "markdown",
   "metadata": {
    "id": "HhHqW3StKn0j"
   },
   "source": [
    "# 상세 소개\n",
    "https://colab.research.google.com (접속하면 바로 사용가능)\n",
    "\n",
    "1. Jupyter Notebook 기능 포함 (파이썬 실행, 마크다운, 수식, 차트 표현 등)\n",
    "1. 구글 드라이브의 문서 생성과 공유, Github 연계 지원\n",
    "1. 최신 파이썬, 텐서플로우 지원\n",
    "1. 구글 클라우드(GCP)기반, 가상머신 서비스인 구글 컴퓨트 엔진(GCE)\n",
    "1. 딥러닝을 위한 GPU, TPU 지원\n",
    "1. 사이킷런, 텐서플로우 포함 대부분 파이썬 라이브러리 사전 설치 제공\n",
    "\n"
   ]
  },
  {
   "cell_type": "markdown",
   "metadata": {},
   "source": [
    "예제/구글드라이브/깃헙 과 업로드 가능\n",
    "\n",
    "![](https://i.imgur.com/3cpyxB6.png)"
   ]
  },
  {
   "cell_type": "markdown",
   "metadata": {},
   "source": [
    "Locate In Drive\n",
    "\n",
    "사용중인 노트북은 Google Drive 에서 확인 가능하다.\n",
    "\n",
    "![](https://i.imgur.com/KY3qFpn.png)"
   ]
  },
  {
   "cell_type": "code",
   "execution_count": null,
   "metadata": {
    "colab": {
     "base_uri": "https://localhost:8080/"
    },
    "id": "BLSSS0fWx68Y",
    "outputId": "a44b8081-6a08-484e-9dc9-67958dd22b99"
   },
   "outputs": [],
   "source": [
    "import tensorflow as tf\n",
    "import numpy as np\n",
    "\n",
    "print(tf.__version__, np.__version__)"
   ]
  },
  {
   "cell_type": "markdown",
   "metadata": {
    "id": "1RqXgtgGOkhx"
   },
   "source": [
    "# GPU 사용하기\n",
    "* 노트를 생성한 뒤에 메뉴에서 \"런타임 / 런타임 유형 변경\" 선택 (그림) <br> 무료 하드웨어 가속기(GPU) 사용도 가능\n",
    "\n",
    "<img src=\"https://i.imgur.com/YfSBWIi.png\" >\n"
   ]
  },
  {
   "cell_type": "markdown",
   "metadata": {
    "id": "nJmEvFPvmSp7"
   },
   "source": [
    "# 환경 설정 정보\n",
    "\n",
    "* CPU, 메모리, OS, HDD, GPU (K80)\n",
    "* scipy, numpy, pandas 등 대부분의 파이썬 패키지들이 설치되어 있으며\n",
    "* scikit-learn, tensorflow, keras 등 머신러닝/딥러닝 라이브러리도 설치\n"
   ]
  },
  {
   "cell_type": "code",
   "execution_count": null,
   "metadata": {
    "id": "waPR4o4WyQMf"
   },
   "outputs": [],
   "source": [
    "# 디스크 용량\n",
    "! df -h"
   ]
  },
  {
   "cell_type": "code",
   "execution_count": null,
   "metadata": {
    "id": "vBuRC3SryUO4"
   },
   "outputs": [],
   "source": [
    "# CPU\n",
    "! cat /proc/cpuinfo"
   ]
  },
  {
   "cell_type": "code",
   "execution_count": null,
   "metadata": {
    "id": "fWz2nhIUyV_a"
   },
   "outputs": [],
   "source": [
    "# 메모리\n",
    "! cat /proc/meminfo"
   ]
  },
  {
   "cell_type": "code",
   "execution_count": null,
   "metadata": {
    "id": "JneL9FzpyXui"
   },
   "outputs": [],
   "source": [
    "# 파이썬\n",
    "import sys\n",
    "sys.version_info  "
   ]
  },
  {
   "cell_type": "code",
   "execution_count": null,
   "metadata": {
    "id": "Z4IuCyePywUu"
   },
   "outputs": [],
   "source": [
    "# OS 플랫폼\n",
    "import platform\n",
    "platform.platform()\n"
   ]
  },
  {
   "cell_type": "code",
   "execution_count": null,
   "metadata": {
    "id": "Z95ky3A8yacm"
   },
   "outputs": [],
   "source": [
    "# 설치된 파이썬 패키지 목록\n",
    "import pkg_resources\n",
    "dists = [d for d in pkg_resources.working_set]\n",
    "dists"
   ]
  },
  {
   "cell_type": "code",
   "execution_count": null,
   "metadata": {
    "id": "HV12o-GSy3KI"
   },
   "outputs": [],
   "source": [
    "! pip list"
   ]
  },
  {
   "cell_type": "code",
   "execution_count": null,
   "metadata": {
    "id": "uROn6KXy0cGQ"
   },
   "outputs": [],
   "source": []
  },
  {
   "cell_type": "markdown",
   "metadata": {
    "id": "d0mUiEvApPA6"
   },
   "source": [
    "# 파일 업로드 다운로드와 드라이브 연결\n"
   ]
  },
  {
   "cell_type": "markdown",
   "metadata": {
    "id": "Wk3hUgnSpPA6"
   },
   "source": [
    "## 구글 드라이브에서 Colab 연결하기\n",
    "\n",
    "<img src='https://i.imgur.com/QvmPEvD.png'>\n",
    "\n",
    "검색에서 colab 를 입력하여 Colaboratory 를 찾고 [+연결] 선택"
   ]
  },
  {
   "cell_type": "markdown",
   "metadata": {
    "id": "YmNWtCdX1Hak",
    "tags": []
   },
   "source": [
    "\n",
    "## 파일 업로드, 다운로드\n",
    "\n",
    "Google Colab 화면 왼쪽을  펼쳐 Colab에 있는 파일을 로컬 PC에 다운로드 하려면,\n",
    "\n",
    "<img src='https://i.imgur.com/xO8SA2O.png' width=400>"
   ]
  },
  {
   "cell_type": "markdown",
   "metadata": {
    "id": "hb7drp6y132O"
   },
   "source": []
  },
  {
   "cell_type": "code",
   "execution_count": null,
   "metadata": {
    "id": "rnB9X2Mi16SM"
   },
   "outputs": [],
   "source": [
    "# cat.jpg 다운로드\n",
    "from google.colab import files\n",
    "\n",
    "files.download('cat.jpg')"
   ]
  },
  {
   "cell_type": "markdown",
   "metadata": {
    "id": "YX0V7o4g19HF"
   },
   "source": [
    "업로드는 아래와 같이 한다. (이 코드는 Colab의 [코스 스니펫]에 있다)"
   ]
  },
  {
   "cell_type": "code",
   "execution_count": null,
   "metadata": {
    "id": "gTdah_0f1-Oo"
   },
   "outputs": [],
   "source": [
    "from google.colab import files\n",
    "\n",
    "uploaded = files.upload()\n",
    "\n",
    "for fn in uploaded.keys():\n",
    "  print('User uploaded file \"{name}\" with length {length} bytes'.format(\n",
    "      name=fn, length=len(uploaded[fn])))"
   ]
  },
  {
   "cell_type": "markdown",
   "metadata": {
    "id": "k9OqMIxj2CMD"
   },
   "source": [
    "## 구글 Drive와 연결(mount)하기"
   ]
  },
  {
   "cell_type": "code",
   "execution_count": null,
   "metadata": {
    "id": "0fp7z9pu2BF2"
   },
   "outputs": [],
   "source": [
    "from google.colab import drive\n",
    "drive.mount('/content/drive')"
   ]
  },
  {
   "cell_type": "code",
   "execution_count": null,
   "metadata": {
    "id": "MTIXyb8t2Gke"
   },
   "outputs": [],
   "source": [
    "with open('/drive/MyDrive/foo.txt', 'w') as f:\n",
    "  f.write('Hello Google Drive!')\n",
    "  \n",
    "!cat \"/gdrive/MyDrive/foo.txt\""
   ]
  },
  {
   "cell_type": "markdown",
   "metadata": {
    "id": "xymHrLcH0tOq"
   },
   "source": [
    "새 노트북 만들기\n",
    "노트북 이름 바꾸기\n",
    "노트북 파일 위치 확인\n",
    "코드 입력하고 실행하기 (Shift + Enter)\n"
   ]
  },
  {
   "cell_type": "markdown",
   "metadata": {
    "id": "9vXxyQow05lF"
   },
   "source": [
    "## 수식\n",
    "```\n",
    "$$c = \\sqrt{a^2 + b^2}$$\n",
    "```\n",
    "$$c = \\sqrt{a^2 + b^2}$$\n",
    "\n",
    "```\n",
    "$$N(\\mu ,\\sigma )$$\n",
    "```\n",
    "$$N(\\mu ,\\sigma )$$"
   ]
  },
  {
   "cell_type": "markdown",
   "metadata": {
    "id": "ju5BDciDuf3D"
   },
   "source": [
    "# 간단한 차트 그리기"
   ]
  },
  {
   "cell_type": "code",
   "execution_count": null,
   "metadata": {
    "id": "6RTJJlAfyVj1"
   },
   "outputs": [],
   "source": []
  },
  {
   "cell_type": "code",
   "execution_count": null,
   "metadata": {
    "id": "S53ooIfhW-mJ"
   },
   "outputs": [],
   "source": [
    "import numpy as np\n",
    "\n",
    "data = np.random.randint(-100, 100, 50)\n",
    "data"
   ]
  },
  {
   "cell_type": "code",
   "execution_count": null,
   "metadata": {
    "id": "3qgokxalXUmM"
   },
   "outputs": [],
   "source": [
    "import matplotlib.pyplot as plt\n",
    "\n",
    "plt.plot(data.cumsum())\n",
    "plt.show()"
   ]
  },
  {
   "cell_type": "markdown",
   "metadata": {
    "id": "kFdDCqgm0_cR"
   },
   "source": [
    "## curl 명령으로 파일 가져오기\n",
    "위 이미지 링크를 wget 명령으로 가져와 보자\n",
    "\n",
    "! 를 쓰고 명령을 써준다. \n",
    "\n",
    "아래 예는 curl 명령으로 특정 URL의 이미지를 cat.jpg 로 저장하는 예 이다.\n",
    "\n",
    "```\n",
    "! curl -o cat.jpg https://amp.businessinsider.com/images/5a69a3d400d0efc1008b4754-960-480.jpg\n",
    "\n",
    "! ls -l\n",
    "```"
   ]
  },
  {
   "cell_type": "markdown",
   "metadata": {
    "id": "xxL7u94xBWtY",
    "tags": []
   },
   "source": [
    "## 코랩: 한글 폰트 설치"
   ]
  },
  {
   "cell_type": "markdown",
   "metadata": {
    "colab": {
     "base_uri": "https://localhost:8080/"
    },
    "id": "s2FJvPltgmrh",
    "outputId": "f3935ecc-73c1-492c-dbd3-8ede4eb9921f"
   },
   "source": [
    "1. 한글 폰트 설치\n",
    "\n",
    "```sh\n",
    "#폰트 설치\n",
    "! apt install fonts-nanum*\n",
    "```\n",
    "\n",
    "```sh\n",
    "! apt install fontconfig\n",
    "```\n",
    "\n",
    "2. 폰트 캐시 생성\n",
    "\n",
    "```sh\n",
    "#폰트 캐시 생성\n",
    "!fc-cache -fv\n",
    "```\n",
    "\n",
    "3. matplotlib에 남아있는 font 캐시 삭제\n",
    "\n",
    "```sh\n",
    "# matplotlib에 남아있는 font 캐시 삭제\n",
    "!rm -rf ~/.cache/matplotlib/*\n",
    "```\n",
    "\n",
    "4. Runtime 재실행\n",
    "\n",
    "5. matplotlib 에서 Nanum 한글 폰트 검색 확인\n",
    "\n",
    "```python\n",
    "import matplotlib.pyplot as plt\n",
    "import matplotlib.font_manager as fm\n",
    "\n",
    "# 폰트 목록에서 폰트 찾기\n",
    "for font in fm.fontManager.ttflist:\n",
    "    if 'Nanum' in font.name:\n",
    "        print(font.name, font.fname)\n",
    "```"
   ]
  },
  {
   "cell_type": "markdown",
   "metadata": {
    "id": "TaZb8_nUse1U"
   },
   "source": [
    "### matplotlib 한글 확인"
   ]
  },
  {
   "cell_type": "code",
   "execution_count": null,
   "metadata": {
    "id": "7LEXOTiBtBV9"
   },
   "outputs": [],
   "source": [
    "import matplotlib.pyplot as plt\n",
    "import matplotlib.font_manager as fm\n",
    "%matplotlib inline"
   ]
  },
  {
   "cell_type": "code",
   "execution_count": null,
   "metadata": {
    "id": "usCDfVLwsvRT"
   },
   "outputs": [],
   "source": [
    "# 폰트 목록에서 폰트 찾기\n",
    "for font in fm.fontManager.ttflist:\n",
    "    if 'Nanum' in font.name:\n",
    "        print(font.name, font.fname)"
   ]
  },
  {
   "cell_type": "code",
   "execution_count": null,
   "metadata": {
    "id": "233Pb8Nvq_Sq"
   },
   "outputs": [],
   "source": [
    "# 전역 폰트 설정 사용\n",
    "# font_path = 'C:/Windows/Fonts/NanumGothic.ttf'\n",
    "# font_path = '/Users/qkboo/Library/Fonts/NanumGothic.otf'\n",
    "font_path = \"/usr/share/fonts/truetype/nanum/NanumGothic.ttf\"\n",
    "\n",
    "fontname = fm.FontProperties(fname=font_path, size=18).get_name()  # 폰트 패밀리 이름!\n",
    "# plt.rc('font', family=fontname)\n",
    "plt.rcParams[\"font.family\"] = fontname\n",
    "plt.rcParams[\"font.size\"] = 12\n",
    "\n",
    "# matplotlib 설정\n",
    "plt.rcParams[\"axes.grid\"] = True\n",
    "plt.rcParams[\"figure.figsize\"] = (10,3)\n",
    "plt.rcParams[\"axes.formatter.useoffset\"] = False\n",
    "plt.rcParams['axes.unicode_minus'] = False\n",
    "plt.rcParams[\"axes.formatter.limits\"] = -10000, 10000\n",
    "\n",
    "plt.title('한글 타이틀...')"
   ]
  },
  {
   "cell_type": "code",
   "execution_count": null,
   "metadata": {
    "id": "rsXVwm1Nq-05"
   },
   "outputs": [],
   "source": []
  },
  {
   "cell_type": "markdown",
   "metadata": {
    "id": "iGHvT1fpQs5Y"
   },
   "source": [
    "# TensorFlow 2.0"
   ]
  },
  {
   "cell_type": "code",
   "execution_count": null,
   "metadata": {
    "id": "rOrv8xtHQSV1",
    "outputId": "31939504-bc8d-4f4f-ef84-7b7666177efe"
   },
   "outputs": [],
   "source": [
    "%tensorflow_version 2.x"
   ]
  },
  {
   "cell_type": "code",
   "execution_count": null,
   "metadata": {
    "id": "1vi8n_dTtemV"
   },
   "outputs": [],
   "source": [
    "# GPU 사용 가능 확인 ( \"/device:GPU:0\" 문자열이 반환되면 GPU 사용 가능함 의미)\n",
    "\n",
    "import tensorflow as tf\n",
    "device_name = tf.test.gpu_device_name()\n",
    "device_name"
   ]
  },
  {
   "cell_type": "markdown",
   "metadata": {
    "id": "GKrMJc4vIekh"
   },
   "source": [
    "# 케라스 MNIST(손글씨 인식)\n",
    "\n",
    "https://elitedatascience.com/keras-tutorial-deep-learning-in-python"
   ]
  },
  {
   "cell_type": "code",
   "execution_count": null,
   "metadata": {
    "id": "PNrNBrQ0uJYc",
    "outputId": "a95773cd-68f2-4f5b-c22e-4ee13249cc27"
   },
   "outputs": [],
   "source": [
    "from tensorflow.keras.models import Sequential\n",
    "from tensorflow.keras.layers import Dense, Dropout, Activation, Flatten\n",
    "from tensorflow.keras.layers import Convolution2D, MaxPooling2D\n",
    "from tensorflow.keras.datasets import mnist\n",
    "from tensorflow.keras.utils import to_categorical\n",
    "\n",
    "import matplotlib.pyplot as plt\n",
    "from datetime import  datetime\n",
    "\n",
    "(X_train, y_train), (X_test, y_test) = mnist.load_data()\n",
    "\n",
    "print(\"X_train shape\", X_train.shape)\n",
    "print(\"y_train shape\", y_train.shape)"
   ]
  },
  {
   "cell_type": "code",
   "execution_count": null,
   "metadata": {
    "id": "pmddnJc1_d4G",
    "outputId": "a0c48048-78d9-4174-c4f9-f0e9ef9f6773"
   },
   "outputs": [],
   "source": [
    "\n",
    "for i in range(9):\n",
    "    plt.subplot(3,3,i+1)\n",
    "    plt.imshow(X_train[i], cmap='gray', interpolation='none')\n",
    "    plt.title(\"Class {}\".format(y_train[i]))"
   ]
  },
  {
   "cell_type": "code",
   "execution_count": null,
   "metadata": {
    "id": "TzC9WhFHLIl3",
    "outputId": "54e71c53-66a9-445b-a7c6-c9aeaee7d10e"
   },
   "outputs": [],
   "source": [
    "X_train = X_train.reshape(X_train.shape[0], 1, 28, 28)\n",
    "X_test = X_test.reshape(X_test.shape[0], 1, 28, 28)\n",
    "X_train = X_train.astype('float32')\n",
    "X_test = X_test.astype('float32')\n",
    "X_train /= 255\n",
    "X_test /= 255\n",
    " \n",
    "Y_train = to_categorical(y_train, 10)\n",
    "Y_test = to_categorical(y_test, 10)\n",
    " \n",
    "model = Sequential()\n",
    "model.add(Convolution2D(32, (3, 3), activation='relu', \n",
    "                        input_shape=(1,28,28), \n",
    "                        data_format='channels_first'))\n",
    "model.add(Convolution2D(32, (3, 3), activation='relu'))\n",
    "model.add(MaxPooling2D(pool_size=(2,2)))\n",
    "model.add(Dropout(0.25))\n",
    " \n",
    "model.add(Flatten())\n",
    "model.add(Dense(128, activation='relu'))\n",
    "model.add(Dropout(0.5))\n",
    "model.add(Dense(10, activation='softmax'))\n",
    " \n",
    "model.compile(loss='categorical_crossentropy',\n",
    "              optimizer='adam',\n",
    "              metrics=['accuracy'])\n",
    " \n",
    "start = datetime.now()\n",
    "model.fit(X_train, Y_train, \n",
    "          batch_size=32, epochs=10, verbose=1)\n",
    "\n",
    "print('Elapsed time :', datetime.now() - start)"
   ]
  },
  {
   "cell_type": "code",
   "execution_count": null,
   "metadata": {
    "id": "N9sMJI8NNEWt",
    "outputId": "1fe77f24-bb3c-4c85-d042-2a654094af9a"
   },
   "outputs": [],
   "source": [
    "score = model.evaluate(X_test, Y_test, verbose=0)\n",
    "\n",
    "print('Test score:', score[0])\n",
    "print('Test accuracy:', score[1])"
   ]
  },
  {
   "cell_type": "markdown",
   "metadata": {
    "id": "tXhGQFI-NuPn"
   },
   "source": [
    "# 구글 Colab 요약\n",
    "* 사양: 80G HDD 공간, 2.3GHz Xeon CPU, 13G 메모리 (우분투 18.04)\n",
    "* Tensorflow, SciKit learn 등 다양한 라이브러리 기본 설치\n",
    "* GPU 지원\n",
    "* CNN 예제 GPU 미사용시 46분 57초, GPU사용시 3분 42초 소요 (10배 이상 빠르다) \n",
    "* 필요한 패키지 추가 설치 가능 (pip)\n",
    "* 구글 드라이브와 연동"
   ]
  },
  {
   "cell_type": "markdown",
   "metadata": {
    "id": "B-vGPr5kNuR6"
   },
   "source": [
    "\n",
    "---\n"
   ]
  }
 ],
 "metadata": {
  "accelerator": "GPU",
  "colab": {
   "collapsed_sections": [],
   "provenance": []
  },
  "kernelspec": {
   "display_name": "Python 3 (ipykernel)",
   "language": "python",
   "name": "python3"
  },
  "language_info": {
   "codemirror_mode": {
    "name": "ipython",
    "version": 3
   },
   "file_extension": ".py",
   "mimetype": "text/x-python",
   "name": "python",
   "nbconvert_exporter": "python",
   "pygments_lexer": "ipython3",
   "version": "3.10.6"
  }
 },
 "nbformat": 4,
 "nbformat_minor": 4
}
